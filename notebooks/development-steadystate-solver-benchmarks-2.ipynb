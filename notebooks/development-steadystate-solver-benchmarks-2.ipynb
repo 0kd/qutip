{
 "metadata": {
  "name": "development-steadystate-solver-benchmarks-2"
 },
 "nbformat": 3,
 "nbformat_minor": 0,
 "worksheets": [
  {
   "cells": [
    {
     "cell_type": "markdown",
     "metadata": {},
     "source": [
      "# QuTiP development notebook for testing steadystate solvers\n",
      "\n",
      "Copyright (C) 2013, Paul D. Nation & Robert J. Johansson"
     ]
    },
    {
     "cell_type": "code",
     "collapsed": false,
     "input": [
      "%pylab inline"
     ],
     "language": "python",
     "metadata": {},
     "outputs": [
      {
       "output_type": "stream",
       "stream": "stdout",
       "text": [
        "\n",
        "Welcome to pylab, a matplotlib-based Python environment [backend: module://IPython.kernel.zmq.pylab.backend_inline].\n",
        "For more information, type 'help(pylab)'.\n"
       ]
      }
     ],
     "prompt_number": 1
    },
    {
     "cell_type": "code",
     "collapsed": false,
     "input": [
      "from qutip import *"
     ],
     "language": "python",
     "metadata": {},
     "outputs": [],
     "prompt_number": 2
    },
    {
     "cell_type": "code",
     "collapsed": false,
     "input": [
      "import time"
     ],
     "language": "python",
     "metadata": {},
     "outputs": [],
     "prompt_number": 3
    },
    {
     "cell_type": "markdown",
     "metadata": {},
     "source": [
      "### Setup"
     ]
    },
    {
     "cell_type": "code",
     "collapsed": false,
     "input": [
      "reps = 1"
     ],
     "language": "python",
     "metadata": {},
     "outputs": [],
     "prompt_number": 4
    },
    {
     "cell_type": "code",
     "collapsed": false,
     "input": [
      "from IPython.display import HTML"
     ],
     "language": "python",
     "metadata": {},
     "outputs": [],
     "prompt_number": 5
    },
    {
     "cell_type": "code",
     "collapsed": false,
     "input": [
      "def show_bm_mat(bm_mat, solvers):\n",
      "    \n",
      "    m = bm_mat[bm_mat > 0].min()\n",
      "    \n",
      "    html = \"<table>\"\n",
      "\n",
      "    html += \"<tr><td><b>Solver</b></td><td><b>Elapsed time</b></td><td><b>Ratio</b></td></tr>\"\n",
      "    \n",
      "    for idx, (desc, func) in enumerate(solvers):\n",
      "    \n",
      "        if bm_mat[idx] == m:\n",
      "            html += \"<tr><td><b>%s</b></td><td><b>%.8f</b></td><td><b>%.2f</b></td></tr>\" % \\\n",
      "                (desc, bm_mat[idx], bm_mat[idx]/m)\n",
      "        else:\n",
      "            html += \"<tr><td>%s</td><td>%.8f</td><td>%.2f</td></tr>\" % \\\n",
      "                (desc, bm_mat[idx], bm_mat[idx]/m)\n",
      "            \n",
      "    \n",
      "    html += \"</table>\"\n",
      "\n",
      "    return HTML(html)"
     ],
     "language": "python",
     "metadata": {},
     "outputs": [],
     "prompt_number": 6
    },
    {
     "cell_type": "code",
     "collapsed": false,
     "input": [
      "def benchmark_steadystate_solvers(args, solvers, problem_func):\n",
      "\n",
      "    bm_mat = zeros(len(solvers))\n",
      "\n",
      "    H, c_ops = problem_func(args)\n",
      "    \n",
      "    for sol_idx, solver in enumerate(solvers):\n",
      "        solver_name, solver_func = solver\n",
      "        try:\n",
      "            t1 = time.time()\n",
      "            for r in range(reps):\n",
      "                rhoss = solver_func(H, c_ops)\n",
      "            t2 = time.time()\n",
      "            bm_mat[sol_idx] = (t2 - t1)/reps\n",
      "    \n",
      "        except:\n",
      "            bm_mat[sol_idx] = nan\n",
      "            \n",
      "    return bm_mat"
     ],
     "language": "python",
     "metadata": {},
     "outputs": [],
     "prompt_number": 7
    },
    {
     "cell_type": "code",
     "collapsed": false,
     "input": [
      "solvers = [[\"power use_umfpack=True\",          \n",
      "            lambda H, c_ops: steadystate(H, c_ops, method='power', use_umfpack=True)],\n",
      "           [\"power use_umfpack=False\",         \n",
      "            lambda H, c_ops: steadystate(H, c_ops, method='power', use_umfpack=False)],\n",
      "           [\"direct sparse use_umfpack=True\",  \n",
      "            lambda H, c_ops: steadystate(H, c_ops, use_umfpack=True, sparse=True)],\n",
      "           [\"direct sparse use_umfpack=False\", \n",
      "            lambda H, c_ops: steadystate(H, c_ops, use_umfpack=False, sparse=True)],\n",
      "           [\"iterative use_precond=True\",      \n",
      "            lambda H, c_ops: steadystate(H, c_ops, method='iterative', use_precond=True)],\n",
      "           [\"iterative use_precond=False\",     \n",
      "            lambda H, c_ops: steadystate(H, c_ops, method='iterative', use_precond=False)],\n",
      "           [\"iterative-bicg use_precond=True\",  \n",
      "            lambda H, c_ops: steadystate(H, c_ops, method='iterative-bicg', use_precond=True)],\n",
      "           [\"iterative-bicg use_precond=False\", \n",
      "            lambda H, c_ops: steadystate(H, c_ops, method='iterative-bicg', use_precond=False)],\n",
      "           [\"direct dense use_umfpack=True\",   \n",
      "            lambda H, c_ops: steadystate(H, c_ops, use_umfpack=True, sparse=False)],\n",
      "           [\"direct dense use_umfpack=False\",  \n",
      "            lambda H, c_ops: steadystate(H, c_ops, use_umfpack=False, sparse=False)],\n",
      "           [\"svd_dense\",                       \n",
      "            lambda H, c_ops: steadystate(H, c_ops, method='svd')],\n",
      "           [\"lu\",                              \n",
      "            lambda H, c_ops: steadystate(H, c_ops, method='lu')],\n",
      "          ]"
     ],
     "language": "python",
     "metadata": {},
     "outputs": [],
     "prompt_number": 8
    },
    {
     "cell_type": "code",
     "collapsed": false,
     "input": [
      "large_solvers = [\n",
      "    [\"power use_umfpack=True\",          \n",
      "     lambda H, c_ops: steadystate(H, c_ops, method='power', use_umfpack=True)],\n",
      "    [\"power use_umfpack=False\",         \n",
      "     lambda H, c_ops: steadystate(H, c_ops, method='power', use_umfpack=False)],\n",
      "    [\"direct sparse use_umfpack=True\",  \n",
      "     lambda H, c_ops: steadystate(H, c_ops, use_umfpack=True, sparse=True)],\n",
      "    [\"direct sparse use_umfpack=False\", \n",
      "     lambda H, c_ops: steadystate(H, c_ops, use_umfpack=False, sparse=True)],\n",
      "    [\"iterative use_precond=True\",      \n",
      "     lambda H, c_ops: steadystate(H, c_ops, method='iterative', use_precond=True)],\n",
      "    [\"iterative-bicg use_precond=True\",  \n",
      "     lambda H, c_ops: steadystate(H, c_ops, method='iterative-bicg', use_precond=True)],\n",
      "   ]"
     ],
     "language": "python",
     "metadata": {},
     "outputs": [],
     "prompt_number": 9
    },
    {
     "cell_type": "markdown",
     "metadata": {},
     "source": [
      "### Test problem 1"
     ]
    },
    {
     "cell_type": "code",
     "collapsed": false,
     "input": [
      "def bm_problem1(N):\n",
      "\n",
      "    a = tensor(destroy(N), identity(2))\n",
      "    b = tensor(identity(N), destroy(2))\n",
      "\n",
      "    H = a.dag() * a + b.dag() * b + 0.25 * (a + a.dag()) * (b + b.dag())\n",
      "\n",
      "    c_ops = [sqrt(0.1) * a, sqrt(0.075) * a.dag(), sqrt(0.1) * b]\n",
      "    \n",
      "    return H, c_ops"
     ],
     "language": "python",
     "metadata": {},
     "outputs": [],
     "prompt_number": 10
    },
    {
     "cell_type": "code",
     "collapsed": false,
     "input": [
      "bm_mat = benchmark_steadystate_solvers(10, solvers, bm_problem1)\n",
      "show_bm_mat(bm_mat, solvers)"
     ],
     "language": "python",
     "metadata": {},
     "outputs": [
      {
       "output_type": "stream",
       "stream": "stderr",
       "text": [
        "/usr/local/lib/python3.3/dist-packages/qutip/steadystate.py:313: UserWarning: Preconditioning failed. Continuing without.\n",
        "  UserWarning)\n"
       ]
      },
      {
       "html": [
        "<table><tr><td><b>Solver</b></td><td><b>Elapsed time</b></td><td><b>Ratio</b></td></tr><tr><td>power use_umfpack=True</td><td>0.02916813</td><td>1.85</td></tr><tr><td>power use_umfpack=False</td><td>0.02739334</td><td>1.74</td></tr><tr><td>direct sparse use_umfpack=True</td><td>0.01652694</td><td>1.05</td></tr><tr><td><b>direct sparse use_umfpack=False</b></td><td><b>0.01573801</b></td><td><b>1.00</b></td></tr><tr><td>iterative use_precond=True</td><td>0.43234277</td><td>27.47</td></tr><tr><td>iterative use_precond=False</td><td>0.42819381</td><td>27.21</td></tr><tr><td>iterative-bicg use_precond=True</td><td>0.06231260</td><td>3.96</td></tr><tr><td>iterative-bicg use_precond=False</td><td>0.05960870</td><td>3.79</td></tr><tr><td>direct dense use_umfpack=True</td><td>0.03880239</td><td>2.47</td></tr><tr><td>direct dense use_umfpack=False</td><td>0.03653073</td><td>2.32</td></tr><tr><td>svd_dense</td><td>0.44225574</td><td>28.10</td></tr><tr><td>lu</td><td>0.01648235</td><td>1.05</td></tr></table>"
       ],
       "metadata": {},
       "output_type": "pyout",
       "prompt_number": 11,
       "text": [
        "<IPython.core.display.HTML at 0x7f127b8510d0>"
       ]
      }
     ],
     "prompt_number": 11
    },
    {
     "cell_type": "code",
     "collapsed": false,
     "input": [
      "bm_mat = benchmark_steadystate_solvers(50, large_solvers, bm_problem1)\n",
      "show_bm_mat(bm_mat, large_solvers)"
     ],
     "language": "python",
     "metadata": {},
     "outputs": [
      {
       "html": [
        "<table><tr><td><b>Solver</b></td><td><b>Elapsed time</b></td><td><b>Ratio</b></td></tr><tr><td>power use_umfpack=True</td><td>0.32456708</td><td>1.31</td></tr><tr><td>power use_umfpack=False</td><td>0.31319475</td><td>1.26</td></tr><tr><td><b>direct sparse use_umfpack=True</b></td><td><b>0.24840331</b></td><td><b>1.00</b></td></tr><tr><td>direct sparse use_umfpack=False</td><td>0.30327606</td><td>1.22</td></tr><tr><td>iterative use_precond=True</td><td>33.98314643</td><td>136.81</td></tr><tr><td>iterative-bicg use_precond=True</td><td>7.67640686</td><td>30.90</td></tr></table>"
       ],
       "metadata": {},
       "output_type": "pyout",
       "prompt_number": 12,
       "text": [
        "<IPython.core.display.HTML at 0x7f127b851e10>"
       ]
      }
     ],
     "prompt_number": 12
    },
    {
     "cell_type": "markdown",
     "metadata": {},
     "source": [
      "### Test problem 2: high temperature harmonic oscillator"
     ]
    },
    {
     "cell_type": "code",
     "collapsed": false,
     "input": [
      "def bm_problem2(N):\n",
      "    \n",
      "    a = destroy(N)\n",
      "    H = a.dag() * a\n",
      "    nth = N / 4\n",
      "    gamma = 0.05\n",
      "    c_ops = [sqrt(gamma * (nth + 1)) * a, sqrt(gamma * nth) * a.dag()]\n",
      "\n",
      "    return H, c_ops"
     ],
     "language": "python",
     "metadata": {},
     "outputs": [],
     "prompt_number": 13
    },
    {
     "cell_type": "code",
     "collapsed": false,
     "input": [
      "bm_mat = benchmark_steadystate_solvers(50, solvers, bm_problem2)\n",
      "show_bm_mat(bm_mat, solvers)"
     ],
     "language": "python",
     "metadata": {},
     "outputs": [
      {
       "html": [
        "<table><tr><td><b>Solver</b></td><td><b>Elapsed time</b></td><td><b>Ratio</b></td></tr><tr><td>power use_umfpack=True</td><td>0.03364372</td><td>2.42</td></tr><tr><td>power use_umfpack=False</td><td>0.03033590</td><td>2.18</td></tr><tr><td>direct sparse use_umfpack=True</td><td>0.01719785</td><td>1.24</td></tr><tr><td>direct sparse use_umfpack=False</td><td>0.01426435</td><td>1.03</td></tr><tr><td>iterative use_precond=True</td><td>0.09206986</td><td>6.63</td></tr><tr><td>iterative use_precond=False</td><td>0.08676171</td><td>6.25</td></tr><tr><td>iterative-bicg use_precond=True</td><td>0.03430629</td><td>2.47</td></tr><tr><td>iterative-bicg use_precond=False</td><td>0.03278184</td><td>2.36</td></tr><tr><td>direct dense use_umfpack=True</td><td>3.36820340</td><td>242.57</td></tr><tr><td>direct dense use_umfpack=False</td><td>3.32772589</td><td>239.65</td></tr><tr><td>svd_dense</td><td>75.43926764</td><td>5432.95</td></tr><tr><td><b>lu</b></td><td><b>0.01388550</b></td><td><b>1.00</b></td></tr></table>"
       ],
       "metadata": {},
       "output_type": "pyout",
       "prompt_number": 14,
       "text": [
        "<IPython.core.display.HTML at 0x7f127b831050>"
       ]
      }
     ],
     "prompt_number": 14
    },
    {
     "cell_type": "markdown",
     "metadata": {},
     "source": [
      "### Test problem 3: Coupled oscillators"
     ]
    },
    {
     "cell_type": "code",
     "collapsed": false,
     "input": [
      "def bm_problem3(N):\n",
      "    \n",
      "    a = tensor(destroy(N), identity(N))\n",
      "    b = tensor(identity(N), destroy(N))\n",
      "    \n",
      "    H = a.dag() * a + 0.25 * b.dag() * b + 0.05 * a.dag() * a * (b + b.dag()) + 0.1 * (a + a.dag()) \n",
      "\n",
      "    c_ops = [sqrt(0.05) * a, sqrt(0.015) * a.dag(), sqrt(0.1) * b, sqrt(0.075) * b.dag()]\n",
      "\n",
      "    return H, c_ops"
     ],
     "language": "python",
     "metadata": {},
     "outputs": [],
     "prompt_number": 15
    },
    {
     "cell_type": "code",
     "collapsed": false,
     "input": [
      "bm_mat = benchmark_steadystate_solvers(10, large_solvers, bm_problem3)\n",
      "show_bm_mat(bm_mat, large_solvers)"
     ],
     "language": "python",
     "metadata": {},
     "outputs": [
      {
       "html": [
        "<table><tr><td><b>Solver</b></td><td><b>Elapsed time</b></td><td><b>Ratio</b></td></tr><tr><td>power use_umfpack=True</td><td>5.85999799</td><td>1.65</td></tr><tr><td>power use_umfpack=False</td><td>36.74135661</td><td>10.32</td></tr><tr><td>direct sparse use_umfpack=True</td><td>6.58239245</td><td>1.85</td></tr><tr><td>direct sparse use_umfpack=False</td><td>30.97871280</td><td>8.70</td></tr><tr><td>iterative use_precond=True</td><td>17.51768565</td><td>4.92</td></tr><tr><td><b>iterative-bicg use_precond=True</b></td><td><b>3.55952168</b></td><td><b>1.00</b></td></tr></table>"
       ],
       "metadata": {},
       "output_type": "pyout",
       "prompt_number": 16,
       "text": [
        "<IPython.core.display.HTML at 0x7f127b8695d0>"
       ]
      }
     ],
     "prompt_number": 16
    },
    {
     "cell_type": "markdown",
     "metadata": {},
     "source": [
      "### Test problem 4: a two level system "
     ]
    },
    {
     "cell_type": "code",
     "collapsed": false,
     "input": [
      "def bm_problem4(args=None):\n",
      "\n",
      "    sz = sigmaz()    \n",
      "    sx = sigmax()\n",
      "    \n",
      "    H = sz\n",
      "    c_ops = [sqrt(0.05) * sx]\n",
      "\n",
      "    return H, c_ops"
     ],
     "language": "python",
     "metadata": {},
     "outputs": [],
     "prompt_number": 17
    },
    {
     "cell_type": "code",
     "collapsed": false,
     "input": [
      "bm_mat = benchmark_steadystate_solvers(None, solvers, bm_problem4)\n",
      "show_bm_mat(bm_mat, solvers)"
     ],
     "language": "python",
     "metadata": {},
     "outputs": [
      {
       "html": [
        "<table><tr><td><b>Solver</b></td><td><b>Elapsed time</b></td><td><b>Ratio</b></td></tr><tr><td>power use_umfpack=True</td><td>0.02261543</td><td>3.68</td></tr><tr><td>power use_umfpack=False</td><td>0.01756930</td><td>2.86</td></tr><tr><td>direct sparse use_umfpack=True</td><td>0.00705862</td><td>1.15</td></tr><tr><td>direct sparse use_umfpack=False</td><td>0.00676775</td><td>1.10</td></tr><tr><td>iterative use_precond=True</td><td>0.00725341</td><td>1.18</td></tr><tr><td>iterative use_precond=False</td><td>0.00705600</td><td>1.15</td></tr><tr><td>iterative-bicg use_precond=True</td><td>0.00666523</td><td>1.08</td></tr><tr><td>iterative-bicg use_precond=False</td><td>0.00658607</td><td>1.07</td></tr><tr><td><b>direct dense use_umfpack=True</b></td><td><b>0.00615358</b></td><td><b>1.00</b></td></tr><tr><td>direct dense use_umfpack=False</td><td>0.00621700</td><td>1.01</td></tr><tr><td>svd_dense</td><td>0.00855279</td><td>1.39</td></tr><tr><td>lu</td><td>0.00653887</td><td>1.06</td></tr></table>"
       ],
       "metadata": {},
       "output_type": "pyout",
       "prompt_number": 18,
       "text": [
        "<IPython.core.display.HTML at 0x7f127b84b290>"
       ]
      }
     ],
     "prompt_number": 18
    },
    {
     "cell_type": "markdown",
     "metadata": {},
     "source": [
      "### Test problem 5: spin chain"
     ]
    },
    {
     "cell_type": "code",
     "collapsed": false,
     "input": [
      "def bm_problem5(N=1):\n",
      "\n",
      "    H = 0\n",
      "    for m in range(N):\n",
      "        H += tensor([sigmaz() if n == m else identity(2) for n in range(N)])\n",
      "\n",
      "    for m in range(N-1):\n",
      "        H += tensor([sigmax() if n in [m,m+1] else identity(2) for n in range(N)])      \n",
      "        \n",
      "    c_ops = [sqrt(0.05) * tensor([sigmam() if n == m else identity(2) for n in range(N)])\n",
      "             for m in range(N)]\n",
      "   \n",
      "    return H, c_ops"
     ],
     "language": "python",
     "metadata": {},
     "outputs": [],
     "prompt_number": 19
    },
    {
     "cell_type": "code",
     "collapsed": false,
     "input": [
      "bm_mat = benchmark_steadystate_solvers(2, solvers, bm_problem5)\n",
      "show_bm_mat(bm_mat, solvers)"
     ],
     "language": "python",
     "metadata": {},
     "outputs": [
      {
       "html": [
        "<table><tr><td><b>Solver</b></td><td><b>Elapsed time</b></td><td><b>Ratio</b></td></tr><tr><td>power use_umfpack=True</td><td>0.02586627</td><td>2.82</td></tr><tr><td>power use_umfpack=False</td><td>0.02087522</td><td>2.28</td></tr><tr><td>direct sparse use_umfpack=True</td><td>0.01018262</td><td>1.11</td></tr><tr><td>direct sparse use_umfpack=False</td><td>0.00986290</td><td>1.08</td></tr><tr><td>iterative use_precond=True</td><td>0.01052976</td><td>1.15</td></tr><tr><td>iterative use_precond=False</td><td>0.01028085</td><td>1.12</td></tr><tr><td>iterative-bicg use_precond=True</td><td>0.01029730</td><td>1.12</td></tr><tr><td>iterative-bicg use_precond=False</td><td>0.01010823</td><td>1.10</td></tr><tr><td>direct dense use_umfpack=True</td><td>0.00917983</td><td>1.00</td></tr><tr><td><b>direct dense use_umfpack=False</b></td><td><b>0.00915694</b></td><td><b>1.00</b></td></tr><tr><td>svd_dense</td><td>0.01094937</td><td>1.20</td></tr><tr><td>lu</td><td>0.00953960</td><td>1.04</td></tr></table>"
       ],
       "metadata": {},
       "output_type": "pyout",
       "prompt_number": 20,
       "text": [
        "<IPython.core.display.HTML at 0x7f127b8311d0>"
       ]
      }
     ],
     "prompt_number": 20
    },
    {
     "cell_type": "code",
     "collapsed": false,
     "input": [
      "bm_mat = benchmark_steadystate_solvers(4, solvers, bm_problem5)\n",
      "show_bm_mat(bm_mat, solvers)"
     ],
     "language": "python",
     "metadata": {},
     "outputs": [
      {
       "html": [
        "<table><tr><td><b>Solver</b></td><td><b>Elapsed time</b></td><td><b>Ratio</b></td></tr><tr><td>power use_umfpack=True</td><td>0.03116131</td><td>1.59</td></tr><tr><td>power use_umfpack=False</td><td>0.03086758</td><td>1.58</td></tr><tr><td>direct sparse use_umfpack=True</td><td>0.01955295</td><td>1.00</td></tr><tr><td>direct sparse use_umfpack=False</td><td>0.01959515</td><td>1.00</td></tr><tr><td>iterative use_precond=True</td><td>0.28134298</td><td>14.40</td></tr><tr><td>iterative use_precond=False</td><td>0.27840805</td><td>14.25</td></tr><tr><td>iterative-bicg use_precond=True</td><td>0.07416892</td><td>3.80</td></tr><tr><td>iterative-bicg use_precond=False</td><td>0.07012081</td><td>3.59</td></tr><tr><td>direct dense use_umfpack=True</td><td>0.02505207</td><td>1.28</td></tr><tr><td>direct dense use_umfpack=False</td><td>0.02388430</td><td>1.22</td></tr><tr><td>svd_dense</td><td>0.16138172</td><td>8.26</td></tr><tr><td><b>lu</b></td><td><b>0.01953888</b></td><td><b>1.00</b></td></tr></table>"
       ],
       "metadata": {},
       "output_type": "pyout",
       "prompt_number": 21,
       "text": [
        "<IPython.core.display.HTML at 0x7f129bef4b90>"
       ]
      }
     ],
     "prompt_number": 21
    },
    {
     "cell_type": "code",
     "collapsed": false,
     "input": [
      "bm_mat = benchmark_steadystate_solvers(6, large_solvers, bm_problem5)\n",
      "show_bm_mat(bm_mat, large_solvers)"
     ],
     "language": "python",
     "metadata": {},
     "outputs": [
      {
       "html": [
        "<table><tr><td><b>Solver</b></td><td><b>Elapsed time</b></td><td><b>Ratio</b></td></tr><tr><td>power use_umfpack=True</td><td>1.13102937</td><td>1.09</td></tr><tr><td>power use_umfpack=False</td><td>9.89397168</td><td>9.54</td></tr><tr><td><b>direct sparse use_umfpack=True</b></td><td><b>1.03677464</b></td><td><b>1.00</b></td></tr><tr><td>direct sparse use_umfpack=False</td><td>9.37157845</td><td>9.04</td></tr><tr><td>iterative use_precond=True</td><td>7.97046876</td><td>7.69</td></tr><tr><td>iterative-bicg use_precond=True</td><td>2.75992823</td><td>2.66</td></tr></table>"
       ],
       "metadata": {},
       "output_type": "pyout",
       "prompt_number": 22,
       "text": [
        "<IPython.core.display.HTML at 0x7f127b8312d0>"
       ]
      }
     ],
     "prompt_number": 22
    },
    {
     "cell_type": "markdown",
     "metadata": {},
     "source": [
      "### Software versions"
     ]
    },
    {
     "cell_type": "code",
     "collapsed": false,
     "input": [
      "from qutip.ipynbtools import version_table\n",
      "\n",
      "version_table()"
     ],
     "language": "python",
     "metadata": {},
     "outputs": [
      {
       "html": [
        "<table><tr><th>Software</th><th>Version</th></tr><tr><td>SciPy</td><td>0.13.0.dev-38faf7c</td></tr><tr><td>QuTiP</td><td>2.3.0.dev-4e75871</td></tr><tr><td>Cython</td><td>0.19.1</td></tr><tr><td>matplotlib</td><td>1.4.x</td></tr><tr><td>Numpy</td><td>1.8.0.dev-b55f275</td></tr><tr><td>OS</td><td>posix [linux]</td></tr><tr><td>Python</td><td>3.3.1 (default, Apr 17 2013, 22:30:32) \n",
        "[GCC 4.7.3]</td></tr><tr><td>IPython</td><td>1.0.dev</td></tr><tr><td colspan='2'>Thu Jul 18 16:04:08 2013 JST</td></tr></table>"
       ],
       "metadata": {},
       "output_type": "pyout",
       "prompt_number": 23,
       "text": [
        "<IPython.core.display.HTML at 0x7f127b7f6550>"
       ]
      }
     ],
     "prompt_number": 23
    }
   ],
   "metadata": {}
  }
 ]
}