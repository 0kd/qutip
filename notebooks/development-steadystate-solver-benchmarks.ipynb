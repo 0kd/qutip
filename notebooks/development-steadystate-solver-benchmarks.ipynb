{
 "metadata": {
  "name": "development-steadystate-solver-benchmarks"
 },
 "nbformat": 3,
 "nbformat_minor": 0,
 "worksheets": [
  {
   "cells": [
    {
     "cell_type": "markdown",
     "metadata": {},
     "source": [
      "# QuTiP development notebook for testing and benchmarking steadystate solvers\n",
      "\n",
      "Copyright (C) 2013, Paul D. Nation & Robert J. Johansson"
     ]
    },
    {
     "cell_type": "code",
     "collapsed": false,
     "input": [
      "%pylab inline"
     ],
     "language": "python",
     "metadata": {},
     "outputs": [
      {
       "output_type": "stream",
       "stream": "stdout",
       "text": [
        "\n",
        "Welcome to pylab, a matplotlib-based Python environment [backend: module://IPython.zmq.pylab.backend_inline].\n",
        "For more information, type 'help(pylab)'.\n"
       ]
      }
     ],
     "prompt_number": 1
    },
    {
     "cell_type": "code",
     "collapsed": false,
     "input": [
      "from qutip import *"
     ],
     "language": "python",
     "metadata": {},
     "outputs": [],
     "prompt_number": 2
    },
    {
     "cell_type": "code",
     "collapsed": false,
     "input": [
      "import time"
     ],
     "language": "python",
     "metadata": {},
     "outputs": [],
     "prompt_number": 3
    },
    {
     "cell_type": "markdown",
     "metadata": {},
     "source": [
      "### Setup"
     ]
    },
    {
     "cell_type": "code",
     "collapsed": false,
     "input": [
      "reps = 1"
     ],
     "language": "python",
     "metadata": {},
     "outputs": [],
     "prompt_number": 4
    },
    {
     "cell_type": "code",
     "collapsed": false,
     "input": [
      "def plot_bm_mat(bm_mat, N_vec, solvers):\n",
      "    \n",
      "    fig, ax = subplots(figsize=(12, 8))\n",
      "    \n",
      "    for idx, solver in enumerate(solvers):\n",
      "        solver_name, solver_func = solver\n",
      "        ax.plot(N_vec, bm_mat[:, idx], label=solver_name, linewidth=2)\n",
      "        \n",
      "    ax.set_yscale('log')\n",
      "    ax.set_xlabel(\"Hilbert space size (N)\", fontsize=18)\n",
      "    ax.set_ylabel(\"Elapsed time\", fontsize=18)\n",
      "    ax.legend(loc=0)\n",
      "    ax.axis('tight')"
     ],
     "language": "python",
     "metadata": {},
     "outputs": [],
     "prompt_number": 5
    },
    {
     "cell_type": "code",
     "collapsed": false,
     "input": [
      "def benchmark_steadystate_solvers(N_vec, solvers, problem_func):\n",
      "\n",
      "    bm_mat = zeros((len(N_vec), len(solvers)))\n",
      "\n",
      "    for N_idx, N in enumerate(N_vec):\n",
      "        H, c_ops = problem_func(N)\n",
      "    \n",
      "        for sol_idx, solver in enumerate(solvers):\n",
      "            solver_name, solver_func = solver\n",
      "            try:\n",
      "                t1 = time.time()\n",
      "                for r in range(reps):\n",
      "                    rhoss = solver_func(H, c_ops)\n",
      "                t2 = time.time()\n",
      "                bm_mat[N_idx, sol_idx] = (t2 - t1)/reps\n",
      "        \n",
      "            except:\n",
      "                bm_mat[N_idx, sol_idx] = 0\n",
      "            \n",
      "    return bm_mat"
     ],
     "language": "python",
     "metadata": {},
     "outputs": [],
     "prompt_number": 6
    },
    {
     "cell_type": "markdown",
     "metadata": {},
     "source": [
      "### Test problem 1"
     ]
    },
    {
     "cell_type": "code",
     "collapsed": false,
     "input": [
      "def bm_problem1(N):\n",
      "\n",
      "    a = tensor(destroy(N), identity(2))\n",
      "    b = tensor(identity(N), destroy(2))\n",
      "\n",
      "    H = a.dag() * a + b.dag() * b + 0.25 * (a + a.dag()) * (b + b.dag())\n",
      "\n",
      "    c_ops = [sqrt(0.1) * a, sqrt(0.075) * a.dag(), sqrt(0.1) * b]\n",
      "    \n",
      "    return H, c_ops"
     ],
     "language": "python",
     "metadata": {},
     "outputs": [],
     "prompt_number": 7
    },
    {
     "cell_type": "code",
     "collapsed": false,
     "input": [
      "N_vec = array([2, 5, 10, 15, 20, 25, 30, 35, 40])"
     ],
     "language": "python",
     "metadata": {},
     "outputs": [],
     "prompt_number": 8
    },
    {
     "cell_type": "code",
     "collapsed": false,
     "input": [
      "solvers = [[\"steadystate_power use_umfpack=True\",          lambda H, c_ops: steadystate(H, c_ops, method='power', use_umfpack=True)],\n",
      "           [\"steadystate_power use_umfpack=False\",         lambda H, c_ops: steadystate(H, c_ops, method='power', use_umfpack=False)],\n",
      "           [\"steadystate_direct sparse use_umfpack=True\",  lambda H, c_ops: steadystate(H, c_ops, use_umfpack=True, sparse=True)],\n",
      "           [\"steadystate_direct sparse use_umfpack=False\", lambda H, c_ops: steadystate(H, c_ops, use_umfpack=False, sparse=True)],\n",
      "           [\"steadystate_iterative use_precond=True\",      lambda H, c_ops: steadystate(H, c_ops, method='iterative', use_precond=True)],\n",
      "           [\"steadystate_iterative use_precond=False\",     lambda H, c_ops: steadystate(H, c_ops, method='iterative', use_precond=False)],\n",
      "           [\"steadystate_direct dense use_umfpack=True\",   lambda H, c_ops: steadystate(H, c_ops, use_umfpack=True, sparse=False)],\n",
      "           [\"steadystate_direct dense use_umfpack=False\",  lambda H, c_ops: steadystate(H, c_ops, use_umfpack=False, sparse=False)],\n",
      "           [\"steadystate_svd_dense\",                       lambda H, c_ops: steadystate(H, c_ops, method='svd')],\n",
      "          ]"
     ],
     "language": "python",
     "metadata": {},
     "outputs": [],
     "prompt_number": "*"
    },
    {
     "cell_type": "code",
     "collapsed": false,
     "input": [
      "bm_mat = benchmark_steadystate_solvers(N_vec, solvers, bm_problem1)"
     ],
     "language": "python",
     "metadata": {},
     "outputs": [],
     "prompt_number": "*"
    },
    {
     "cell_type": "code",
     "collapsed": false,
     "input": [
      "plot_bm_mat(bm_mat, 2 * N_vec, solvers)"
     ],
     "language": "python",
     "metadata": {},
     "outputs": [],
     "prompt_number": "*"
    },
    {
     "cell_type": "code",
     "collapsed": false,
     "input": [
      "N_vec = arange(25, 400, 25)"
     ],
     "language": "python",
     "metadata": {},
     "outputs": [],
     "prompt_number": "*"
    },
    {
     "cell_type": "code",
     "collapsed": false,
     "input": [
      "solvers = [[\"steadystate_power use_umfpack=True\",          lambda H, c_ops: steadystate(H, c_ops, method='power', use_umfpack=True)],\n",
      "           [\"steadystate_power use_umfpack=False\",         lambda H, c_ops: steadystate(H, c_ops, method='power', use_umfpack=False)],\n",
      "           [\"steadystate_direct sparse use_umfpack=True\",  lambda H, c_ops: steadystate(H, c_ops, use_umfpack=True, sparse=True)],\n",
      "           [\"steadystate_direct sparse use_umfpack=False\", lambda H, c_ops: steadystate(H, c_ops, use_umfpack=False, sparse=True)],\n",
      "           [\"steadystate_iterative use_precond=True\",      lambda H, c_ops: steadystate(H, c_ops, method='iterative', use_precond=True)]\n",
      "          ]"
     ],
     "language": "python",
     "metadata": {},
     "outputs": [],
     "prompt_number": "*"
    },
    {
     "cell_type": "code",
     "collapsed": false,
     "input": [
      "bm_mat = benchmark_steadystate_solvers(N_vec, solvers, bm_problem1)"
     ],
     "language": "python",
     "metadata": {},
     "outputs": [],
     "prompt_number": "*"
    },
    {
     "cell_type": "code",
     "collapsed": false,
     "input": [
      "plot_bm_mat(bm_mat, 2 * N_vec, solvers)"
     ],
     "language": "python",
     "metadata": {},
     "outputs": [],
     "prompt_number": "*"
    },
    {
     "cell_type": "code",
     "collapsed": false,
     "input": [
      "H, c_ops = bm_problem1(10)"
     ],
     "language": "python",
     "metadata": {},
     "outputs": [],
     "prompt_number": "*"
    },
    {
     "cell_type": "markdown",
     "metadata": {},
     "source": [
      "### Test problem 2"
     ]
    },
    {
     "cell_type": "code",
     "collapsed": false,
     "input": [
      "def bm_problem2(N):\n",
      "    \n",
      "    a = destroy(N)\n",
      "    H = a.dag() * a\n",
      "    nth = N / 4\n",
      "    gamma = 0.05\n",
      "    c_ops = [sqrt(gamma * (nth + 1)) * a, sqrt(gamma * nth) * a.dag()]\n",
      "\n",
      "    return H, c_ops"
     ],
     "language": "python",
     "metadata": {},
     "outputs": [],
     "prompt_number": "*"
    },
    {
     "cell_type": "code",
     "collapsed": false,
     "input": [
      "N_vec = array([2, 5, 10, 15, 20, 25])"
     ],
     "language": "python",
     "metadata": {},
     "outputs": [],
     "prompt_number": "*"
    },
    {
     "cell_type": "code",
     "collapsed": false,
     "input": [
      "solvers = [[\"steadystate_power use_umfpack=True\",          lambda H, c_ops: steadystate(H, c_ops, method='power', use_umfpack=True)],\n",
      "           [\"steadystate_power use_umfpack=False\",         lambda H, c_ops: steadystate(H, c_ops, method='power', use_umfpack=False)],\n",
      "           [\"steadystate_direct sparse use_umfpack=True\",  lambda H, c_ops: steadystate(H, c_ops, use_umfpack=True, sparse=True)],\n",
      "           [\"steadystate_direct sparse use_umfpack=False\", lambda H, c_ops: steadystate(H, c_ops, use_umfpack=False, sparse=True)],\n",
      "           [\"steadystate_iterative use_precond=True\",      lambda H, c_ops: steadystate(H, c_ops, method='iterative', use_precond=True)],\n",
      "           [\"steadystate_iterative use_precond=False\",     lambda H, c_ops: steadystate(H, c_ops, method='iterative', use_precond=False)],\n",
      "           [\"steadystate_direct dense use_umfpack=True\",   lambda H, c_ops: steadystate(H, c_ops, use_umfpack=True, sparse=False)],\n",
      "           [\"steadystate_direct dense use_umfpack=False\",  lambda H, c_ops: steadystate(H, c_ops, use_umfpack=False, sparse=False)],\n",
      "           [\"steadystate_svd_dense\",                       lambda H, c_ops: steadystate(H, c_ops, method='svd')],\n",
      "          ]"
     ],
     "language": "python",
     "metadata": {},
     "outputs": [],
     "prompt_number": "*"
    },
    {
     "cell_type": "code",
     "collapsed": false,
     "input": [
      "bm_mat = benchmark_steadystate_solvers(N_vec, solvers, bm_problem2)"
     ],
     "language": "python",
     "metadata": {},
     "outputs": [],
     "prompt_number": "*"
    },
    {
     "cell_type": "code",
     "collapsed": false,
     "input": [
      "plot_bm_mat(bm_mat, N_vec, solvers)"
     ],
     "language": "python",
     "metadata": {},
     "outputs": [],
     "prompt_number": "*"
    },
    {
     "cell_type": "code",
     "collapsed": false,
     "input": [
      "N_vec = arange(25, 300, 25)"
     ],
     "language": "python",
     "metadata": {},
     "outputs": [],
     "prompt_number": "*"
    },
    {
     "cell_type": "code",
     "collapsed": false,
     "input": [
      "solvers = [[\"steadystate_power use_umfpack=True\",          lambda H, c_ops: steadystate(H, c_ops, method='power', use_umfpack=True)],\n",
      "           [\"steadystate_power use_umfpack=False\",         lambda H, c_ops: steadystate(H, c_ops, method='power', use_umfpack=False)],\n",
      "           [\"steadystate_direct sparse use_umfpack=True\",  lambda H, c_ops: steadystate(H, c_ops, use_umfpack=True, sparse=True)],\n",
      "           [\"steadystate_direct sparse use_umfpack=False\", lambda H, c_ops: steadystate(H, c_ops, use_umfpack=False, sparse=True)],\n",
      "           [\"steadystate_iterative use_precond=True\",      lambda H, c_ops: steadystate(H, c_ops, method='iterative', use_precond=True)]\n",
      "          ]"
     ],
     "language": "python",
     "metadata": {},
     "outputs": [],
     "prompt_number": "*"
    },
    {
     "cell_type": "code",
     "collapsed": false,
     "input": [
      "bm_mat = benchmark_steadystate_solvers(N_vec, solvers, bm_problem2)"
     ],
     "language": "python",
     "metadata": {},
     "outputs": [],
     "prompt_number": "*"
    },
    {
     "cell_type": "code",
     "collapsed": false,
     "input": [
      "plot_bm_mat(bm_mat, N_vec, solvers)"
     ],
     "language": "python",
     "metadata": {},
     "outputs": [],
     "prompt_number": "*"
    },
    {
     "cell_type": "markdown",
     "metadata": {},
     "source": [
      "### Problem 3"
     ]
    },
    {
     "cell_type": "code",
     "collapsed": false,
     "input": [
      "def bm_problem3(N):\n",
      "    \n",
      "    a = tensor(destroy(N), identity(N))\n",
      "    b = tensor(identity(N), destroy(N))\n",
      "    \n",
      "    H = a.dag() * a + 0.25 * b.dag() * b + 0.05 * a.dag() * a * (b + b.dag()) + 0.1 * (a + a.dag()) \n",
      "\n",
      "    c_ops = [sqrt(0.05) * a, sqrt(0.015) * a.dag(), sqrt(0.1) * b, sqrt(0.075) * b.dag()]\n",
      "\n",
      "    return H, c_ops"
     ],
     "language": "python",
     "metadata": {},
     "outputs": [],
     "prompt_number": "*"
    },
    {
     "cell_type": "code",
     "collapsed": false,
     "input": [
      "N_vec = array([2, 4, 6, 8, 10])"
     ],
     "language": "python",
     "metadata": {},
     "outputs": [],
     "prompt_number": "*"
    },
    {
     "cell_type": "code",
     "collapsed": false,
     "input": [
      "bm_mat = benchmark_steadystate_solvers(N_vec, solvers, bm_problem3)"
     ],
     "language": "python",
     "metadata": {},
     "outputs": [],
     "prompt_number": "*"
    },
    {
     "cell_type": "code",
     "collapsed": false,
     "input": [
      "plot_bm_mat(bm_mat, N_vec ** 2, solvers)"
     ],
     "language": "python",
     "metadata": {},
     "outputs": [],
     "prompt_number": "*"
    },
    {
     "cell_type": "markdown",
     "metadata": {},
     "source": [
      "### Profiling of the two best performing solvers for a big problem"
     ]
    },
    {
     "cell_type": "code",
     "collapsed": false,
     "input": [
      "H, c_ops = bm_problem1(300)"
     ],
     "language": "python",
     "metadata": {},
     "outputs": [],
     "prompt_number": "*"
    },
    {
     "cell_type": "code",
     "collapsed": false,
     "input": [
      "%%prun -q -T steadystate.txt\n",
      "\n",
      "steadystate(H, c_ops)"
     ],
     "language": "python",
     "metadata": {},
     "outputs": [],
     "prompt_number": "*"
    },
    {
     "cell_type": "code",
     "collapsed": false,
     "input": [
      "!head -n 20 steadystate.txt"
     ],
     "language": "python",
     "metadata": {},
     "outputs": [],
     "prompt_number": "*"
    },
    {
     "cell_type": "code",
     "collapsed": false,
     "input": [
      "%%prun -q -T steadystate_direct.txt\n",
      "\n",
      "steadystate_direct(H, c_ops)"
     ],
     "language": "python",
     "metadata": {},
     "outputs": [],
     "prompt_number": "*"
    },
    {
     "cell_type": "code",
     "collapsed": false,
     "input": [
      "!head -n 20 steadystate_direct.txt"
     ],
     "language": "python",
     "metadata": {},
     "outputs": [],
     "prompt_number": "*"
    },
    {
     "cell_type": "code",
     "collapsed": false,
     "input": [
      "%%prun -q -T steadystate_iterative.txt\n",
      "\n",
      "steadystate_iterative(H, c_ops)"
     ],
     "language": "python",
     "metadata": {},
     "outputs": [],
     "prompt_number": "*"
    },
    {
     "cell_type": "code",
     "collapsed": false,
     "input": [
      "!head -n 20 steadystate_iterative.txt"
     ],
     "language": "python",
     "metadata": {},
     "outputs": [],
     "prompt_number": "*"
    },
    {
     "cell_type": "markdown",
     "metadata": {},
     "source": [
      "### Software versions"
     ]
    },
    {
     "cell_type": "code",
     "collapsed": false,
     "input": [
      "from qutip.ipynbtools import version_table\n",
      "\n",
      "version_table()"
     ],
     "language": "python",
     "metadata": {},
     "outputs": [],
     "prompt_number": "*"
    }
   ],
   "metadata": {}
  }
 ]
}