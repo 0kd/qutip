{
 "metadata": {
  "name": "test-eigenvalues"
 },
 "nbformat": 3,
 "nbformat_minor": 0,
 "worksheets": [
  {
   "cells": [
    {
     "cell_type": "markdown",
     "metadata": {},
     "source": [
      "# QuTiP test notebook: Test sparse/dense eigenvalue/eigenvector solvers\n",
      "\n",
      "Copyright (C) 2011 and later, Paul D. Nation & Robert J. Johansson"
     ]
    },
    {
     "cell_type": "code",
     "collapsed": false,
     "input": [
      "from qutip import *"
     ],
     "language": "python",
     "metadata": {},
     "outputs": [],
     "prompt_number": 1
    },
    {
     "cell_type": "code",
     "collapsed": false,
     "input": [
      "N = 15\n",
      "H = rand_dm(N) - rand_dm(N)"
     ],
     "language": "python",
     "metadata": {},
     "outputs": [],
     "prompt_number": 2
    },
    {
     "cell_type": "markdown",
     "metadata": {},
     "source": [
      "### Test groundstate"
     ]
    },
    {
     "cell_type": "code",
     "collapsed": false,
     "input": [
      "H.isherm = False\n",
      "e, eket1 = H.groundstate()"
     ],
     "language": "python",
     "metadata": {},
     "outputs": [
      {
       "output_type": "stream",
       "stream": "stdout",
       "text": [
        "sp_eigs\n",
        "sp_eigs: dense -> vectors\n"
       ]
      }
     ],
     "prompt_number": 3
    },
    {
     "cell_type": "code",
     "collapsed": false,
     "input": [
      "e"
     ],
     "language": "python",
     "metadata": {},
     "outputs": [
      {
       "output_type": "pyout",
       "prompt_number": 4,
       "text": [
        "(-0.24919934558327819-3.884597422589402e-19j)"
       ]
      }
     ],
     "prompt_number": 4
    },
    {
     "cell_type": "code",
     "collapsed": false,
     "input": [
      "eket1"
     ],
     "language": "python",
     "metadata": {},
     "outputs": [
      {
       "latex": [
        "\\begin{equation}\\text{Quantum object: dims = [[15], [1]], shape = [15, 1], type = ket}\\\\[1em]\\begin{pmatrix}(-0.112+0.043j)\\\\(0.064+0.019j)\\\\(0.104-0.026j)\\\\(0.263-0.089j)\\\\(0.013-0.112j)\\\\\\vdots\\\\(0.390-0.025j)\\\\(-0.069-0.083j)\\\\(0.025-0.055j)\\\\(0.091+0.069j)\\\\(0.378-0.170j)\\\\\\end{pmatrix}\\end{equation}"
       ],
       "output_type": "pyout",
       "prompt_number": 5,
       "text": [
        "Quantum object: dims = [[15], [1]], shape = [15, 1], type = ket\n",
        "Qobj data =\n",
        "[[-0.11159463+0.0429936j ]\n",
        " [ 0.06440160+0.01919659j]\n",
        " [ 0.10413308-0.02611582j]\n",
        " [ 0.26333137-0.08897878j]\n",
        " [ 0.01346536-0.11249543j]\n",
        " [ 0.47577812+0.j        ]\n",
        " [ 0.38281128-0.01240754j]\n",
        " [ 0.27746467-0.08929786j]\n",
        " [ 0.23432775-0.04218474j]\n",
        " [ 0.10400879-0.02985198j]\n",
        " [ 0.39006909-0.02536338j]\n",
        " [-0.06932020-0.08285741j]\n",
        " [ 0.02467131-0.05526413j]\n",
        " [ 0.09056815+0.06856971j]\n",
        " [ 0.37823755-0.17040692j]]"
       ]
      }
     ],
     "prompt_number": 5
    },
    {
     "cell_type": "code",
     "collapsed": false,
     "input": [
      "(H * eket1).full() / (eket1).full()"
     ],
     "language": "python",
     "metadata": {},
     "outputs": [
      {
       "output_type": "pyout",
       "prompt_number": 6,
       "text": [
        "array([[-0.24919935 +1.35357565e-16j],\n",
        "       [-0.24919935 -4.08178090e-16j],\n",
        "       [-0.24919935 -1.17547016e-16j],\n",
        "       [-0.24919935 +0.00000000e+00j],\n",
        "       [-0.24919935 +2.73646398e-16j],\n",
        "       [-0.24919935 -3.00801318e-17j],\n",
        "       [-0.24919935 -2.15022121e-17j],\n",
        "       [-0.24919935 -1.13305137e-17j],\n",
        "       [-0.24919935 -3.58529445e-17j],\n",
        "       [-0.24919935 +1.54092541e-17j],\n",
        "       [-0.24919935 -1.77139902e-17j],\n",
        "       [-0.24919935 +1.45327868e-15j],\n",
        "       [-0.24919935 +1.06002408e-15j],\n",
        "       [-0.24919935 -6.57448706e-16j],\n",
        "       [-0.24919935 +1.52499551e-17j]])"
       ]
      }
     ],
     "prompt_number": 6
    },
    {
     "cell_type": "code",
     "collapsed": false,
     "input": [
      "H.isherm = True\n",
      "e, eket2 = H.groundstate()"
     ],
     "language": "python",
     "metadata": {},
     "outputs": [
      {
       "output_type": "stream",
       "stream": "stdout",
       "text": [
        "sp_eigs\n",
        "sp_eigs: dense -> vectors\n"
       ]
      }
     ],
     "prompt_number": 7
    },
    {
     "cell_type": "code",
     "collapsed": false,
     "input": [
      "e"
     ],
     "language": "python",
     "metadata": {},
     "outputs": [
      {
       "output_type": "pyout",
       "prompt_number": 8,
       "text": [
        "-0.24919934558327705"
       ]
      }
     ],
     "prompt_number": 8
    },
    {
     "cell_type": "code",
     "collapsed": false,
     "input": [
      "eket2"
     ],
     "language": "python",
     "metadata": {},
     "outputs": [
      {
       "latex": [
        "\\begin{equation}\\text{Quantum object: dims = [[15], [1]], shape = [15, 1], type = ket}\\\\[1em]\\begin{pmatrix}-0.120\\\\(0.053+0.041j)\\\\(0.107+0.013j)\\\\(0.278+0.012j)\\\\(0.053-0.100j)\\\\\\vdots\\\\(0.373+0.117j)\\\\(-0.035-0.102j)\\\\(0.043-0.043j)\\\\(0.060+0.097j)\\\\(0.414-0.023j)\\\\\\end{pmatrix}\\end{equation}"
       ],
       "output_type": "pyout",
       "prompt_number": 9,
       "text": [
        "Quantum object: dims = [[15], [1]], shape = [15, 1], type = ket\n",
        "Qobj data =\n",
        "[[-0.11959017+0.j        ]\n",
        " [ 0.05319452+0.04106602j]\n",
        " [ 0.10655980+0.01306688j]\n",
        " [ 0.27771415+0.01163983j]\n",
        " [ 0.05300808-0.10013332j]\n",
        " [ 0.44396859+0.17104594j]\n",
        " [ 0.36167793+0.12604563j]\n",
        " [ 0.29101724+0.01642312j]\n",
        " [ 0.23382683+0.04487829j]\n",
        " [ 0.10778700+0.00953583j]\n",
        " [ 0.37310822+0.11656523j]\n",
        " [-0.03489772-0.10223889j]\n",
        " [ 0.04288972-0.04269976j]\n",
        " [ 0.05986161+0.09654524j]\n",
        " [ 0.41421199-0.02303453j]]"
       ]
      }
     ],
     "prompt_number": 9
    },
    {
     "cell_type": "code",
     "collapsed": false,
     "input": [
      "(H * eket2).full() / (eket2).full()"
     ],
     "language": "python",
     "metadata": {},
     "outputs": [
      {
       "output_type": "pyout",
       "prompt_number": 10,
       "text": [
        "array([[-0.24919935 -2.90111370e-17j],\n",
        "       [-0.24919935 -4.90396356e-16j],\n",
        "       [-0.24919935 +2.40572669e-17j],\n",
        "       [-0.24919935 -2.96185368e-17j],\n",
        "       [-0.24919935 +1.75915581e-16j],\n",
        "       [-0.24919935 -2.72184601e-17j],\n",
        "       [-0.24919935 -1.71075099e-17j],\n",
        "       [-0.24919935 +3.86228203e-17j],\n",
        "       [-0.24919935 +3.57763019e-17j],\n",
        "       [-0.24919935 +4.79070256e-17j],\n",
        "       [-0.24919935 -2.54156334e-17j],\n",
        "       [-0.24919935 +1.82361397e-16j],\n",
        "       [-0.24919935 +6.09385096e-17j],\n",
        "       [-0.24919935 -1.29784686e-17j],\n",
        "       [-0.24919935 +2.08754863e-18j]])"
       ]
      }
     ],
     "prompt_number": 10
    },
    {
     "cell_type": "code",
     "collapsed": false,
     "input": [
      "eket1.full() / eket2.full()"
     ],
     "language": "python",
     "metadata": {},
     "outputs": [
      {
       "output_type": "pyout",
       "prompt_number": 11,
       "text": [
        "array([[ 0.93314209-0.35950778j],\n",
        "       [ 0.93314209-0.35950778j],\n",
        "       [ 0.93314209-0.35950778j],\n",
        "       [ 0.93314209-0.35950778j],\n",
        "       [ 0.93314209-0.35950778j],\n",
        "       [ 0.93314209-0.35950778j],\n",
        "       [ 0.93314209-0.35950778j],\n",
        "       [ 0.93314209-0.35950778j],\n",
        "       [ 0.93314209-0.35950778j],\n",
        "       [ 0.93314209-0.35950778j],\n",
        "       [ 0.93314209-0.35950778j],\n",
        "       [ 0.93314209-0.35950778j],\n",
        "       [ 0.93314209-0.35950778j],\n",
        "       [ 0.93314209-0.35950778j],\n",
        "       [ 0.93314209-0.35950778j]])"
       ]
      }
     ],
     "prompt_number": 11
    },
    {
     "cell_type": "code",
     "collapsed": false,
     "input": [
      "abs(eket1.full() / eket2.full()).T"
     ],
     "language": "python",
     "metadata": {},
     "outputs": [
      {
       "output_type": "pyout",
       "prompt_number": 12,
       "text": [
        "array([[ 1.,  1.,  1.,  1.,  1.,  1.,  1.,  1.,  1.,  1.,  1.,  1.,  1.,\n",
        "         1.,  1.]])"
       ]
      }
     ],
     "prompt_number": 12
    },
    {
     "cell_type": "markdown",
     "metadata": {},
     "source": [
      "### Test eigenstates/eigenvectors"
     ]
    },
    {
     "cell_type": "code",
     "collapsed": false,
     "input": [
      "evals, evecs = la.eig(H.full())"
     ],
     "language": "python",
     "metadata": {},
     "outputs": [],
     "prompt_number": 13
    },
    {
     "cell_type": "code",
     "collapsed": false,
     "input": [
      "evals"
     ],
     "language": "python",
     "metadata": {},
     "outputs": [
      {
       "output_type": "pyout",
       "prompt_number": 14,
       "text": [
        "array([-0.24919935 -3.88459742e-19j,  0.23162708 +8.32673612e-18j,\n",
        "       -0.09651452 +9.52803105e-18j, -0.06485272 -4.09954176e-18j,\n",
        "        0.07945907 +5.41992582e-19j,  0.06932174 -4.73662022e-19j,\n",
        "        0.05852751 +4.09402840e-18j, -0.05069594 -3.37515732e-18j,\n",
        "        0.03746397 +3.30864102e-18j,  0.02109699 -4.83434141e-18j,\n",
        "        0.01408942 -4.08467355e-18j, -0.02590409 -2.53836706e-18j,\n",
        "       -0.01485494 -4.44796044e-18j, -0.00316130 -4.99149718e-18j,\n",
        "       -0.00640292 +1.38134107e-18j])"
       ]
      }
     ],
     "prompt_number": 14
    },
    {
     "cell_type": "markdown",
     "metadata": {},
     "source": [
      "### Test eigenenergies with eigenvectors"
     ]
    },
    {
     "cell_type": "code",
     "collapsed": false,
     "input": [
      "H.eigenstates()[0]"
     ],
     "language": "python",
     "metadata": {},
     "outputs": [
      {
       "output_type": "stream",
       "stream": "stdout",
       "text": [
        "sp_eigs\n",
        "sp_eigs: dense -> vectors\n"
       ]
      },
      {
       "output_type": "pyout",
       "prompt_number": 15,
       "text": [
        "array([-0.24919935, -0.09651452, -0.06485272, -0.05069594, -0.02590409,\n",
        "       -0.01485494, -0.00640292, -0.0031613 ,  0.01408942,  0.02109699,\n",
        "        0.03746397,  0.05852751,  0.06932174,  0.07945907,  0.23162708])"
       ]
      }
     ],
     "prompt_number": 15
    },
    {
     "cell_type": "markdown",
     "metadata": {},
     "source": [
      "#### hermitian"
     ]
    },
    {
     "cell_type": "code",
     "collapsed": false,
     "input": [
      "H.isherm = True"
     ],
     "language": "python",
     "metadata": {},
     "outputs": [],
     "prompt_number": 16
    },
    {
     "cell_type": "code",
     "collapsed": false,
     "input": [
      "H.eigenstates(sparse=False, eigvals=5, sort='low')[0]"
     ],
     "language": "python",
     "metadata": {},
     "outputs": [
      {
       "output_type": "stream",
       "stream": "stdout",
       "text": [
        "sp_eigs\n",
        "sp_eigs: dense -> vectors\n"
       ]
      },
      {
       "output_type": "pyout",
       "prompt_number": 17,
       "text": [
        "array([-0.24919935, -0.09651452, -0.06485272, -0.05069594, -0.02590409])"
       ]
      }
     ],
     "prompt_number": 17
    },
    {
     "cell_type": "code",
     "collapsed": false,
     "input": [
      "H.eigenstates(sparse=False, eigvals=5, sort='high')[0]"
     ],
     "language": "python",
     "metadata": {},
     "outputs": [
      {
       "output_type": "stream",
       "stream": "stdout",
       "text": [
        "sp_eigs\n",
        "sp_eigs: dense -> vectors\n"
       ]
      },
      {
       "output_type": "pyout",
       "prompt_number": 18,
       "text": [
        "array([ 0.23162708,  0.07945907,  0.06932174,  0.05852751,  0.03746397])"
       ]
      }
     ],
     "prompt_number": 18
    },
    {
     "cell_type": "code",
     "collapsed": false,
     "input": [
      "H.eigenstates(sparse=True, eigvals=5, sort='low')[0]"
     ],
     "language": "python",
     "metadata": {},
     "outputs": [
      {
       "output_type": "stream",
       "stream": "stdout",
       "text": [
        "sp_eigs\n",
        "sp_eigs: sparse -> vectors\n"
       ]
      },
      {
       "output_type": "pyout",
       "prompt_number": 19,
       "text": [
        "array([-0.01485494, -0.00640292, -0.0031613 ,  0.01408942,  0.02109699])"
       ]
      }
     ],
     "prompt_number": 19
    },
    {
     "cell_type": "code",
     "collapsed": false,
     "input": [
      "H.eigenstates(sparse=True, eigvals=5, sort='high')[0]"
     ],
     "language": "python",
     "metadata": {},
     "outputs": [
      {
       "output_type": "stream",
       "stream": "stdout",
       "text": [
        "sp_eigs\n",
        "sp_eigs: sparse -> vectors\n"
       ]
      },
      {
       "output_type": "pyout",
       "prompt_number": 20,
       "text": [
        "array([ 0.23162708,  0.07945907,  0.06932174, -0.09651452, -0.24919935])"
       ]
      }
     ],
     "prompt_number": 20
    },
    {
     "cell_type": "markdown",
     "metadata": {},
     "source": [
      "#### nonhermitian"
     ]
    },
    {
     "cell_type": "code",
     "collapsed": false,
     "input": [
      "H.isherm = False"
     ],
     "language": "python",
     "metadata": {},
     "outputs": [],
     "prompt_number": 21
    },
    {
     "cell_type": "code",
     "collapsed": false,
     "input": [
      "H.eigenstates(sparse=False, eigvals=5, sort='low')[0]"
     ],
     "language": "python",
     "metadata": {},
     "outputs": [
      {
       "output_type": "stream",
       "stream": "stdout",
       "text": [
        "sp_eigs\n",
        "sp_eigs: dense -> vectors\n"
       ]
      },
      {
       "output_type": "pyout",
       "prompt_number": 22,
       "text": [
        "array([-0.24919935 -3.88459742e-19j, -0.09651452 +9.52803105e-18j,\n",
        "       -0.06485272 -4.09954176e-18j, -0.05069594 -3.37515732e-18j,\n",
        "       -0.02590409 -2.53836706e-18j])"
       ]
      }
     ],
     "prompt_number": 22
    },
    {
     "cell_type": "code",
     "collapsed": false,
     "input": [
      "H.eigenstates(sparse=False, eigvals=5, sort='high')[0]"
     ],
     "language": "python",
     "metadata": {},
     "outputs": [
      {
       "output_type": "stream",
       "stream": "stdout",
       "text": [
        "sp_eigs\n",
        "sp_eigs: dense -> vectors\n"
       ]
      },
      {
       "output_type": "pyout",
       "prompt_number": 23,
       "text": [
        "array([ 0.23162708 +8.32673612e-18j,  0.07945907 +5.41992582e-19j,\n",
        "        0.06932174 -4.73662022e-19j,  0.05852751 +4.09402840e-18j,\n",
        "        0.03746397 +3.30864102e-18j])"
       ]
      }
     ],
     "prompt_number": 23
    },
    {
     "cell_type": "code",
     "collapsed": false,
     "input": [
      "H.eigenstates(sparse=True, eigvals=5, sort='low')[0]"
     ],
     "language": "python",
     "metadata": {},
     "outputs": [
      {
       "output_type": "stream",
       "stream": "stdout",
       "text": [
        "sp_eigs\n",
        "sp_eigs: sparse -> vectors\n"
       ]
      },
      {
       "output_type": "pyout",
       "prompt_number": 24,
       "text": [
        "array([-0.24919935 +6.87105361e-18j, -0.09651452 -2.19573767e-18j,\n",
        "       -0.06485272 +1.21467772e-18j, -0.05069594 +4.95873579e-19j,\n",
        "       -0.02590409 -1.92205366e-18j])"
       ]
      }
     ],
     "prompt_number": 24
    },
    {
     "cell_type": "code",
     "collapsed": false,
     "input": [
      "H.eigenstates(sparse=True, eigvals=5, sort='high')[0]"
     ],
     "language": "python",
     "metadata": {},
     "outputs": [
      {
       "output_type": "stream",
       "stream": "stdout",
       "text": [
        "sp_eigs\n",
        "sp_eigs: sparse -> vectors\n"
       ]
      },
      {
       "output_type": "pyout",
       "prompt_number": 25,
       "text": [
        "array([ 0.23162708 -7.42545050e-19j,  0.07945907 -2.76518217e-18j,\n",
        "        0.06932174 -4.09180389e-18j,  0.05852751 +1.94402750e-18j,\n",
        "        0.03746397 +4.95623230e-18j])"
       ]
      }
     ],
     "prompt_number": 25
    },
    {
     "cell_type": "markdown",
     "metadata": {},
     "source": [
      "### Test eigenenergies"
     ]
    },
    {
     "cell_type": "markdown",
     "metadata": {},
     "source": [
      "#### hermitian"
     ]
    },
    {
     "cell_type": "code",
     "collapsed": false,
     "input": [
      "H.isherm = True"
     ],
     "language": "python",
     "metadata": {},
     "outputs": [],
     "prompt_number": 26
    },
    {
     "cell_type": "code",
     "collapsed": false,
     "input": [
      "H.eigenenergies(sparse=False, eigvals=5, sort='low')"
     ],
     "language": "python",
     "metadata": {},
     "outputs": [
      {
       "output_type": "stream",
       "stream": "stdout",
       "text": [
        "sp_eigs\n",
        "sp_eigs: dense -> values\n"
       ]
      },
      {
       "output_type": "pyout",
       "prompt_number": 27,
       "text": [
        "array([-0.24919935, -0.09651452, -0.06485272, -0.05069594, -0.02590409])"
       ]
      }
     ],
     "prompt_number": 27
    },
    {
     "cell_type": "code",
     "collapsed": false,
     "input": [
      "H.eigenenergies(sparse=False, eigvals=5, sort='high')"
     ],
     "language": "python",
     "metadata": {},
     "outputs": [
      {
       "output_type": "stream",
       "stream": "stdout",
       "text": [
        "sp_eigs\n",
        "sp_eigs: dense -> values\n"
       ]
      },
      {
       "output_type": "pyout",
       "prompt_number": 28,
       "text": [
        "array([ 0.23162708,  0.07945907,  0.06932174,  0.05852751,  0.03746397])"
       ]
      }
     ],
     "prompt_number": 28
    },
    {
     "cell_type": "code",
     "collapsed": false,
     "input": [
      "H.eigenenergies(sparse=True, eigvals=5, sort='low')"
     ],
     "language": "python",
     "metadata": {},
     "outputs": [
      {
       "output_type": "stream",
       "stream": "stdout",
       "text": [
        "sp_eigs\n",
        "sp_eigs: sparse -> values\n"
       ]
      },
      {
       "output_type": "pyout",
       "prompt_number": 29,
       "text": [
        "array([-0.01485494, -0.00640292, -0.0031613 ,  0.01408942,  0.02109699])"
       ]
      }
     ],
     "prompt_number": 29
    },
    {
     "cell_type": "code",
     "collapsed": false,
     "input": [
      "H.eigenenergies(sparse=True, eigvals=5, sort='high')"
     ],
     "language": "python",
     "metadata": {},
     "outputs": [
      {
       "output_type": "stream",
       "stream": "stdout",
       "text": [
        "sp_eigs\n",
        "sp_eigs: sparse -> values\n"
       ]
      },
      {
       "output_type": "pyout",
       "prompt_number": 30,
       "text": [
        "array([ 0.23162708,  0.07945907,  0.06932174, -0.09651452, -0.24919935])"
       ]
      }
     ],
     "prompt_number": 30
    },
    {
     "cell_type": "markdown",
     "metadata": {},
     "source": [
      "#### nonhermitian"
     ]
    },
    {
     "cell_type": "code",
     "collapsed": false,
     "input": [
      "H.isherm = False"
     ],
     "language": "python",
     "metadata": {},
     "outputs": [],
     "prompt_number": 31
    },
    {
     "cell_type": "code",
     "collapsed": false,
     "input": [
      "H.eigenenergies(sparse=False, eigvals=5, sort='low')"
     ],
     "language": "python",
     "metadata": {},
     "outputs": [
      {
       "output_type": "stream",
       "stream": "stdout",
       "text": [
        "sp_eigs\n",
        "sp_eigs: dense -> values\n"
       ]
      },
      {
       "output_type": "pyout",
       "prompt_number": 32,
       "text": [
        "array([-0.24919935 -3.88459742e-19j, -0.09651452 +9.52803105e-18j,\n",
        "       -0.06485272 -4.09954176e-18j, -0.05069594 -3.37515732e-18j,\n",
        "       -0.02590409 -2.53836706e-18j])"
       ]
      }
     ],
     "prompt_number": 32
    },
    {
     "cell_type": "code",
     "collapsed": false,
     "input": [
      "H.eigenenergies(sparse=False, eigvals=5, sort='high')"
     ],
     "language": "python",
     "metadata": {},
     "outputs": [
      {
       "output_type": "stream",
       "stream": "stdout",
       "text": [
        "sp_eigs\n",
        "sp_eigs: dense -> values\n"
       ]
      },
      {
       "output_type": "pyout",
       "prompt_number": 33,
       "text": [
        "array([ 0.23162708 +8.32673612e-18j,  0.07945907 +5.41992582e-19j,\n",
        "        0.06932174 -4.73662022e-19j,  0.05852751 +4.09402840e-18j,\n",
        "        0.03746397 +3.30864102e-18j])"
       ]
      }
     ],
     "prompt_number": 33
    },
    {
     "cell_type": "code",
     "collapsed": false,
     "input": [
      "H.eigenenergies(sparse=True, eigvals=5, sort='low')"
     ],
     "language": "python",
     "metadata": {},
     "outputs": [
      {
       "output_type": "stream",
       "stream": "stdout",
       "text": [
        "sp_eigs\n",
        "sp_eigs: sparse -> values\n"
       ]
      },
      {
       "output_type": "pyout",
       "prompt_number": 34,
       "text": [
        "array([-0.24919935 -5.91026491e-18j, -0.09651452 -3.03481045e-18j,\n",
        "       -0.06485272 -3.28030941e-18j, -0.05069594 -1.24503253e-18j,\n",
        "       -0.02590409 +2.63773874e-18j])"
       ]
      }
     ],
     "prompt_number": 34
    },
    {
     "cell_type": "code",
     "collapsed": false,
     "input": [
      "H.eigenenergies(sparse=True, eigvals=5, sort='high')"
     ],
     "language": "python",
     "metadata": {},
     "outputs": [
      {
       "output_type": "stream",
       "stream": "stdout",
       "text": [
        "sp_eigs\n",
        "sp_eigs: sparse -> values\n"
       ]
      },
      {
       "output_type": "pyout",
       "prompt_number": 35,
       "text": [
        "array([ 0.23162708 -5.16420321e-18j,  0.07945907 -2.90340760e-18j,\n",
        "        0.06932174 +2.40887769e-18j,  0.05852751 +9.48641624e-18j,\n",
        "        0.03746397 -1.32403558e-18j])"
       ]
      }
     ],
     "prompt_number": 35
    },
    {
     "cell_type": "code",
     "collapsed": false,
     "input": [],
     "language": "python",
     "metadata": {},
     "outputs": [],
     "prompt_number": 35
    }
   ],
   "metadata": {}
  }
 ]
}