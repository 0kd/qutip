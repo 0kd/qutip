{
 "metadata": {
  "name": "development-floquet-test"
 },
 "nbformat": 3,
 "nbformat_minor": 0,
 "worksheets": [
  {
   "cells": [
    {
     "cell_type": "markdown",
     "metadata": {},
     "source": [
      "# QuTiP development notebook for floquet and floquet-markov evolution\n",
      "\n",
      "Copyright (C) 2011-2013, Paul D. Nation & Robert J. Johansson"
     ]
    },
    {
     "cell_type": "code",
     "collapsed": false,
     "input": [
      "%pylab inline"
     ],
     "language": "python",
     "metadata": {},
     "outputs": []
    },
    {
     "cell_type": "code",
     "collapsed": false,
     "input": [
      "from qutip import *"
     ],
     "language": "python",
     "metadata": {},
     "outputs": []
    },
    {
     "cell_type": "code",
     "collapsed": false,
     "input": [
      "import time"
     ],
     "language": "python",
     "metadata": {},
     "outputs": []
    },
    {
     "cell_type": "markdown",
     "metadata": {},
     "source": [
      "### Functions for solving and visualizing the dynamics of driven quantum systems with different solvers"
     ]
    },
    {
     "cell_type": "code",
     "collapsed": false,
     "input": [
      "def solve_floquet_and_me(H, args, psi0, tlist, T, c_ops, e_ops, fc_ops, J_cbs):\n",
      "\n",
      "    sol_list = []\n",
      "    \n",
      "    #\n",
      "    # Solve with unitary floquet solver by going through all steps manually\n",
      "    #\n",
      "    \n",
      "    # find the floquet modes for the time-dependent hamiltonian\n",
      "    f_modes_0, f_energies = floquet_modes(H, T, args)\n",
      "\n",
      "    # decompose the inital state in the floquet modes\n",
      "    f_coeff = floquet_state_decomposition(f_modes_0, f_energies, psi0)\n",
      "\n",
      "    # calculate the wavefunctions using the from the floquet modes\n",
      "    f_modes_table_t = floquet_modes_table(f_modes_0, f_energies, tlist, H, T, args)\n",
      "    \n",
      "    #\n",
      "    sol = Odedata()\n",
      "    sol.times = tlist\n",
      "    sol.solver = \"Floquet WF\"\n",
      "    sol.expect = zeros((len(e_ops), len(tlist)))\n",
      "    \n",
      "    for n, t in enumerate(tlist):\n",
      "        f_modes_t = floquet_modes_t_lookup(f_modes_table_t, t, T)\n",
      "        psi_t = floquet_wavefunction(f_modes_t, f_energies, f_coeff, t)\n",
      "        for e_idx, e in enumerate(e_ops):\n",
      "            sol.expect[e_idx, n] = expect(e, psi_t)\n",
      "    sol_list.append(sol)\n",
      "\n",
      "    #\n",
      "    # Use fsesolve to do the same as above with a single function call\n",
      "    #\n",
      "    sol = fsesolve(H, psi0, tlist, e_ops, T, args)\n",
      "    sol_list.append(sol)\n",
      "    \n",
      "    #\n",
      "    # Solve the floquet-markov master equation by requesting density matrices,\n",
      "    # and then loop through the states and calculate the expectation values.\n",
      "    # Do this with and without asking the solver to transform states back to the\n",
      "    # computational basis.\n",
      "    #\n",
      "    sol = fmmesolve(H, psi0, tlist, fc_ops, [], J_cbs, T, args, floquet_basis=True)\n",
      "    sol.solver = \"Floquet ME states #1\"\n",
      "    sol.expect = zeros((len(e_ops), len(tlist)))\n",
      "    for n, t in enumerate(sol.states):\n",
      "        f_modes_t = floquet_modes_t_lookup(f_modes_table_t, t, T)\n",
      "        f_states_t = floquet_states(f_modes_t, f_energies, t)  \n",
      "        for e_idx, e in enumerate(e_ops):\n",
      "            sol.expect[e_idx, n] = expect(e, rho_list[n].transform(f_modes_t, False))\n",
      "    sol_list.append(sol)\n",
      "\n",
      "    sol = fmmesolve(H, psi0, tlist, fc_ops, [], J_cbs, T, args, floquet_basis=False)\n",
      "    sol.solver = \"Floquet ME states #2\"\n",
      "    sol.expect = zeros((len(e_ops), len(tlist)))\n",
      "    for n, t in enumerate(sol.states):\n",
      "        for e_idx, e in enumerate(e_ops):\n",
      "            sol.expect[e_idx, n] = expect(e, rho_list[n])\n",
      "    sol_list.append(sol)\n",
      "    \n",
      "    #\n",
      "    # Solve the floquet-markov master equation by requesting expectation values\n",
      "    #\n",
      "    sol = fmmesolve(H, psi0, tlist, fc_ops, e_ops, J_cbs, T, args)\n",
      "    sol_list.append(sol)\n",
      "\n",
      "    # \n",
      "    # Solve with mesolve\n",
      "    #\n",
      "    sol = mesolve(H, psi0, tlist, c_ops, e_ops, args)\n",
      "    sol_list.append(sol)\n",
      "\n",
      "    return sol_list"
     ],
     "language": "python",
     "metadata": {},
     "outputs": []
    },
    {
     "cell_type": "code",
     "collapsed": false,
     "input": [
      "def visualize_solutions(sol_list, split=False):\n",
      "\n",
      "    if split:\n",
      "        fig, axes = subplots(len(sol_list), 1, figsize=(12, 3 * len(sol_list)), squeeze=False)\n",
      "    else:\n",
      "        fig, axes = subplots(1, 1, figsize=(12, 6), squeeze=False)\n",
      "        \n",
      "    for idx, sol in enumerate(sol_list):\n",
      "        if not split:\n",
      "            idx = 0\n",
      "\n",
      "        for e_idx, e in enumerate(sol.expect):\n",
      "            axes[idx,0].plot(sol.times, real(e), label=\"%s e_%d\" % (sol.solver, e_idx))\n",
      "\n",
      "        axes[idx,0].set_xlabel('Time')\n",
      "        axes[idx,0].set_ylabel('Occupation probability')\n",
      "        axes[idx,0].legend()"
     ],
     "language": "python",
     "metadata": {},
     "outputs": []
    },
    {
     "cell_type": "markdown",
     "metadata": {},
     "source": [
      "### Single atom rabi oscillotions"
     ]
    },
    {
     "cell_type": "code",
     "collapsed": false,
     "input": [
      "delta = 0.45 * 2*pi\n",
      "eps0  = 1.0 * 2*pi\n",
      "A     = 0.3 * 2*pi\n",
      "omega = sqrt(delta**2 + eps0**2)\n",
      "T      = (2*pi)/omega\n",
      "tlist  = linspace(0.0, 10 * T, 501)\n",
      "psi0   = rand_ket(2)\n",
      "\n",
      "H0 = - eps0/2.0 * sigmaz() - delta/2.0 * sigmax()\n",
      "H1 = A/2.0 * sigmax()\n",
      "args = {'w': omega}\n",
      "H = [H0, [H1, lambda t,args: sin(args['w'] * t)]]\n",
      "\n",
      "# noise power spectrum\n",
      "gamma1 = 0.005\n",
      "def noise_spectrum(omega):\n",
      "    return 0.25 * gamma1 * omega /(2*pi)\n",
      "\n",
      "c_ops = [sqrt(gamma1) * sigmam()]\n",
      "e_ops = [num(2)]\n",
      "fc_ops = [sigmax()]\n",
      "J_cbs = [noise_spectrum]"
     ],
     "language": "python",
     "metadata": {},
     "outputs": []
    },
    {
     "cell_type": "code",
     "collapsed": false,
     "input": [
      "t = time.time()\n",
      "sol_list = solve_floquet_and_me(H, args, psi0, tlist, T, c_ops, e_ops, fc_ops, J_cbs)\n",
      "print \"elapsed =\", time.time() - t"
     ],
     "language": "python",
     "metadata": {},
     "outputs": []
    },
    {
     "cell_type": "code",
     "collapsed": false,
     "input": [
      "visualize_solutions(sol_list)"
     ],
     "language": "python",
     "metadata": {},
     "outputs": []
    },
    {
     "cell_type": "markdown",
     "metadata": {},
     "source": [
      "### JC off resonant with driving"
     ]
    },
    {
     "cell_type": "code",
     "collapsed": false,
     "input": [
      "delta = 0.0 * 2*pi\n",
      "eps0  = 1.0 * 2*pi\n",
      "A     = 0.4 * 2*pi\n",
      "w0 = 2.0 * 2 * pi\n",
      "g = 0.15 * 2 * pi\n",
      "\n",
      "omega = w0 - sqrt(delta**2 + eps0**2)\n",
      "T      = (2*pi)/omega\n",
      "tlist  = linspace(0.0, 10 * T, 1001)\n",
      "N = 2\n",
      "a  = tensor(destroy(N), qeye(2))\n",
      "sx = tensor(qeye(N), sigmax())\n",
      "sz = tensor(qeye(N), sigmaz())\n",
      "sn = tensor(qeye(N), num(2))\n",
      "sm = tensor(qeye(N), destroy(2))\n",
      "n = a.dag() * a\n",
      "\n",
      "psi0 = tensor(basis(N, 1), basis(2,0))\n",
      "\n",
      "H0 = w0 * a.dag() * a - eps0/2.0 * sz - delta/2.0 * sx + g * (a + a.dag()) * sx\n",
      "H1 = A/2.0 * sz\n",
      "args = {'w': omega}\n",
      "H = [H0, [H1, lambda t,args: sin(args['w'] * t)]]\n",
      "\n",
      "# noise power spectrum\n",
      "gamma1 = 0.001\n",
      "def noise_spectrum(omega):\n",
      "    return 0.25 * gamma1 * omega /(2*pi)\n",
      "\n",
      "c_ops = [sqrt(gamma1) * sm]\n",
      "e_ops = [sn, n]\n",
      "fc_ops = [sx]\n",
      "J_cbs = [noise_spectrum]"
     ],
     "language": "python",
     "metadata": {},
     "outputs": []
    },
    {
     "cell_type": "code",
     "collapsed": false,
     "input": [
      "t = time.time()\n",
      "sol_list = solve_floquet_and_me(H, args, psi0, tlist, T, c_ops, e_ops, fc_ops, J_cbs)\n",
      "print \"elapsed =\", time.time() - t"
     ],
     "language": "python",
     "metadata": {},
     "outputs": []
    },
    {
     "cell_type": "code",
     "collapsed": false,
     "input": [
      "visualize_solutions(sol_list)"
     ],
     "language": "python",
     "metadata": {},
     "outputs": []
    }
   ],
   "metadata": {}
  }
 ]
}