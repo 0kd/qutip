{
 "cells": [
  {
   "cell_type": "code",
   "execution_count": 1,
   "metadata": {
    "collapsed": true
   },
   "outputs": [],
   "source": [
    "%matplotlib inline"
   ]
  },
  {
   "cell_type": "code",
   "execution_count": 2,
   "metadata": {
    "collapsed": true
   },
   "outputs": [],
   "source": [
    "import qutip as qt\n",
    "qt.settings.colorblind_safe = True"
   ]
  },
  {
   "cell_type": "markdown",
   "metadata": {},
   "source": [
    "We construct a basic bit-flip channel with uniform probability; this should take $\\sigma_x \\to 0$ under conjugation (channel application)."
   ]
  },
  {
   "cell_type": "code",
   "execution_count": 3,
   "metadata": {
    "collapsed": true
   },
   "outputs": [],
   "source": [
    "X = qt.sigmax()\n",
    "cS = qt.to_choi(X) / 4 + qt.to_choi(qt.qeye(2)) / 4 + qt.to_choi(qt.sigmay()) / 4 + qt.to_choi(qt.sigmaz()) / 4"
   ]
  },
  {
   "cell_type": "code",
   "execution_count": 4,
   "metadata": {
    "collapsed": false
   },
   "outputs": [
    {
     "data": {
      "text/latex": [
       "Quantum object: dims = [[[2], [2]], [[2], [2]]], shape = [4, 4], type = super, isherm = True, superrep = choi\\begin{equation*}\\left(\\begin{array}{*{11}c}0.500 & 0.0 & 0.0 & 0.0\\\\0.0 & 0.500 & 0.0 & 0.0\\\\0.0 & 0.0 & 0.500 & 0.0\\\\0.0 & 0.0 & 0.0 & 0.500\\\\\\end{array}\\right)\\end{equation*}"
      ],
      "text/plain": [
       "Quantum object: dims = [[[2], [2]], [[2], [2]]], shape = [4, 4], type = super, isherm = True, superrep = choi\n",
       "Qobj data =\n",
       "[[ 0.5  0.   0.   0. ]\n",
       " [ 0.   0.5  0.   0. ]\n",
       " [ 0.   0.   0.5  0. ]\n",
       " [ 0.   0.   0.   0.5]]"
      ]
     },
     "execution_count": 4,
     "metadata": {},
     "output_type": "execute_result"
    }
   ],
   "source": [
    "cS"
   ]
  },
  {
   "cell_type": "code",
   "execution_count": 5,
   "metadata": {
    "collapsed": false
   },
   "outputs": [
    {
     "data": {
      "text/plain": [
       "(<matplotlib.figure.Figure at 0x9bd9c88>,\n",
       " <matplotlib.axes._subplots.AxesSubplot at 0x15c37e80>)"
      ]
     },
     "execution_count": 5,
     "metadata": {},
     "output_type": "execute_result"
    },
    {
     "data": {
      "image/png": "[encoded data removed]",
      "text/plain": [
       "<matplotlib.figure.Figure at 0x9bd9c88>"
      ]
     },
     "metadata": {},
     "output_type": "display_data"
    }
   ],
   "source": [
    "qt.visualization.hinton(qt.to_super(cS))"
   ]
  },
  {
   "cell_type": "markdown",
   "metadata": {},
   "source": [
    "This has two Kraus operators, by construction. Since we have a CP map, the left and right Kraus operators agree up to numerical precision."
   ]
  },
  {
   "cell_type": "code",
   "execution_count": 6,
   "metadata": {
    "collapsed": false
   },
   "outputs": [
    {
     "name": "stdout",
     "output_type": "stream",
     "text": [
      "([Quantum object: dims = [[2], [2]], shape = [2, 2], type = oper, isherm = True\n",
      "Qobj data =\n",
      "[[ 0.70710678  0.        ]\n",
      " [ 0.          0.        ]], Quantum object: dims = [[2], [2]], shape = [2, 2], type = oper, isherm = False\n",
      "Qobj data =\n",
      "[[ 0.          0.70710678]\n",
      " [ 0.          0.        ]], Quantum object: dims = [[2], [2]], shape = [2, 2], type = oper, isherm = False\n",
      "Qobj data =\n",
      "[[ 0.          0.        ]\n",
      " [ 0.70710678  0.        ]], Quantum object: dims = [[2], [2]], shape = [2, 2], type = oper, isherm = True\n",
      "Qobj data =\n",
      "[[ 0.          0.        ]\n",
      " [ 0.          0.70710678]]], [Quantum object: dims = [[2], [2]], shape = [2, 2], type = oper, isherm = True\n",
      "Qobj data =\n",
      "[[ 0.70710678  0.        ]\n",
      " [ 0.          0.        ]], Quantum object: dims = [[2], [2]], shape = [2, 2], type = oper, isherm = False\n",
      "Qobj data =\n",
      "[[ 0.          0.70710678]\n",
      " [ 0.          0.        ]], Quantum object: dims = [[2], [2]], shape = [2, 2], type = oper, isherm = False\n",
      "Qobj data =\n",
      "[[ 0.          0.        ]\n",
      " [ 0.70710678  0.        ]], Quantum object: dims = [[2], [2]], shape = [2, 2], type = oper, isherm = True\n",
      "Qobj data =\n",
      "[[ 0.          0.        ]\n",
      " [ 0.          0.70710678]]])\n"
     ]
    }
   ],
   "source": [
    "Ks = qt.superop_reps._generalized_kraus(cS)\n",
    "print Ks"
   ]
  },
  {
   "cell_type": "markdown",
   "metadata": {},
   "source": [
    "Stacking these up, labeled by an ancilla, we get the Stinespring pair."
   ]
  },
  {
   "cell_type": "code",
   "execution_count": 7,
   "metadata": {
    "collapsed": false
   },
   "outputs": [],
   "source": [
    "A, B = qt.superop_reps.choi_to_stinespring(cS)"
   ]
  },
  {
   "cell_type": "code",
   "execution_count": 8,
   "metadata": {
    "collapsed": false
   },
   "outputs": [
    {
     "data": {
      "text/plain": [
       "(Quantum object: dims = [[2, 4], [2]], shape = [8, 2], type = other\n",
       " Qobj data =\n",
       " [[ 0.70710678  0.        ]\n",
       "  [ 0.          0.70710678]\n",
       "  [ 0.          0.        ]\n",
       "  [ 0.          0.        ]\n",
       "  [ 0.          0.        ]\n",
       "  [ 0.          0.        ]\n",
       "  [ 0.70710678  0.        ]\n",
       "  [ 0.          0.70710678]],\n",
       " Quantum object: dims = [[2, 4], [2]], shape = [8, 2], type = other\n",
       " Qobj data =\n",
       " [[ 0.70710678  0.        ]\n",
       "  [ 0.          0.70710678]\n",
       "  [ 0.          0.        ]\n",
       "  [ 0.          0.        ]\n",
       "  [ 0.          0.        ]\n",
       "  [ 0.          0.        ]\n",
       "  [ 0.70710678  0.        ]\n",
       "  [ 0.          0.70710678]])"
      ]
     },
     "execution_count": 8,
     "metadata": {},
     "output_type": "execute_result"
    }
   ],
   "source": [
    "A, B"
   ]
  },
  {
   "cell_type": "markdown",
   "metadata": {},
   "source": [
    "Here, we can again confirm that our map is CP:"
   ]
  },
  {
   "cell_type": "code",
   "execution_count": 9,
   "metadata": {
    "collapsed": false
   },
   "outputs": [
    {
     "data": {
      "text/latex": [
       "Quantum object: dims = [[2, 4], [2]], shape = [8, 2], type = other\\begin{equation*}\\left(\\begin{array}{*{11}c}0.0 & 0.0\\\\0.0 & 0.0\\\\0.0 & 0.0\\\\0.0 & 0.0\\\\0.0 & 0.0\\\\0.0 & 0.0\\\\0.0 & 0.0\\\\0.0 & 0.0\\\\\\end{array}\\right)\\end{equation*}"
      ],
      "text/plain": [
       "Quantum object: dims = [[2, 4], [2]], shape = [8, 2], type = other\n",
       "Qobj data =\n",
       "[[ 0.  0.]\n",
       " [ 0.  0.]\n",
       " [ 0.  0.]\n",
       " [ 0.  0.]\n",
       " [ 0.  0.]\n",
       " [ 0.  0.]\n",
       " [ 0.  0.]\n",
       " [ 0.  0.]]"
      ]
     },
     "execution_count": 9,
     "metadata": {},
     "output_type": "execute_result"
    }
   ],
   "source": [
    "(A - B)"
   ]
  },
  {
   "cell_type": "markdown",
   "metadata": {},
   "source": [
    "We apply a map in Stinespring form by the expression $\\Phi(X) = \\operatorname{Tr}_2(A X B^\\dagger)$, where the partial trace is over the new index introduced to track which Kraus operator acts."
   ]
  },
  {
   "cell_type": "code",
   "execution_count": 10,
   "metadata": {
    "collapsed": true
   },
   "outputs": [],
   "source": [
    "rho = qt.ket2dm(qt.basis(2, 0))"
   ]
  },
  {
   "cell_type": "markdown",
   "metadata": {},
   "source": [
    "By using the superoperator picture, we can find out what $\\Phi(X)$ should be for this map."
   ]
  },
  {
   "cell_type": "code",
   "execution_count": 11,
   "metadata": {
    "collapsed": false
   },
   "outputs": [
    {
     "data": {
      "text/latex": [
       "Quantum object: dims = [[2], [2]], shape = [2, 2], type = oper, isherm = True\\begin{equation*}\\left(\\begin{array}{*{11}c}0.500 & 0.0\\\\0.0 & 0.500\\\\\\end{array}\\right)\\end{equation*}"
      ],
      "text/plain": [
       "Quantum object: dims = [[2], [2]], shape = [2, 2], type = oper, isherm = True\n",
       "Qobj data =\n",
       "[[ 0.5  0. ]\n",
       " [ 0.   0.5]]"
      ]
     },
     "execution_count": 11,
     "metadata": {},
     "output_type": "execute_result"
    }
   ],
   "source": [
    "qt.vector_to_operator(qt.to_super(cS) * qt.operator_to_vector(rho))"
   ]
  },
  {
   "cell_type": "markdown",
   "metadata": {},
   "source": [
    "We confirm that this is in fact what we get:"
   ]
  },
  {
   "cell_type": "code",
   "execution_count": 12,
   "metadata": {
    "collapsed": false
   },
   "outputs": [
    {
     "data": {
      "text/latex": [
       "Quantum object: dims = [[2], [2]], shape = [2, 2], type = oper, isherm = True\\begin{equation*}\\left(\\begin{array}{*{11}c}0.500 & 0.0\\\\0.0 & 0.500\\\\\\end{array}\\right)\\end{equation*}"
      ],
      "text/plain": [
       "Quantum object: dims = [[2], [2]], shape = [2, 2], type = oper, isherm = True\n",
       "Qobj data =\n",
       "[[ 0.5  0. ]\n",
       " [ 0.   0.5]]"
      ]
     },
     "execution_count": 12,
     "metadata": {},
     "output_type": "execute_result"
    }
   ],
   "source": [
    "(A * rho * B.dag()).ptrace((0,))"
   ]
  },
  {
   "cell_type": "markdown",
   "metadata": {},
   "source": [
    "Let's use these to compute diamond norms!"
   ]
  },
  {
   "cell_type": "code",
   "execution_count": 13,
   "metadata": {
    "collapsed": true
   },
   "outputs": [],
   "source": [
    "diff_channel = cS - qt.to_choi(qt.qeye(2))"
   ]
  },
  {
   "cell_type": "code",
   "execution_count": 14,
   "metadata": {
    "collapsed": false
   },
   "outputs": [],
   "source": [
    "A, B = qt.to_stinespring(diff_channel)"
   ]
  },
  {
   "cell_type": "code",
   "execution_count": 15,
   "metadata": {
    "collapsed": false
   },
   "outputs": [
    {
     "data": {
      "text/plain": [
       "(<matplotlib.figure.Figure at 0x15e60a90>,\n",
       " <matplotlib.axes._subplots.AxesSubplot at 0x15c37860>)"
      ]
     },
     "execution_count": 15,
     "metadata": {},
     "output_type": "execute_result"
    },
    {
     "data": {
      "image/png": "[encoded data removed]",
      "text/plain": [
       "<matplotlib.figure.Figure at 0x15e60a90>"
      ]
     },
     "metadata": {},
     "output_type": "display_data"
    }
   ],
   "source": [
    "qt.visualization.hinton(diff_channel)"
   ]
  },
  {
   "cell_type": "code",
   "execution_count": 16,
   "metadata": {
    "collapsed": false
   },
   "outputs": [
    {
     "data": {
      "text/latex": [
       "Quantum object: dims = [[2, 4], [2]], shape = [8, 2], type = other\\begin{equation*}\\left(\\begin{array}{*{11}c}-0.866 & 0.0\\\\0.0 & 0.707\\\\0.0 & 0.0\\\\-0.500 & 0.0\\\\0.0 & -0.866\\\\0.0 & 0.0\\\\0.707 & 0.0\\\\0.0 & 0.500\\\\\\end{array}\\right)\\end{equation*}"
      ],
      "text/plain": [
       "Quantum object: dims = [[2, 4], [2]], shape = [8, 2], type = other\n",
       "Qobj data =\n",
       "[[-0.8660254   0.        ]\n",
       " [ 0.          0.70710678]\n",
       " [ 0.          0.        ]\n",
       " [-0.5         0.        ]\n",
       " [ 0.         -0.8660254 ]\n",
       " [ 0.          0.        ]\n",
       " [ 0.70710678  0.        ]\n",
       " [ 0.          0.5       ]]"
      ]
     },
     "execution_count": 16,
     "metadata": {},
     "output_type": "execute_result"
    }
   ],
   "source": [
    "A"
   ]
  },
  {
   "cell_type": "code",
   "execution_count": 17,
   "metadata": {
    "collapsed": true
   },
   "outputs": [],
   "source": [
    "import picos as pic\n",
    "import cvxopt as cvx\n",
    "import numpy as np"
   ]
  },
  {
   "cell_type": "code",
   "execution_count": 18,
   "metadata": {
    "collapsed": false
   },
   "outputs": [],
   "source": [
    "dL, dR = map(np.prod, diff_channel.dims[0])\n",
    "dK     = A.dims[0][-1]"
   ]
  },
  {
   "cell_type": "code",
   "execution_count": 21,
   "metadata": {
    "collapsed": false
   },
   "outputs": [],
   "source": [
    "problem = pic.Problem()\n",
    "X = problem.add_variable('X', (dL * dK, dR * dK), 'hermitian')\n",
    "rho = problem.add_variable('rho', (dL, dR), 'hermitian')\n",
    "A_param = qt.picos_tools.to_picos_param('A', A)\n",
    "BB_param = qt.picos_tools.to_picos_param('B', B * B.dag())\n",
    "zeros = pic.new_param('0', np.zeros((dK, dK)))\n",
    "problem.set_objective('max', pic.trace(BB_param * X))\n",
    "qt.add_ptrace_eq_constraint(problem, X - A_param * rho * A_param.H, zeros, 1, dL, dK)\n",
    "problem.add_constraint(pic.trace(rho) == 1)\n",
    "problem.add_constraint(rho >> 0)\n",
    "problem.add_constraint(X >> 0)"
   ]
  },
  {
   "cell_type": "code",
   "execution_count": 22,
   "metadata": {
    "collapsed": false
   },
   "outputs": [
    {
     "name": "stdout",
     "output_type": "stream",
     "text": [
      "---------------------\n",
      "optimization problem  (SDP):\n",
      "39 variables, 17 affine constraints, 39 vars in 2 SD cones\n",
      "\n",
      "X \t: (8, 8), hermitian\n",
      "rho \t: (2, 2), hermitian\n",
      "\n",
      "\tmaximize trace( B*X )\n",
      "such that\n",
      "  [16 constraints (first: Σ_{j in range(2)} ( X -A*rho*A.H )[j,j] = 0[0,0])]\n",
      "  trace( rho ) = 1.0\n",
      "  rho ≽ |0|\n",
      "  X ≽ |0|\n",
      "---------------------\n"
     ]
    }
   ],
   "source": [
    "print problem"
   ]
  },
  {
   "cell_type": "markdown",
   "metadata": {},
   "source": [
    "This should now return the square of the diamond norm."
   ]
  },
  {
   "cell_type": "code",
   "execution_count": 23,
   "metadata": {
    "collapsed": false
   },
   "outputs": [
    {
     "name": "stdout",
     "output_type": "stream",
     "text": [
      "*** Making the problem real...  ***\n",
      "*** OK, solve the real problem and transform the solution as in the original problem...  ***\n",
      "*** Dualizing the problem...  ***\n",
      "--------------------------\n",
      "  cvxopt CONELP solver\n",
      "--------------------------\n",
      "     pcost       dcost       gap    pres   dres   k/t\n",
      " 0:  7.1298e-01  7.3299e-01  4e+01  7e+00  5e+00  1e+00\n",
      " 1:  1.0481e+00  1.8057e+00  2e+00  2e+00  7e-01  9e-01\n",
      " 2:  1.6887e+00  1.9413e+00  1e+00  2e+00  4e-01  3e-01\n",
      " 3:  1.8881e+00  1.9473e+00  5e-01  3e+00  2e-01  1e-01\n",
      " 4:  1.9554e+00  1.9821e+00  4e-01  2e+00  1e-01  5e-02\n",
      " 5:  2.0450e+00  2.0439e+00  3e-01  3e+00  8e-02  2e-02\n",
      " 6:  2.0772e+00  2.0731e+00  2e-01  3e+00  6e-02  1e-02\n",
      " 7:  2.0910e+00  2.0884e+00  1e-01  3e+00  3e-02  4e-03\n",
      " 8:  2.1223e+00  2.1201e+00  1e-01  3e+00  2e-02  3e-03\n",
      " 9:  2.1863e+00  2.1852e+00  9e-02  4e+00  1e-02  2e-03\n",
      "10:  2.2049e+00  2.2045e+00  4e-02  3e+00  5e-03  1e-03\n",
      "11:  2.2034e+00  2.2029e+00  3e-02  2e+00  5e-03  7e-04\n",
      "12:  2.2161e+00  2.2158e+00  3e-02  3e+00  4e-03  7e-04\n",
      "13:  2.2170e+00  2.2172e+00  3e-02  3e+00  3e-03  6e-04\n",
      "14:  2.2279e+00  2.2281e+00  2e-02  3e+00  2e-03  5e-04\n",
      "15:  2.2376e+00  2.2375e+00  2e-02  2e+00  1e-03  4e-04\n",
      "16:  2.2415e+00  2.2417e+00  1e-02  4e+00  8e-04  3e-04\n",
      "17:  2.2375e+00  2.2378e+00  1e-02  4e+00  6e-04  3e-04\n",
      "18:  2.2396e+00  2.2398e+00  9e-03  1e+01  4e-04  2e-04\n",
      "19:  2.2407e+00  2.2409e+00  1e-02  8e+00  4e-04  2e-04\n",
      "20:  2.2403e+00  2.2404e+00  8e-03  7e+00  3e-04  1e-04\n",
      "21:  2.2420e+00  2.2421e+00  7e-03  5e+00  2e-04  1e-04\n",
      "22:  2.2427e+00  2.2428e+00  7e-03  4e+00  1e-04  1e-04\n",
      "23:  2.2447e+00  2.2448e+00  5e-03  6e+00  6e-05  7e-05\n",
      "24:  2.2452e+00  2.2453e+00  4e-03  4e+00  5e-05  6e-05\n",
      "25:  2.2463e+00  2.2463e+00  3e-03  4e+00  3e-05  5e-05\n",
      "26:  2.2469e+00  2.2470e+00  2e-03  3e+00  2e-05  3e-05\n",
      "27:  2.2461e+00  2.2461e+00  3e-03  4e+00  2e-05  4e-05\n",
      "28:  2.2477e+00  2.2478e+00  2e-03  3e+00  1e-05  3e-05\n",
      "29:  2.2480e+00  2.2481e+00  2e-03  2e+00  8e-06  3e-05\n",
      "30:  2.2487e+00  2.2487e+00  7e-04  2e+00  2e-06  2e-05\n",
      "31:  2.2489e+00  2.2489e+00  7e-04  2e+00  2e-06  1e-05\n",
      "32:  2.2490e+00  2.2490e+00  6e-04  3e+00  1e-06  8e-06\n",
      "33:  2.2490e+00  2.2490e+00  6e-04  3e+00  1e-06  7e-06\n",
      "34:  2.2492e+00  2.2492e+00  6e-04  5e+00  8e-07  6e-06\n",
      "35:  2.2493e+00  2.2493e+00  6e-04  9e+00  7e-07  9e-06\n",
      "36:  2.2493e+00  2.2493e+00  6e-04  9e+00  6e-07  8e-06\n",
      "37:  2.2496e+00  2.2496e+00  4e-04  6e+00  4e-07  5e-06\n",
      "38:  2.2497e+00  2.2497e+00  2e-04  6e+00  2e-07  4e-06\n",
      "39:  2.2498e+00  2.2498e+00  2e-04  6e+00  2e-07  3e-06\n",
      "40:  2.2497e+00  2.2497e+00  2e-04  5e+00  1e-07  4e-06\n",
      "41:  2.2496e+00  2.2496e+00  4e-04  7e+00  1e-07  4e-06\n",
      "42:  2.2497e+00  2.2497e+00  3e-04  6e+00  9e-08  4e-06\n",
      "43:  2.2497e+00  2.2497e+00  3e-04  6e+00  8e-08  4e-06\n",
      "44:  2.2497e+00  2.2497e+00  3e-04  4e+00  6e-08  4e-06\n",
      "45:  2.2496e+00  2.2496e+00  6e-04  7e+00  6e-08  5e-06\n",
      "46:  2.2496e+00  2.2496e+00  4e-04  7e+00  4e-08  5e-06\n",
      "47:  2.2496e+00  2.2497e+00  3e-04  6e+00  3e-08  3e-06\n",
      "48:  2.2497e+00  2.2497e+00  2e-04  6e+00  2e-08  3e-06\n",
      "49:  2.2498e+00  2.2498e+00  1e-04  1e+01  1e-08  2e-06\n",
      "50:  2.2498e+00  2.2498e+00  1e-04  4e+01  1e-08  2e-06\n",
      "51:  2.2496e+00  2.2496e+00  3e-04  5e+01  1e-08  4e-06\n",
      "52:  2.2498e+00  2.2498e+00  3e-04  6e+01  8e-09  4e-06\n",
      "53:  2.2497e+00  2.2497e+00  3e-04  5e+01  7e-09  4e-06\n",
      "54:  2.2498e+00  2.2498e+00  2e-04  5e+01  5e-09  3e-06\n",
      "55:  2.2499e+00  2.2499e+00  2e-04  5e+01  3e-09  3e-06\n",
      "56:  2.2499e+00  2.2499e+00  2e-04  4e+01  2e-09  3e-06\n",
      "57:  2.2499e+00  2.2499e+00  2e-04  3e+01  2e-09  2e-06\n",
      "58:  2.2499e+00  2.2499e+00  1e-04  3e+01  1e-09  2e-06\n",
      "59:  2.2499e+00  2.2499e+00  1e-04  3e+01  9e-10  2e-06\n",
      "60:  2.2499e+00  2.2499e+00  2e-04  2e+01  7e-10  2e-06\n",
      "61:  2.2499e+00  2.2499e+00  1e-04  2e+01  4e-10  2e-06\n",
      "62:  2.2499e+00  2.2499e+00  1e-04  2e+01  4e-10  2e-06\n",
      "63:  2.2499e+00  2.2499e+00  8e-05  1e+01  2e-10  1e-06\n",
      "64:  2.2499e+00  2.2499e+00  1e-04  2e+01  2e-10  2e-06\n",
      "65:  2.2500e+00  2.2500e+00  5e-05  1e+01  1e-10  1e-06\n",
      "66:  2.2500e+00  2.2500e+00  6e-05  1e+01  1e-10  1e-06\n",
      "67:  2.2499e+00  2.2499e+00  1e-04  2e+01  1e-10  2e-06\n",
      "68:  2.2499e+00  2.2499e+00  2e-04  2e+01  1e-10  3e-06\n",
      "69:  2.2499e+00  2.2499e+00  2e-04  2e+01  7e-11  4e-06\n",
      "70:  2.2497e+00  2.2497e+00  5e-04  3e+01  7e-11  6e-06\n",
      "71:  2.2499e+00  2.2499e+00  2e-04  1e+01  2e-11  4e-06\n",
      "72:  2.2499e+00  2.2499e+00  2e-04  1e+01  2e-11  3e-06\n",
      "73:  2.2499e+00  2.2499e+00  2e-04  1e+01  2e-11  3e-06\n",
      "74:  2.2499e+00  2.2499e+00  1e-04  7e+00  1e-11  2e-06\n",
      "75:  2.2499e+00  2.2499e+00  1e-04  8e+00  1e-11  2e-06\n",
      "76:  2.2499e+00  2.2499e+00  7e-05  8e+00  9e-12  9e-07\n",
      "77:  2.2499e+00  2.2499e+00  7e-05  8e+00  9e-12  9e-07\n",
      "78:  2.2499e+00  2.2499e+00  7e-05  9e+00  8e-12  9e-07\n",
      "79:  2.2499e+00  2.2499e+00  9e-05  1e+01  7e-12  9e-07\n",
      "80:  2.2499e+00  2.2499e+00  7e-05  2e+01  6e-12  9e-07\n",
      "81:  2.2498e+00  2.2498e+00  1e-04  2e+01  6e-12  1e-06\n",
      "82:  2.2498e+00  2.2498e+00  2e-04  3e+01  9e-12  2e-06\n",
      "83:  2.2498e+00  2.2498e+00  1e-04  3e+01  7e-12  2e-06\n",
      "84:  2.2498e+00  2.2498e+00  1e-04  3e+01  6e-12  2e-06\n",
      "85:  2.2498e+00  2.2498e+00  2e-04  3e+01  5e-12  2e-06\n",
      "86:  2.2499e+00  2.2499e+00  1e-04  2e+01  3e-12  3e-06\n",
      "87:  2.2499e+00  2.2499e+00  2e-04  3e+01  3e-12  3e-06\n",
      "88:  2.2499e+00  2.2499e+00  2e-04  2e+01  2e-12  3e-06\n",
      "89:  2.2499e+00  2.2499e+00  2e-04  2e+01  2e-12  3e-06\n",
      "90:  2.2498e+00  2.2498e+00  3e-04  3e+01  2e-12  4e-06\n",
      "91:  2.2499e+00  2.2499e+00  2e-04  2e+01  1e-12  3e-06\n",
      "92:  2.2500e+00  2.2500e+00  5e-05  7e+00  1e-12  2e-06\n",
      "93:  2.2499e+00  2.2499e+00  1e-04  1e+01  4e-12  2e-06\n",
      "94:  2.2499e+00  2.2499e+00  1e-04  9e+00  3e-12  2e-06\n",
      "95:  2.2498e+00  2.2498e+00  3e-04  1e+01  2e-12  3e-06\n",
      "96:  2.2498e+00  2.2498e+00  3e-04  1e+01  2e-12  4e-06\n",
      "97:  2.2498e+00  2.2498e+00  2e-04  6e+00  1e-12  3e-06\n",
      "98:  2.2499e+00  2.2499e+00  1e-04  1e+01  5e-12  2e-06\n",
      "99:  2.2499e+00  2.2499e+00  2e-04  1e+01  6e-12  3e-06\n",
      "100:  2.2498e+00  2.2498e+00  3e-04  1e+01  6e-12  3e-06\n",
      "101:  2.2498e+00  2.2498e+00  3e-04  1e+01  3e-12  4e-06\n",
      "102:  2.2498e+00  2.2498e+00  3e-04  1e+01  2e-12  4e-06\n",
      "103:  2.2498e+00  2.2498e+00  3e-04  9e+00  2e-12  4e-06\n",
      "104:  2.2498e+00  2.2498e+00  3e-04  1e+01  2e-12  4e-06\n",
      "105:  2.2494e+00  2.2494e+00  1e-03  3e+01  3e-12  9e-06\n",
      "106:  2.2488e+00  2.2489e+00  2e-03  4e+01  3e-12  3e-05\n",
      "107:  2.2488e+00  2.2488e+00  2e-03  2e+01  2e-12  3e-05\n",
      "108:  2.2494e+00  2.2494e+00  7e-04  1e+01  8e-13  1e-05\n",
      "109:  2.2494e+00  2.2494e+00  8e-04  1e+01  8e-13  1e-05\n",
      "110:  2.2490e+00  2.2490e+00  1e-03  2e+01  9e-13  2e-05\n",
      "111:  2.2492e+00  2.2492e+00  1e-03  2e+01  6e-13  1e-05\n",
      "112:  2.2491e+00  2.2491e+00  1e-03  2e+01  9e-13  2e-05\n",
      "113:  2.2482e+00  2.2483e+00  3e-03  3e+01  1e-12  4e-05\n",
      "114:  2.2482e+00  2.2483e+00  2e-03  2e+01  7e-13  4e-05\n",
      "115:  2.2482e+00  2.2483e+00  2e-03  3e+01  7e-13  5e-05\n",
      "116:  2.2484e+00  2.2485e+00  2e-03  3e+01  6e-13  4e-05\n",
      "117:  2.2484e+00  2.2484e+00  2e-03  2e+01  4e-13  4e-05\n",
      "118:  2.2489e+00  2.2490e+00  1e-03  1e+01  2e-13  3e-05\n",
      "119:  2.2493e+00  2.2493e+00  7e-04  5e+00  8e-14  1e-05\n",
      "120:  2.2491e+00  2.2491e+00  1e-03  5e+00  1e-12  1e-05\n",
      "121:  2.2492e+00  2.2492e+00  6e-04  4e+00  1e-12  8e-06\n",
      "122:  2.2494e+00  2.2494e+00  7e-04  4e+00  2e-12  1e-05\n",
      "123:  2.2493e+00  2.2493e+00  1e-03  5e+00  2e-12  9e-06\n",
      "124:  2.2493e+00  2.2493e+00  1e-03  5e+00  1e-12  9e-06\n",
      "125:  2.2493e+00  2.2494e+00  8e-04  4e+00  1e-12  1e-05\n",
      "126:  2.2492e+00  2.2492e+00  8e-04  5e+00  8e-13  1e-05\n",
      "127:  2.2493e+00  2.2493e+00  8e-04  6e+00  6e-13  8e-06\n",
      "128:  2.2494e+00  2.2494e+00  7e-04  6e+00  4e-13  9e-06\n",
      "129:  2.2495e+00  2.2495e+00  4e-04  5e+00  1e-12  6e-06\n",
      "130:  2.2495e+00  2.2495e+00  4e-04  5e+00  9e-13  6e-06\n",
      "131:  2.2496e+00  2.2496e+00  4e-04  4e+00  7e-13  5e-06\n",
      "132:  2.2497e+00  2.2497e+00  3e-04  5e+00  4e-12  5e-06\n",
      "133:  2.2497e+00  2.2497e+00  3e-04  5e+00  5e-12  5e-06\n",
      "134:  2.2498e+00  2.2498e+00  2e-04  5e+00  2e-12  3e-06\n",
      "135:  2.2498e+00  2.2498e+00  2e-04  6e+00  2e-12  3e-06\n",
      "136:  2.2497e+00  2.2497e+00  2e-04  5e+00  2e-12  3e-06\n",
      "137:  2.2499e+00  2.2499e+00  1e-04  4e+00  6e-13  2e-06\n",
      "138:  2.2499e+00  2.2499e+00  1e-04  6e+00  6e-12  1e-06\n",
      "139:  2.2499e+00  2.2499e+00  1e-04  1e+01  9e-12  1e-06\n",
      "140:  2.2499e+00  2.2499e+00  1e-04  1e+01  9e-12  1e-06\n",
      "141:  2.2499e+00  2.2499e+00  5e-05  8e+00  6e-12  8e-07\n",
      "142:  2.2499e+00  2.2499e+00  5e-05  8e+00  6e-12  8e-07\n",
      "143:  2.2499e+00  2.2499e+00  1e-04  1e+01  8e-12  1e-06\n",
      "144:  2.2499e+00  2.2499e+00  1e-04  1e+01  1e-11  1e-06\n",
      "145:  2.2499e+00  2.2499e+00  7e-05  9e+00  8e-12  9e-07\n",
      "146:  2.2499e+00  2.2499e+00  8e-05  9e+00  8e-12  1e-06\n",
      "147:  2.2499e+00  2.2499e+00  8e-05  8e+00  6e-12  1e-06\n",
      "148:  2.2499e+00  2.2499e+00  7e-05  8e+00  5e-12  1e-06\n",
      "149:  2.2499e+00  2.2499e+00  5e-05  9e+00  3e-12  9e-07\n",
      "150:  2.2500e+00  2.2500e+00  3e-05  5e+00  3e-11  5e-07\n",
      "151:  2.2500e+00  2.2500e+00  2e-05  4e+00  3e-11  5e-07\n",
      "152:  2.2500e+00  2.2500e+00  1e-05  3e+00  2e-11  2e-07\n",
      "153:  2.2500e+00  2.2500e+00  2e-05  6e+00  3e-10  3e-07\n",
      "154:  2.2500e+00  2.2500e+00  2e-05  6e+00  3e-10  3e-07\n",
      "155:  2.2500e+00  2.2500e+00  2e-05  6e+00  3e-10  3e-07\n",
      "156:  2.2500e+00  2.2500e+00  2e-05  5e+00  2e-10  3e-07\n",
      "157:  2.2500e+00  2.2500e+00  9e-06  5e+00  9e-11  2e-07\n",
      "158:  2.2500e+00  2.2500e+00  2e-05  8e+00  8e-11  2e-07\n",
      "159:  2.2500e+00  2.2500e+00  2e-05  8e+00  8e-11  2e-07\n",
      "160:  2.2500e+00  2.2500e+00  2e-05  8e+00  8e-11  2e-07\n",
      "161:  2.2500e+00  2.2500e+00  3e-05  1e+01  7e-11  3e-07\n",
      "162:  2.2500e+00  2.2500e+00  2e-05  1e+01  1e-10  2e-07\n",
      "163:  2.2500e+00  2.2500e+00  3e-05  1e+01  1e-10  3e-07\n",
      "164:  2.2500e+00  2.2500e+00  3e-05  1e+01  1e-10  3e-07\n",
      "165:  2.2500e+00  2.2500e+00  3e-05  1e+01  8e-11  4e-07\n",
      "166:  2.2500e+00  2.2500e+00  6e-05  1e+01  9e-11  7e-07\n",
      "167:  2.2499e+00  2.2499e+00  9e-05  1e+01  8e-11  1e-06\n",
      "168:  2.2499e+00  2.2499e+00  6e-05  9e+00  4e-11  1e-06\n",
      "169:  2.2499e+00  2.2499e+00  6e-05  9e+00  4e-11  9e-07\n",
      "170:  2.2499e+00  2.2499e+00  9e-05  2e+01  5e-11  1e-06\n",
      "171:  2.2499e+00  2.2499e+00  8e-05  2e+01  5e-11  1e-06\n",
      "172:  2.2499e+00  2.2499e+00  1e-04  2e+01  4e-11  1e-06\n",
      "173:  2.2499e+00  2.2499e+00  9e-05  2e+01  2e-11  2e-06\n",
      "174:  2.2500e+00  2.2500e+00  3e-05  4e+00  9e-12  6e-07\n",
      "175:  2.2500e+00  2.2500e+00  2e-05  3e+00  3e-11  5e-07\n",
      "176:  2.2500e+00  2.2500e+00  2e-05  4e+00  6e-11  3e-07\n",
      "177:  2.2500e+00  2.2500e+00  3e-05  5e+00  3e-10  4e-07\n",
      "178:  2.2500e+00  2.2500e+00  3e-05  5e+00  2e-10  3e-07\n",
      "179:  2.2500e+00  2.2500e+00  3e-05  6e+00  2e-10  3e-07\n",
      "180:  2.2500e+00  2.2500e+00  3e-05  6e+00  2e-10  3e-07\n",
      "181:  2.2500e+00  2.2500e+00  3e-05  6e+00  4e-10  2e-07\n",
      "182:  2.2500e+00  2.2500e+00  2e-05  7e+00  2e-10  3e-07\n",
      "183:  2.2500e+00  2.2500e+00  3e-05  1e+01  2e-10  3e-07\n",
      "184:  2.2500e+00  2.2500e+00  2e-05  9e+00  2e-10  3e-07\n",
      "185:  2.2500e+00  2.2500e+00  2e-05  1e+01  1e-10  3e-07\n",
      "186:  2.2500e+00  2.2500e+00  2e-05  1e+01  8e-11  3e-07\n",
      "187:  2.2500e+00  2.2500e+00  2e-05  1e+01  8e-11  3e-07\n",
      "188:  2.2500e+00  2.2500e+00  1e-05  2e+01  4e-11  2e-07\n",
      "189:  2.2500e+00  2.2500e+00  1e-05  2e+01  4e-11  2e-07\n",
      "190:  2.2500e+00  2.2500e+00  2e-05  2e+01  6e-11  3e-07\n",
      "191:  2.2500e+00  2.2500e+00  2e-05  2e+01  3e-11  3e-07\n",
      "192:  2.2500e+00  2.2500e+00  2e-05  2e+01  3e-11  3e-07\n",
      "193:  2.2500e+00  2.2500e+00  2e-05  2e+01  3e-11  3e-07\n",
      "194:  2.2500e+00  2.2500e+00  1e-05  1e+01  2e-11  2e-07\n",
      "195:  2.2500e+00  2.2500e+00  1e-05  1e+01  8e-11  2e-07\n",
      "196:  2.2500e+00  2.2500e+00  1e-05  1e+01  1e-10  1e-07\n",
      "197:  2.2500e+00  2.2500e+00  9e-06  1e+01  1e-10  1e-07\n",
      "198:  2.2500e+00  2.2500e+00  9e-06  9e+00  1e-10  1e-07\n",
      "199:  2.2500e+00  2.2500e+00  8e-06  9e+00  1e-10  1e-07\n",
      "200:  2.2500e+00  2.2500e+00  5e-06  9e+00  5e-11  8e-08\n",
      "Terminated (maximum number of iterations reached).\n",
      "cvxopt status: unknown\n",
      "1.49999776327\n"
     ]
    }
   ],
   "source": [
    "res = problem.solve(maxit=200, verbose=1)\n",
    "print np.sqrt(np.real(res['obj']))"
   ]
  },
  {
   "cell_type": "code",
   "execution_count": 24,
   "metadata": {
    "collapsed": false
   },
   "outputs": [
    {
     "data": {
      "text/plain": [
       "0.87499944081682668"
      ]
     },
     "execution_count": 24,
     "metadata": {},
     "output_type": "execute_result"
    }
   ],
   "source": [
    "0.5 + 0.25 * np.sqrt(res['obj'])"
   ]
  },
  {
   "cell_type": "markdown",
   "metadata": {},
   "source": [
    "Now we compare to the shiny new dnorm in QuTiP."
   ]
  },
  {
   "cell_type": "code",
   "execution_count": 26,
   "metadata": {
    "collapsed": false
   },
   "outputs": [
    {
     "ename": "UnboundLocalError",
     "evalue": "local variable 'A' referenced before assignment",
     "output_type": "error",
     "traceback": [
      "\u001b[1;31m---------------------------------------------------------------------------\u001b[0m",
      "\u001b[1;31mUnboundLocalError\u001b[0m                         Traceback (most recent call last)",
      "\u001b[1;32m<ipython-input-26-d2287611f915>\u001b[0m in \u001b[0;36m<module>\u001b[1;34m()\u001b[0m\n\u001b[1;32m----> 1\u001b[1;33m \u001b[0mqt\u001b[0m\u001b[1;33m.\u001b[0m\u001b[0mdnorm\u001b[0m\u001b[1;33m(\u001b[0m\u001b[0mdiff_channel\u001b[0m\u001b[1;33m)\u001b[0m\u001b[1;33m\u001b[0m\u001b[0m\n\u001b[0m",
      "\u001b[1;32mC:\\Users\\Chris\\Dropbox\\software-projects\\qutip\\qutip\\metrics.py\u001b[0m in \u001b[0;36mdnorm\u001b[1;34m(q_oper, picos_args)\u001b[0m\n\u001b[0;32m    269\u001b[0m     \u001b[1;31m# The SDP is expressed as a function of the Stinespring pair,\u001b[0m\u001b[1;33m\u001b[0m\u001b[1;33m\u001b[0m\u001b[0m\n\u001b[0;32m    270\u001b[0m     \u001b[1;31m# so start by getting that.\u001b[0m\u001b[1;33m\u001b[0m\u001b[1;33m\u001b[0m\u001b[0m\n\u001b[1;32m--> 271\u001b[1;33m     \u001b[0mA\u001b[0m\u001b[1;33m,\u001b[0m \u001b[0mB\u001b[0m \u001b[1;33m=\u001b[0m \u001b[0mto_stinespring\u001b[0m\u001b[1;33m(\u001b[0m\u001b[0mA\u001b[0m\u001b[1;33m)\u001b[0m\u001b[1;33m\u001b[0m\u001b[0m\n\u001b[0m\u001b[0;32m    272\u001b[0m \u001b[1;33m\u001b[0m\u001b[0m\n\u001b[0;32m    273\u001b[0m     \u001b[1;31m# We need the dimensions of each, so write them down.\u001b[0m\u001b[1;33m\u001b[0m\u001b[1;33m\u001b[0m\u001b[0m\n",
      "\u001b[1;31mUnboundLocalError\u001b[0m: local variable 'A' referenced before assignment"
     ]
    }
   ],
   "source": [
    "qt.dnorm(diff_channel)"
   ]
  },
  {
   "cell_type": "code",
   "execution_count": 25,
   "metadata": {
    "collapsed": false
   },
   "outputs": [
    {
     "data": {
      "text/html": [
       "<table><tr><th>Software</th><th>Version</th></tr><tr><td>QuTiP</td><td>3.2.0.dev-58e6a6a</td></tr><tr><td>Numpy</td><td>1.9.2</td></tr><tr><td>SciPy</td><td>0.15.1</td></tr><tr><td>matplotlib</td><td>1.4.3</td></tr><tr><td>Cython</td><td>0.22</td></tr><tr><td>IPython</td><td>3.1.0</td></tr><tr><td>Python</td><td>2.7.8 |Anaconda 2.2.0 (64-bit)| (default, Jul  2 2014, 15:12:11) [MSC v.1500 64 bit (AMD64)]</td></tr><tr><td>OS</td><td>nt [win32]</td></tr><tr><td colspan='2'>Tue Apr 14 08:57:06 2015 AUS Eastern Standard Time</td></tr></table>"
      ],
      "text/plain": [
       "<IPython.core.display.HTML object>"
      ]
     },
     "execution_count": 25,
     "metadata": {},
     "output_type": "execute_result"
    }
   ],
   "source": [
    "from qutip.ipynbtools import version_table\n",
    "version_table()"
   ]
  },
  {
   "cell_type": "code",
   "execution_count": null,
   "metadata": {
    "collapsed": true
   },
   "outputs": [],
   "source": []
  }
 ],
 "metadata": {
  "kernelspec": {
   "display_name": "Python 2",
   "language": "python",
   "name": "python2"
  },
  "language_info": {
   "codemirror_mode": {
    "name": "ipython",
    "version": 2
   },
   "file_extension": ".py",
   "mimetype": "text/x-python",
   "name": "python",
   "nbconvert_exporter": "python",
   "pygments_lexer": "ipython2",
   "version": "2.7.8"
  }
 },
 "nbformat": 4,
 "nbformat_minor": 0
}
