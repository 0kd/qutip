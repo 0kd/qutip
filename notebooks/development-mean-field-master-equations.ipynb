{
 "metadata": {
  "name": "development-mean-field-master-equations"
 },
 "nbformat": 3,
 "nbformat_minor": 0,
 "worksheets": [
  {
   "cells": [
    {
     "cell_type": "markdown",
     "metadata": {},
     "source": [
      "# QuTiP development notebook for testing new TD function callback signature\n",
      "\n",
      "Copyright (C) 2011 and later, Paul D. Nation & Robert J. Johansson"
     ]
    },
    {
     "cell_type": "code",
     "collapsed": false,
     "input": [
      "%pylab inline"
     ],
     "language": "python",
     "metadata": {},
     "outputs": [],
<<<<<<< HEAD
     "prompt_number": 16
=======
     "prompt_number": 1
>>>>>>> 41ee12c77036c020cd283fed53feafd4dcf49479
    },
    {
     "cell_type": "code",
     "collapsed": false,
     "input": [
      "from qutip import *"
     ],
     "language": "python",
     "metadata": {},
     "outputs": [],
<<<<<<< HEAD
     "prompt_number": 17
=======
     "prompt_number": 2
>>>>>>> 41ee12c77036c020cd283fed53feafd4dcf49479
    },
    {
     "cell_type": "markdown",
     "metadata": {},
     "source": [
      "## Problem description\n",
      "\n",
      "Consider the mean-field laser master equation on the form (Breuer and Petruccione)\n",
      "\n",
      "$\\displaystyle \\dot\\rho = -i [H, \\rho]\n",
      "+ 2\\kappa \\mathcal{D}[a] \n",
      "+ W_{21} \\mathcal{D}[\\sigma_-] \n",
      "+ W_{12} \\mathcal{D}[\\sigma_+]\n",
      "+ g [{\\rm Tr}[\\sigma_-\\rho] a^\\dagger - {\\rm Tr}[\\sigma_+\\rho] a, \\rho]\n",
      "+ g [{\\rm Tr}[a^\\dagger\\rho] \\sigma_- - {\\rm Tr}[a\\rho] \\sigma_+, \\rho] $\n",
      "\n",
      "where the dissipator superoperator is \n",
      "\n",
      "$\\displaystyle \\mathcal{D}[a] = a\\rho a^\\dagger - \\frac{1}{2}a^\\dagger a \\rho - \\frac{1}{2}\\rho a^\\dagger a,$\n",
      "\n",
      "$W_{21}$ and $W_{12}$ are the atomic relaxation rate and pump rate, respectively, and ${\\rm Tr}[A\\rho]$ is the expectation value of the operator $A$ with respect to the density operator $\\rho$.\n",
      "\n",
      "The Hamiltonian is given by\n",
      "\n",
      "$\\displaystyle H = \\omega a^\\dagger a + \\frac{1}{2}\\omega\\sigma_z$.\n",
      "\n",
      "Except for the two last term, the above master equation is on standard Lindblad form and could, if $g = 0$, be solved with the QuTiP solver `mesolve`.\n",
      "\n",
      "We could write the master equation above on standard Lindblad form using an effective (nonhermitian?) Hamiltonian, corresponding to a nonlinear Schrodinger equation,\n",
      "\n",
      "$\\displaystyle \\dot\\rho = -i [H_{\\rm eff}(\\rho, t), \\rho]\n",
      "+ 2\\kappa \\mathcal{D}[a] + W_{21} \\mathcal{D}[\\sigma_-] + W_{12} \\mathcal{D}[\\sigma_+]$\n",
      "\n",
      "where\n",
      "\n",
      "$\\displaystyle \n",
      "H_{\\rm eff}(\\rho, t) = \\omega a^\\dagger a + \\frac{1}{2}\\omega\\sigma_z\n",
      "+ ig\\left({\\rm Tr}[\\sigma_-\\rho] a^\\dagger - {\\rm Tr}[\\sigma_+\\rho] a\\right)\n",
      "+ ig\\left({\\rm Tr}[a^\\dagger\\rho] \\sigma_- - {\\rm Tr}[a\\rho] \\sigma_+\\right)\n",
      "$\n",
      "\n",
      "In QuTiP we could implement this effective Hamiltonian using the Python callback function format for time-dependent Hamiltonians, but to calculate $H_{\\rm eff}(t)$ we need to have access to $\\rho(t)$, but the QuTiP time-dependent function callback signature is\n",
      "\n",
      "    def h_t(t, args):\n",
      "        ...\n",
      "        return h_eff\n",
      "\n",
      "However, the solver `mesolve` that calls the callback function has access to $\\rho(t)$ (or $\\left|\\psi(t)\\right>$ for unitary dynamics), so it would be useful to change the callback function signature to\n",
      "\n",
      "    def h_t(t, rho, args):\n",
      "        ...\n",
      "        return h_eff\n",
      "\n",
      "The downside is that this would break backwards compatibility in the API... unless, perhaps, the inclusion of rho in the function signature can be optional activated with a keyword argument or setting in Odeoptions?"
     ]
    },
    {
     "cell_type": "markdown",
     "metadata": {},
     "source": [
      "### QuTiP implementation"
     ]
    },
    {
     "cell_type": "code",
     "collapsed": false,
     "input": [
      "N = 5\n",
      "\n",
      "w = 1.0 * 2 * pi\n",
      "g = 0.1 * 2 * pi\n",
      "kappa = 0.01\n",
      "W21 = 0.01\n",
      "W12 = 0.05\n",
      "\n",
      "tlist = linspace(0, 500, 500)\n",
      "\n",
      "# cavity operators\n",
      "a = tensor(destroy(N), identity(2))\n",
      "\n",
      "# atomic operators\n",
      "sz = tensor(identity(N), sigmaz())\n",
      "sx = tensor(identity(N), sigmax())\n",
      "sm = tensor(identity(N), destroy(2))\n",
      "sp = tensor(identity(N), create(2))"
     ],
     "language": "python",
     "metadata": {},
     "outputs": [],
<<<<<<< HEAD
     "prompt_number": 18
=======
     "prompt_number": 3
>>>>>>> 41ee12c77036c020cd283fed53feafd4dcf49479
    },
    {
     "cell_type": "code",
     "collapsed": false,
     "input": [
      "#psi0 = tensor(fock(N, 0), fock(2, 0)) # start with the vacuum + ground state\n",
<<<<<<< HEAD
      "psi0 = tensor(coherent(N, 0.5), fock(2, 0)) # start with the vacuum + ground state"
=======
      "psi0 = tensor(coherent(N, 0.5), fock(2, 0)) # start a small coherent sate + ground state"
>>>>>>> 41ee12c77036c020cd283fed53feafd4dcf49479
     ],
     "language": "python",
     "metadata": {},
     "outputs": [],
<<<<<<< HEAD
     "prompt_number": 19
=======
     "prompt_number": 4
>>>>>>> 41ee12c77036c020cd283fed53feafd4dcf49479
    },
    {
     "cell_type": "code",
     "collapsed": false,
     "input": [
      "theta = 0.0\n",
      "\n",
      "H = w * a.dag() * a - 0.5 * w * (cos(2*theta) * sz + sin(2*theta) * sx)\n",
      "\n",
      "H"
     ],
     "language": "python",
     "metadata": {},
     "outputs": [
      {
       "latex": [
        "\\begin{equation}\\text{Quantum object: dims = [[5, 2], [5, 2]], shape = [10, 10], type = oper, isHerm = True}\\\\[1em]\\begin{pmatrix}-3.14159265359 & 0.0 & 0.0 & 0.0 & 0.0 & 0.0 & 0.0 & 0.0 & 0.0 & 0.0\\\\0.0 & 3.14159265359 & 0.0 & 0.0 & 0.0 & 0.0 & 0.0 & 0.0 & 0.0 & 0.0\\\\0.0 & 0.0 & 3.14159265359 & 0.0 & 0.0 & 0.0 & 0.0 & 0.0 & 0.0 & 0.0\\\\0.0 & 0.0 & 0.0 & 9.42477796077 & 0.0 & 0.0 & 0.0 & 0.0 & 0.0 & 0.0\\\\0.0 & 0.0 & 0.0 & 0.0 & 9.42477796077 & 0.0 & 0.0 & 0.0 & 0.0 & 0.0\\\\0.0 & 0.0 & 0.0 & 0.0 & 0.0 & 15.7079632679 & 0.0 & 0.0 & 0.0 & 0.0\\\\0.0 & 0.0 & 0.0 & 0.0 & 0.0 & 0.0 & 15.7079632679 & 0.0 & 0.0 & 0.0\\\\0.0 & 0.0 & 0.0 & 0.0 & 0.0 & 0.0 & 0.0 & 21.9911485751 & 0.0 & 0.0\\\\0.0 & 0.0 & 0.0 & 0.0 & 0.0 & 0.0 & 0.0 & 0.0 & 21.9911485751 & 0.0\\\\0.0 & 0.0 & 0.0 & 0.0 & 0.0 & 0.0 & 0.0 & 0.0 & 0.0 & 28.2743338823\\\\\\end{pmatrix}\\end{equation}"
       ],
       "output_type": "pyout",
<<<<<<< HEAD
       "prompt_number": 20,
=======
       "prompt_number": 5,
>>>>>>> 41ee12c77036c020cd283fed53feafd4dcf49479
       "text": [
        "Quantum object: dims = [[5, 2], [5, 2]], shape = [10, 10], type = oper, isherm = True\n",
        "Qobj data =\n",
        "[[ -3.14159265   0.           0.           0.           0.           0.\n",
        "    0.           0.           0.           0.        ]\n",
        " [  0.           3.14159265   0.           0.           0.           0.\n",
        "    0.           0.           0.           0.        ]\n",
        " [  0.           0.           3.14159265   0.           0.           0.\n",
        "    0.           0.           0.           0.        ]\n",
        " [  0.           0.           0.           9.42477796   0.           0.\n",
        "    0.           0.           0.           0.        ]\n",
        " [  0.           0.           0.           0.           9.42477796   0.\n",
        "    0.           0.           0.           0.        ]\n",
        " [  0.           0.           0.           0.           0.          15.70796327\n",
        "    0.           0.           0.           0.        ]\n",
        " [  0.           0.           0.           0.           0.           0.\n",
        "   15.70796327   0.           0.           0.        ]\n",
        " [  0.           0.           0.           0.           0.           0.\n",
        "    0.          21.99114858   0.           0.        ]\n",
        " [  0.           0.           0.           0.           0.           0.\n",
        "    0.           0.          21.99114858   0.        ]\n",
        " [  0.           0.           0.           0.           0.           0.\n",
        "    0.           0.           0.          28.27433388]]"
       ]
      }
     ],
<<<<<<< HEAD
     "prompt_number": 20
=======
     "prompt_number": 5
>>>>>>> 41ee12c77036c020cd283fed53feafd4dcf49479
    },
    {
     "cell_type": "code",
     "collapsed": false,
     "input": [
      "e_ops = [a.dag() * a, sm.dag() * sm, sm, sp]"
     ],
     "language": "python",
     "metadata": {},
     "outputs": [],
<<<<<<< HEAD
     "prompt_number": 21
=======
     "prompt_number": 6
>>>>>>> 41ee12c77036c020cd283fed53feafd4dcf49479
    },
    {
     "cell_type": "code",
     "collapsed": false,
     "input": [
      "c_ops = [sqrt(2*kappa) * a, sqrt(W21) * sm, sqrt(W12) * sp]"
     ],
     "language": "python",
     "metadata": {},
     "outputs": [],
<<<<<<< HEAD
     "prompt_number": 22
=======
     "prompt_number": 7
>>>>>>> 41ee12c77036c020cd283fed53feafd4dcf49479
    },
    {
     "cell_type": "markdown",
     "metadata": {},
     "source": [
      "### Solve without mean-field contribution"
     ]
    },
    {
     "cell_type": "code",
     "collapsed": false,
     "input": [
      "result = mesolve(H, psi0, tlist, c_ops, e_ops) "
     ],
     "language": "python",
     "metadata": {},
     "outputs": [],
<<<<<<< HEAD
     "prompt_number": 23
    },
    {
     "cell_type": "code",
     "collapsed": false,
     "input": [
      "fig, axes = subplots(2,1)\n",
      "\n",
      "axes[0].plot(result.times, result.expect[0], label=r'$a^\\dagger a$')\n",
      "axes[0].plot(result.times, result.expect[1], label=r'$\\sigma_+\\sigma_-$')\n",
      "axes[0].set_ylim(-0.1, 1.1)\n",
      "axes[0].legend();\n",
      "\n",
      "axes[1].plot(result.times, abs(result.expect[2]), label=r'$\\sigma_-$')\n",
      "axes[1].plot(result.times, abs(result.expect[3]), label=r'$\\sigma_+$')\n",
      "axes[1].set_ylim(-0.1, 1.1)\n",
      "axes[1].legend();"
     ],
     "language": "python",
     "metadata": {},
     "outputs": [
      {
       "output_type": "display_data",
       "png": "iVBORw0KGgoAAAANSUhEUgAAAXgAAAD5CAYAAAAtBi5vAAAABHNCSVQICAgIfAhkiAAAAAlwSFlz\nAAALEgAACxIB0t1+/AAAIABJREFUeJzt3XtUlPW+P/D3IGMiuUHkEoI7kNsAwsAJRY/Z8RJCFnjB\nXdjRn9uM3KRbca9a7Nq7lXZOgLY661TWKVuZWqa2du0kg0kR8X7bipKiggkJXshBUASFYfj+/pgY\nGC4jMFdm3q+1njXDzHP58FmLzzx853m+H4kQQoCIiGyOg6UDICIi02CBJyKyUSzwREQ2igWeiMhG\nscATEdkoR3McRCKRmOMwREQ2x5ALHc12Bi+E4CIE3nzzTYvHYC0Lc8FcMBf6F0NxiIaIyEaxwBMR\n2SgWeDObPHmypUOwGsxFO+aiHXNhPBKhZ6DnhRdewA8//ABPT0/89NNP3a6zfPly5OXlYejQodi4\ncSOio6O7HkQiMcp4EhGRPTG0duo9g1+0aBEUCkWP7+fm5uLSpUsoKyvD+vXrkZaW1u9AiMj2uLm5\nQSKRcHnA4ubmZpL8671MctKkSaioqOjx/ZycHCxcuBAAEBsbi7q6OlRXV8PLy8uoQRLRwFRbW8v/\n3nvBVJeSG3Qd/NWrVzFq1Cjtz76+vqiqquq2wK9atUr7fPLkyRxnIyLqpLCwEIWFhUbbn8E3OnX+\ndO7pk6hjgScioq46n/yuXr3aoP0ZdBWNj48PKisrtT9XVVXBx8fHoICIiMg4DCrwSUlJ2Lx5MwDg\n6NGjcHV15fg7EZGV0DtEM2/ePOzbtw9KpRKjRo3C6tWroVKpAABLlizBjBkzkJubi8DAQDg7O+Pz\nzz83S9BERPRgeq+DN9pBeB08kV0a6H/7hw4dQnV1NebMmWPS4/SUJ5NeB09EZK+++eYb3L59G62t\nrdiwYYOlw+kXnsETkckM9L/9mpoaXL16FZGRkSY9Ds/giYjM7Pjx4zhx4oSlw+g3szT8ICIaiIKC\nguDi4mLpMPqNBZ6IqAePPPLIgB5i4hANEdm10tJSvPHGG8jNzcX8+fOxc+dO7XtOTk4YPHhwn7ez\nFvySlYhMpjd/+8aaZ6s/JaahoQETJ05EYWEhXF1dMXXqVGzbtg2enp7adVpaWuDo6Njn7frCVF+y\ncoiGiCzKkud+3377LSIiIuDq6or79+/j7t27XYp05+Le2+2swQMLvEKhQHp6OtRqNV588UVkZGTo\nvK9UKjF//nzcuHEDLS0teOWVV/DHP/7RVPEOCC2tLWhWN0OlVkHVqtL72NLaAgGBVtEKIX57hOjx\nedt6PW0j0Pu/lr6cGfRlv6bcN/8TJGNSKpWQy+UAgPz8fIwfPx4KhQIJCQkm2U6fLcVb+r1tT/QW\neLVajWXLliE/Px8+Pj4YO3YskpKSEBoaql1n3bp1iI6ORlZWFpRKJUJCQjB//vxuP/UGknuqe6i8\nU4krt6+g+m41au7VaJbGGigblai7X4cGVQMamhu6PKqFGoMHDYbUQQrpIKnex0EOgzBIMkgz8T8k\ncJA4QCL57RESnedt7/W0XtvrfdGXeagl6Nv/0qbat6nmzib7M2/ePGRnZyMvLw83b96Eg4MD6urq\nTLadPrmXcg3avjt6x+CPHDmC1atXa7s6ZWdnAwD++te/atf55JNPUFxcjA8//BCXL19GQkICSktL\ndQ9ipWPwQghU1FXg7K9nNcvNs7iovIgrt6/gdtNtjPrdKIxyGYVHHn4EI5xGYMTQERjhNALuQ93h\nOsQVDw9+GM5SZzgPdoaz1BlDpUPhPNgZDw16iEWICNb7t29tLDIG311Dj2PHjumsk5qaiqlTp2Lk\nyJGor6/H119/3e2+rKHhhxACP/36EwrKC7D/l/04eOUgpIOkiPSKxBjPMZg+ejqWj1uOR10fhaez\nZ5/PhomIDGHWhh+9OQvNzMxEVFQUCgsL8fPPPyMuLg5nzpzBsGHDdNazVMMPIQROXj+JLT9twXcX\nvoMEEkwPmI65YXPxXsJ7GOUy6sE7ISIyA2M3/NBb4Ds39KisrISvr6/OOocPH8bf/vY3AEBAQAD8\n/f1x8eJFxMTEGBSYoe6p7mHzmc345OQnqL1fi4XyhdiRsgMRnhEcPiEiu6C3wMfExKCsrAwVFRUY\nOXIktm/fjq1bt+qsI5PJkJ+fj4kTJ6K6uhoXL17E6NGjTRq0Pk0tTfj01KfIPpiNaO9oZD+ZjSdH\nP8nhFiKyO3oLvKOjI9atW4f4+Hio1WosXrwYoaGh+OSTTwBomn68/vrrWLRoEeRyOVpbW7F27Vq4\nubmZJfjOFJcUePmHlxHqEYodKTvw2MjHLBIHEZE1sIk7We803cHLP7yMI1VH8NGMjxAfGG+yYxFR\n7/Eqmt7hdME9KLpehMfWP4aHBz+Mn9J+YnEnIvrNgL4b6YfSH7BoxyK8/9T7SBmTYulwiIisyoAt\n8BtPb8Rf8/+K7+d9j1jfWEuHQ0RkdQZkgd/601b8veDv2PfHfQhxD7F0OEREVmnAFfjcslyk/5iO\nPf9vD4s7EZEeA6rAn795Hgu/W4iclByM8Rxj6XCIiKzagLmKpr6pHnO+noM1T67BhFETLB0OEZHV\nGzAFfsnOJXj894/jhegXLB0KEdmQ0tJSPPvss5gyZQqGDRuGxMREfPzxxybf1hwMbvgBaGZAW7ly\nJVQqFdzd3Y06GxoAfHv+W5y8fhKnl5w26n6JyPIkq40zN5R4s+83BN26dQt/+tOfkJubiyFDhmDW\nrFnYtGkTXFxcTLqtuRjc8KOurg5Lly7Fjz/+CF9fXyiVSqMGWHuvFn/O+zO2z90OJ6mTUfdNRJbX\nn8JsLB9++CGWLl2KIUOGAACampowdOhQk29rLnqHaI4fP47AwED4+flBKpUiJSUFO3bs0Fnnq6++\nQnJysnaWSXd3d6MG+MruVzBbNhuP//5xo+6XiKi+vh5hYWEAgHPnziE8PBxSqbTbdTvXvr5saykG\nN/woKyuDSqXClClTUF9fjxUrVmDBggVd9tWfhh+nb5xGblkuLi67+MB1iYj6Ki0tDTk5OSgpKUFV\nVZW2a1137t692+9te8vqGn6oVCqcOnUKe/bsQWNjIyZMmIDx48cjKChIZ73+NPzIyM/A3yf9Hb97\n6Hd93paI6EH8/f2xYsUKo2978+ZNFBQU6Lzm7u6OadOm6d2n1TX8GDVqFNzd3eHk5AQnJyc88cQT\nOHPmTJcC31f5l/NxufYyXnrsJYP2Q0TUX6WlpSgqKgIAHD16FI6OjpBIJEhOTsagQYN63M7DwwPP\nPfecucLskcENP2bOnIlly5ZBrVajqakJx44dw1/+8heDghJC4PU9r+PtqW9DOsi6xrSIyH4EBwcj\nODgYANDS0mIVRbsvDG74IZPJkJCQgMjISDg4OCA1NVX7xUN/7ftlH+403cHcsLkG7YeIyFgcHQfU\njf8ArLThxzNfPYOZITOR+liqCaMiIlNjw4/esZuGHyU3S/Cva//CAnnXK3GIiKj3rK7A/8+R/8HL\nY1/GEMchlg6FiGhAs6pBpdv3b+MfJf9A6Z9LLR0KEdGAZ1Vn8F+f+xpT/afC09nT0qEQEQ14VlXg\nPz/9ORZFLbJ0GERENsFqCvwF5QWU15XjqaCnLB0KEZFNsJox+I2nN2J+5Hw4OlhNSERkoOHDh/dq\nyhN7N3z4cJPs1yqqqRACW37agrz/zLN0KERkRLdu3bJ0CHbtgUM0CoUCMpkMQUFBWLNmTY/rnThx\nAo6Ojvj222/7HMS/rv0LQ6VDEe4R3udtiYioe3oLfFvDD4VCgZKSEmzduhXnz5/vdr2MjAwkJCT0\n666rf174J2bLZvNfOSIiIzK44QcAfPDBB5g7dy48PDz6FcR3F77DbNnsfm1LRETdM7jhx9WrV7Fj\nxw4UFBTgxIkTPZ6F99Tw46LyIm433cZYn7H9/BWIiGyD1TX8SE9PR3Z2tnZSnJ6GaHpq+PHPC//E\nLNksOEis5opNIiKLsLqGHydPnkRKSgoAQKlUIi8vD1KpFElJSb0K4LsL3+G/pvxXX+MmIqIHMLjh\nx+XLl7XPFy1ahMTExF4X95rGGpTcLMETjz7Rj9CJiEgfgxt+GKKgvABPPPoEHnJ8yKD9EBFRVxZt\n+JH6fSrGeIzBivH9a3pLRGTLBmzDDyEEdv28C9MDplsqBCIim2axAl92qwzqVjVk7jJLhUBEZNMs\nVuD3VezDFP8pvHuViMhELFbgD1w5gCd+z6tniIhMxWIFfv8v+zHp0UmWOjwRkc2zSIG/cvsKGlWN\nCBkRYonDExHZBbMV+NbW9ucHfjmASY9O4vg7EZEJma3Ajx8PnDiheX6w8iAeH/W4uQ5NRGSXDG74\nsWXLFsjlckRGRmLixIkoLi7udj9LlwJJScBLLwGHKo5hvO94w6MnIqIeGdzwY/To0di/fz+Ki4vx\nxhtv4KWXXup2XwsXAhcuAIOH3sNP1y/g4DdRaGoy3i9CRES6DG74MWHCBLi4uAAAYmNjUVVV1eP+\nXFyAeX85hTCPMOzf44TgYGDjRkCtNvwXISIiXQY3/Ojos88+w4wZM7p9r20++CNVRxAU6IvvvgcO\nHQJeew1YuxZ4801g7lxg0KB+/BZERDbA6hp+tNm7dy82bNiAQ4cOdft+W4FP+UcKZgRpPgQmTgT2\n7QMUCuC//xv429+AV1/VDOcMGdLrQxMR2QRjN/zQO0TTm4YfAFBcXIzU1FTk5ORg+PDheg94/Opx\njPMZp/1ZIgGeekpzNr9xI/D994C/v6bg37jRx9+GiIi09Bb4jg0/mpubsX379i7NPK5cuYI5c+bg\nyy+/RGBgoN6D1d2vw68NvyLILajb9x9/HNi5E/jxR+DKFSA0FHjuOaCwEDD9pMZERLZFb4Hv2PAj\nLCwMzz33nLbhR1vTj7feegu1tbVIS0tDdHQ0xo0b1+P+Tt84jUivSAxy0D/QHhkJrF8PVFQAkyYB\nL78MhIdrxuo7/ENBRER6mLXhx/8e/V+U3SrDhzM+7NP2QgAHDwJffAF88w0QEQHMn6/5UtbV1URB\nExFZ2IBq+FF0owjRj0T3eTuJRHMmv349cO0asGKF5ovZ3/8eiI8H/u//gKtXTRAwEdEAZtYCf/rG\naUQ9EmXQPh56CJg9G/jHPzRFPTUVOHxYc1Y/dizw1lvAkSNAS4uRgiYiGqDMNkRzX3UfrmtcUZtR\niyGOxr8GUqUCDhwA8vKA3bs14/f/8R9AXBwwbRogk2n+EyAiGigMHaLRex28MZ27eQ6BboEmKe4A\nIJUCU6dqFgD49VegoEBT7N99F6ivByZM0Cz//u+as31nZ5OEQkRkFcx2Br+xaCN2Xd6FLXO2mPpw\n3bp2TTN0c/iw5vHMGc1Z/b/9GxAVpVkiI4FhwywSHhFRF4aewZutwL+y6xW4DXHDa5NeM/XheqWp\nCSgq0iynT2uWs2eBkSM1xT40VPMBIJMBwcHAww9bOmIisjcDpsAnfJmApWOX4pngZ0x9uH5raQFK\nSzVn9xcutC9lZcCIEe3F3t8f8PPTLP7+gJsbx/eJyPgGzBj82V/PItwj3FyH6xdHRyAsTLN0pFZr\n7qy9cEHzAfDLL5qpFSoqNEtLS3vB9/HR/Bfg7a1Z2p57enIiNSIyrweewSsUCqSnp0OtVuPFF19E\nRkZGl3WWL1+OvLw8DB06FBs3bkR0tO617hKJBM5vO+POa3fgILFYn2+TqavTFP3ycs1Y//XrXR9r\nawF3d+CRRzSPI0a0L51/blsefhhwsL10EVEvmfQMvq3hR35+Pnx8fDB27FgkJSUhNDRUu05ubi4u\nXbqEsrIyHDt2DGlpaTh69GiXfcncZTZZ3AHN3bSuroBc3vM6KhVQXa2ZQK2mBlAqNY81NcDFi+3P\n2967dQtobNQU+d/9rvtl2LD2587OwNChmsXJqevzjq899BCHlIjsgd4C37HhBwBtw4+OBT4nJwcL\nFy4EoGn4UVdXh+rqanh5eensK9QjFPZMKgV8fTVLb6nVwN27wJ07+pdr1zQfBo2NwL17+p/fuwc0\nN2sKvpMTMHhw+/LQQ7o/9+Y1qVQz9OTo2L9Hfe9JJJr/YNoeOz7v6bE36/R23bYPwc6P3b3W3TpE\nlmZww4/u1qmqqupS4K9/fx2rzqwC0HXOY+reoEGaLli/NcwyGrVaU+jv3dP8Z9HUpCn6HZfevtbc\nrNlfc7Pmuwi1uv+PnV8TQrO0trY/dnze02Nv1unNukD7LKYd/0vu/NqD/oM29IPCnOsYy0DYpzXG\n2NxciObmQqPEAhip4UfnMaLutvvmo2/gMsTIlYr6ZdAgzdAPL/00nZ4+BHrzQWGpdYxlIOzTemOc\n/Nui2d/IkYY1/NBb4HvT8KPzOlVVVfDx8emyLxZ3siccsiFrYHDDj6SkJGzevBkAcPToUbi6unYZ\nniEiIvMzuOHHjBkzMHr0aAQGBmLJkiX46KOPzBL4QGXMhroDHXPRjrlox1wYzwNvdHrqqafw1FNP\n6by2ZMkSnZ/XrVtn3KhsWGFhIb9g/g1z0Y65aMdcGI9tXphOREQs8EREtspsk40REVHfWf1kY2b4\nDCEiok44RENEZKNY4ImIbBQLPBGRjTJ5gVcoFJDJZAgKCsKaNWtMfTiLe+GFF+Dl5YWIiAjta7du\n3UJcXByCg4Mxffp01NXVad/LyspCUFAQZDIZdu3aZYmQTaayshJTpkxBeHg4xowZg/fffx+Afebj\n/v37iI2NRVRUFMLCwvDaa5rWlfaYC0AzFXl0dDQSExMB2G8e/Pz8EBkZiejoaIwbNw6AkXMhTKil\npUUEBASI8vJy0dzcLORyuSgpKTHlIS1u//794tSpU2LMmDHa11599VWxZs0aIYQQ2dnZIiMjQwgh\nxLlz54RcLhfNzc2ivLxcBAQECLVabZG4TeH69euiqKhICCFEfX29CA4OFiUlJXabj4aGBiGEECqV\nSsTGxooDBw7YbS7effdd8fzzz4vExEQhhP3+jfj5+Ymamhqd14yZC5MW+MOHD4v4+Hjtz1lZWSIr\nK8uUh7QK5eXlOgU+JCRE3LhxQwihKXohISFCCCEyMzNFdna2dr34+Hhx5MgR8wZrRjNnzhS7d++2\n+3w0NDSImJgYcfbsWbvMRWVlpZg2bZooKCgQzzzzjBDCfv9G/Pz8hFKp1HnNmLkw6RBNd3PFX716\n1ZSHtEodG6B4eXmhuroaAHDt2jWd2TltOT8VFRUoKipCbGys3eajtbUVUVFR8PLy0g5d2WMuVq5c\niXfeeQcOHfpR2mMeAM09Qk8++SRiYmLw6aefAjBuLkx6HTxvcOpKIpHozYst5uzu3btITk7Ge++9\nh2HDhum8Z0/5cHBwwOnTp3H79m3Ex8dj7969Ou/bQy527twJT09PREdH9zipmD3koc2hQ4fg7e2N\nmzdvIi4uDjKZTOd9Q3Nh0jP43swnbw+8vLxw48YNAMD169fh6ekJoPdz6Q9kKpUKycnJWLBgAWbN\nmgXAvvMBAC4uLnj66adx8uRJu8vF4cOHkZOTA39/f8ybNw8FBQVYsGCB3eWhjbe3NwDAw8MDs2fP\nxvHjx42aC5MW+N7MJ28PkpKSsGnTJgDApk2btIUuKSkJ27ZtQ3NzM8rLy1FWVqb9Jt0WCCGwePFi\nhIWFIT09Xfu6PeZDqVRqr4a4d+8edu/ejejoaLvLRWZmJiorK1FeXo5t27Zh6tSp+OKLL+wuDwDQ\n2NiI+vp6AEBDQwN27dqFiIgI4+bCuF8ZdJWbmyuCg4NFQECAyMzMNPXhLC4lJUV4e3sLqVQqfH19\nxYYNG0RNTY2YNm2aCAoKEnFxcaK2tla7/ttvvy0CAgJESEiIUCgUFozc+A4cOCAkEomQy+UiKipK\nREVFiby8PLvMR3FxsYiOjhZyuVxERESItWvXCiGEXeaiTWFhofYqGnvMw+XLl4VcLhdyuVyEh4dr\n66Mxc2GWycaIiMj8eCcrEZGNYoEnIrJRLPBERDaKBZ6IyEaxwBMR2SgWeCIiG2WWln22dGsxEZE5\nGXIlu9nO4IVm5kq7X958802Lx2AtC3PBXDAX+hdDcYiGiMhGscATEdkoFngzmzx5sqVDsBrMRTvm\noh1zYTxmmYtGIpEYZTyJiMieGFo79Z7Bd9dAurPly5cjKCgIcrkcRUVF/Q6EiKiNm5ubttmFPSxu\nbm4myaPeAr9o0SIoFIoe38/NzcWlS5dQVlaG9evXIy0tzegBEpH9qa2ttfgVLOZcamtrTZJHvQV+\n0qRJGD58eI/v5+TkYOHChQCA2NhY1NXVafsHEhGRZRl0o1N3TbWrqqq0DWM7WrVqlfb55MmT+UUK\nEVEnhYWFPfaq7Q+D72Tt/AVAT3etdizwRETUVeeT39WrVxu0P4Muk7T1hrhERAOZQQU+KSkJmzdv\nBgAcPXoUrq6u3Q7PEBGR+ekdopk3bx727dsHpVKJUaNGYfXq1VCpVACAJUuWYMaMGcjNzUVgYCCc\nnZ3x+eefmyVoIiJ6MN7oRERWx95qRk+/r0lvdCIiooGLBZ6IyEaZpeEHEZGxGaOPkK2PArHAE9GA\nZOvF2Rg4RENE1A+lpaV49tlnMWXKFAwbNgyJiYn4+OOPLR2WDl5FQ0RWx9prxq1btzB37lzk5uZi\nyJAhmDVrFjZt2gQXF5d+7Y9X0RARWYkPP/wQS5cuxZAhQwAATU1NGDp0qIWj6ooFnoioj+rr6xEW\nFgYAOHfuHMLDwyGVSi0cVVcPLPAKhQIymQxBQUFYs2ZNl/eVSiUSEhIQFRWFMWPGYOPGjaaIk4jI\naqSlpWHXrl345ptvkJ+fj+zsbEuH1C29Y/BqtRohISHIz8+Hj48Pxo4di61btyI0NFS7zqpVq9DU\n1ISsrCwolUqEhISguroajo7tF+hY+3gaEVmXgVozbt68iYKCAp3X3N3dMW3aNL3bmWoMXu9lkseP\nH0dgYCD8/PwAACkpKdixY4dOgff29kZxcTEA4M6dOxgxYoROcScishceHh547rnnLB2Glt5K3F1D\nj2PHjumsk5qaiqlTp2LkyJGor6/H119/3e2+2PCDiEg/szb86Kl5R0eZmZmIiopCYWEhfv75Z8TF\nxeHMmTMYNmyYznps+EFEpJ9ZG350buhRWVkJX19fnXUOHz6MP/zhDwCAgIAA+Pv74+LFiwYFRURE\nhtNb4GNiYlBWVoaKigo0Nzdj+/btSEpK0llHJpMhPz8fAFBdXY2LFy9i9OjRpouYiIh6Re8QjaOj\nI9atW4f4+Hio1WosXrwYoaGh+OSTTwBomn68/vrrWLRoEeRyOVpbW7F27Vq4ubmZJXgiIuoZpyog\nIqtjbzWDUxUQEVGfsMATEdkoFngiIhvFAk9E1A+cD77tIHb2hQkRGaY3NUOy2vCefeLN/tWlgTIf\nPCeNIaIBqb/F2Rg4HzwRkY3qy3zwO3bsMGdoOngGT0TUR2lpacjJyUFJSQmqqqr0zgd/9+5dM0am\n64EFXqFQID09HWq1Gi+++CIyMjK6rFNYWIiVK1dCpVLB3d3dqLOhERFZG39/f6xYscLSYTyQwQ0/\n6urqMHHiRPz444/w9fWFUqmEu7u77kH4JSsR9cFArxmlpaUoKioCABw8eBCPP/44JBIJkpOTMWjQ\noC7rW23Dj6+++grJycnaWSY7F3ciInsTHByM4OBgAEBLS4vFmoAY3PCjrKwMKpUKU6ZMQX19PVas\nWIEFCxZ02RcbfhCRPepLhzura/ihUqlw6tQp7NmzB42NjZgwYQLGjx+PoKAgnfXY8IOI7FFfzt6N\n3fBDb4HvTcOPUaNGwd3dHU5OTnBycsITTzyBM2fOdCnwRERkXgY3/Jg5cyYOHjwItVqNxsZGHDt2\nTHt9KBERWY7BDT9kMhkSEhIQGRkJBwcHpKamssATEVkBzkVDRFbH3moGG34QEVGfsMATEdkozkVD\nRFZn+PDhvbpM21YMHz7cJPvlGDwRkZXiGDwREXWLBZ6IyEaxwBMR2SgWeCIiG/XAAq9QKCCTyRAU\nFIQ1a9b0uN6JEyfg6OiIb7/91qgBEhFR/+gt8Gq1GsuWLYNCoUBJSQm2bt2K8+fPd7teRkYGEhIS\neLUMEZGV0FvgOzb8kEql2oYfnX3wwQeYO3cuPDw8TBYoERH1jcENP65evYodO3agoKAAJ06c6PHm\nBDb8ICLSz+oafqSnpyM7O1t7QX5PQzRs+EFEpJ/VNfw4efIkUlJSAABKpRJ5eXmQSqVd5o0nIiLz\n0jtVQUtLC0JCQrBnzx6MHDkS48aNw9atW3Wabne0aNEiJCYmYs6cOboH4VQFRER9ZmjtNLjhBxER\nWSdONkZEZKU42RgREXWLBZ6IyEaxwBMR2SgWeCIiG8UCT0Rko1jgiYhsFAs8EZGNYoEnIrJRBjf8\n2LJlC+RyOSIjIzFx4kQUFxebJFAiIuobvXeyqtVqhISEID8/Hz4+Phg7dmyXuWiOHDmCsLAwuLi4\nQKFQYNWqVTh69KjuQXgnKxFRn5l0LpqODT8AaBt+dCzwEyZM0D6PjY1FVVVVt/vifPBERPqZdT74\n3jT86Oizzz7DjBkzun2P88ETEeln1vnge9Pwo83evXuxYcMGHDp0yKCAiIjIOAxu+AEAxcXFSE1N\nhUKhwPDhw40fJRER9Zneq2hiYmJQVlaGiooKNDc3Y/v27V06NV25cgVz5szBl19+icDAQJMGS0RE\nvWdww4+33noLtbW1SEtLAwBIpVIcP37c9JETEZFebPhBRGSl2PCDiIi6xQJPRGSjWOCJiGwUCzwR\nkY1igScislEs8ERENooFnojIRhk8HzwALF++HEFBQZDL5SgqKjJ6kERE1Hd6C7xarcayZcugUChQ\nUlKCrVu34vz58zrr5Obm4tKlSygrK8P69eu1d7QSEZFl6S3wHeeDl0ql2vngO8rJycHChQsBaOaD\nr6urQ3V1tekiJiKiXjF4Pvju1qmqqoKXl5fOepIpHaYe9vttISKidhW/LUZilPngO8+V0N12Yi/n\noiEi6ou+9OTojt4hmt7MB995naqqKvj4+BgUFBERGc7g+eCTkpKwefNmAMDRo0fh6uraZXiGiIjM\nz+D54GeTF34YAAAEhElEQVTMmIHc3FwEBgbC2dkZn3/+uVkCJyIi/TgfvJkVFhbqNNW1Z8xFO+ai\nHXPRjvPBDzCFhYWWDsFqMBftmIt2zIXxsMATEdkoFngiIhtltjF4IiLqO0NKtN6raIyFX7ASEZkf\nh2iIiGwUCzwRkY1igScislEmL/C9aRhiS1544QV4eXkhIiJC+9qtW7cQFxeH4OBgTJ8+HXV1ddr3\nsrKyEBQUBJlMhl27dlkiZJOprKzElClTEB4ejjFjxuD9998HYJ/5uH//PmJjYxEVFYWwsDC89tpr\nAOwzF4Cm10R0dDQSExMB2G8e/Pz8EBkZiejoaIwbNw6AkXMhTKilpUUEBASI8vJy0dzcLORyuSgp\nKTHlIS1u//794tSpU2LMmDHa11599VWxZs0aIYQQ2dnZIiMjQwghxLlz54RcLhfNzc2ivLxcBAQE\nCLVabZG4TeH69euiqKhICCFEfX29CA4OFiUlJXabj4aGBiGEECqVSsTGxooDBw7YbS7effdd8fzz\nz4vExEQhhP3+jfj5+Ymamhqd14yZC5MW+MOHD4v4+Hjtz1lZWSIrK8uUh7QK5eXlOgU+JCRE3Lhx\nQwihKXohISFCCCEyMzNFdna2dr34+Hhx5MgR8wZrRjNnzhS7d++2+3w0NDSImJgYcfbsWbvMRWVl\npZg2bZooKCgQzzzzjBDCfv9G/Pz8hFKp1HnNmLkw6RBNd81Arl69aspDWqXq6mrtDJteXl7ajlfX\nrl3TmX7ZlvNTUVGBoqIixMbG2m0+WltbERUVBS8vL+3QlT3mYuXKlXjnnXfg4NBefuwxD4DmHqEn\nn3wSMTEx+PTTTwEYNxcmvQ6eNzh1JZFI9ObFFnN29+5dJCcn47333sOwYcN03rOnfDg4OOD06dO4\nffs24uPjsXfvXp337SEXO3fuhKenJ6Kjo3ucc8Ye8tDm0KFD8Pb2xs2bNxEXFweZTKbzvqG5MOkZ\nfG8ahtgDLy8v3LhxAwBw/fp1eHp6ArCPZikqlQrJyclYsGABZs2aBcC+8wEALi4uePrpp3Hy5Em7\ny8Xhw4eRk5MDf39/zJs3DwUFBViwYIHd5aGNt7c3AMDDwwOzZ8/G8ePHjZoLkxb43jQMsQdJSUnY\ntGkTAGDTpk3aQpeUlIRt27ahubkZ5eXlKCsr036TbguEEFi8eDHCwsKQnp6ufd0e86FUKrVXQ9y7\ndw+7d+9GdHS03eUiMzMTlZWVKC8vx7Zt2zB16lR88cUXdpcHAGhsbER9fT0AoKGhAbt27UJERIRx\nc2Hcrwy6ys3NFcHBwSIgIEBkZmaa+nAWl5KSIry9vYVUKhW+vr5iw4YNoqamRkybNk0EBQWJuLg4\nUVtbq13/7bffFgEBASIkJEQoFAoLRm58Bw4cEBKJRMjlchEVFSWioqJEXl6eXeajuLhYREdHC7lc\nLiIiIsTatWuFEMIuc9GmsLBQexWNPebh8uXLQi6XC7lcLsLDw7X10Zi5MMtkY0REZH68k5WIyEax\nwBMR2SgWeCIiG8UCT0Rko1jgiYhsFAs8EZGN+v+HUA9BgSTsJgAAAABJRU5ErkJggg==\n"
      }
     ],
     "prompt_number": 24
    },
    {
     "cell_type": "markdown",
     "metadata": {},
     "source": [
      "### Threshold"
     ]
=======
     "prompt_number": 8
>>>>>>> 41ee12c77036c020cd283fed53feafd4dcf49479
    },
    {
     "cell_type": "code",
     "collapsed": false,
     "input": [
<<<<<<< HEAD
=======
      "fig, axes = subplots(2,1)\n",
      "\n",
      "axes[0].plot(result.times, result.expect[0], label=r'$a^\\dagger a$')\n",
      "axes[0].plot(result.times, result.expect[1], label=r'$\\sigma_+\\sigma_-$')\n",
      "axes[0].set_ylim(-0.1, 1.1)\n",
      "axes[0].legend();\n",
      "\n",
      "axes[1].plot(result.times, abs(result.expect[2]), label=r'$\\sigma_-$')\n",
      "axes[1].plot(result.times, abs(result.expect[3]), label=r'$\\sigma_+$')\n",
      "axes[1].set_ylim(-0.1, 1.1)\n",
      "axes[1].legend();"
     ],
     "language": "python",
     "metadata": {},
     "outputs": [
      {
       "output_type": "display_data",
       "png": "iVBORw0KGgoAAAANSUhEUgAAAXgAAAD5CAYAAAAtBi5vAAAABHNCSVQICAgIfAhkiAAAAAlwSFlz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\n"
      }
     ],
     "prompt_number": 9
    },
    {
     "cell_type": "markdown",
     "metadata": {},
     "source": [
      "### Threshold"
     ]
    },
    {
     "cell_type": "code",
     "collapsed": false,
     "input": [
>>>>>>> 41ee12c77036c020cd283fed53feafd4dcf49479
      "d = (W12 - W21) / (W12 + W21)\n",
      "\n",
      "d"
     ],
     "language": "python",
     "metadata": {},
     "outputs": [
      {
       "output_type": "pyout",
<<<<<<< HEAD
       "prompt_number": 25,
=======
       "prompt_number": 10,
>>>>>>> 41ee12c77036c020cd283fed53feafd4dcf49479
       "text": [
        "0.6666666666666666"
       ]
      }
     ],
<<<<<<< HEAD
     "prompt_number": 25
=======
     "prompt_number": 10
>>>>>>> 41ee12c77036c020cd283fed53feafd4dcf49479
    },
    {
     "cell_type": "code",
     "collapsed": false,
     "input": [
      "gamma = 0.5 * (W12 + W21)\n",
      "\n",
      "gamma"
     ],
     "language": "python",
     "metadata": {},
     "outputs": [
      {
       "output_type": "pyout",
<<<<<<< HEAD
       "prompt_number": 26,
=======
       "prompt_number": 11,
>>>>>>> 41ee12c77036c020cd283fed53feafd4dcf49479
       "text": [
        "0.030000000000000002"
       ]
      }
     ],
<<<<<<< HEAD
     "prompt_number": 26
=======
     "prompt_number": 11
>>>>>>> 41ee12c77036c020cd283fed53feafd4dcf49479
    },
    {
     "cell_type": "code",
     "collapsed": false,
     "input": [
      "C = d * (g/(2*pi)) ** 2 / (gamma * kappa)\n",
      "\n",
      "C"
     ],
     "language": "python",
     "metadata": {},
     "outputs": [
      {
       "output_type": "pyout",
<<<<<<< HEAD
       "prompt_number": 27,
=======
       "prompt_number": 12,
>>>>>>> 41ee12c77036c020cd283fed53feafd4dcf49479
       "text": [
        "22.222222222222225"
       ]
      }
     ],
<<<<<<< HEAD
     "prompt_number": 27
=======
     "prompt_number": 12
>>>>>>> 41ee12c77036c020cd283fed53feafd4dcf49479
    },
    {
     "cell_type": "markdown",
     "metadata": {},
     "source": [
      "### Solve with mean-field contribution"
     ]
    },
    {
     "cell_type": "markdown",
     "metadata": {},
     "source": [
      "$\\displaystyle \n",
      "H_{\\rm eff}(\\rho, t) = \\omega a^\\dagger a + \\frac{1}{2}\\omega\\sigma_z\n",
      "+ ig\\left({\\rm Tr}[\\sigma_-\\rho] a^\\dagger - {\\rm Tr}[\\sigma_+\\rho] a\\right)\n",
      "+ ig\\left({\\rm Tr}[a^\\dagger\\rho] \\sigma_- - {\\rm Tr}[a\\rho] \\sigma_+\\right)\n",
      "$"
     ]
    },
    {
     "cell_type": "code",
     "collapsed": false,
     "input": [
      "def Heff(t, rho, args):\n",
      "    \"\"\" not an optimized implementation ... \"\"\"\n",
      "    q_rho = Qobj(vec2mat(rho))\n",
      "    Heff = 1.0j * g * (expect(sm, q_rho) * a.dag() - expect(sp, q_rho) * a) \\\n",
      "         + 1.0j * g * (expect(a.dag(), q_rho) * sm - expect(a, q_rho) * sp)\n",
      "    \n",
      "    return args[0] + liouvillian_fast(Heff, []).data"
     ],
     "language": "python",
     "metadata": {},
     "outputs": [],
<<<<<<< HEAD
     "prompt_number": "*"
=======
     "prompt_number": 13
>>>>>>> 41ee12c77036c020cd283fed53feafd4dcf49479
    },
    {
     "cell_type": "code",
     "collapsed": false,
     "input": [
      "result = mesolve(Heff, psi0, tlist, c_ops, e_ops, args=[H], options=Odeoptions(rhs_with_state=True)) "
     ],
     "language": "python",
     "metadata": {},
     "outputs": [],
<<<<<<< HEAD
     "prompt_number": "*"
=======
     "prompt_number": 14
>>>>>>> 41ee12c77036c020cd283fed53feafd4dcf49479
    },
    {
     "cell_type": "code",
     "collapsed": false,
     "input": [
      "fig, ax = subplots()\n",
      "\n",
      "ax.plot(result.times, result.expect[0], label=r'$a^\\dagger a$')\n",
      "ax.plot(result.times, result.expect[1], label=r'$\\sigma_+\\sigma_-$')\n",
      "ax.set_ylim(-0.1, 1.1)\n",
      "ax.legend();"
     ],
<<<<<<< HEAD
     "language": "python",
     "metadata": {},
     "outputs": [],
     "prompt_number": "*"
=======
     "language": "python",
     "metadata": {},
     "outputs": [
      {
       "output_type": "display_data",
       "png": "iVBORw0KGgoAAAANSUhEUgAAAXgAAAD5CAYAAAAtBi5vAAAABHNCSVQICAgIfAhkiAAAAAlwSFlz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\nwAshRISSgBdCiAj1/wM1KburFsGNPQAAAABJRU5ErkJggg==\n"
      }
     ],
     "prompt_number": 15
    },
    {
     "cell_type": "markdown",
     "metadata": {},
     "source": [
      "### Software versions"
     ]
    },
    {
     "cell_type": "code",
     "collapsed": false,
     "input": [
      "from qutip.ipynbtools import version_table\n",
      "\n",
      "version_table()"
     ],
     "language": "python",
     "metadata": {},
     "outputs": [
      {
       "html": [
        "<table><tr><th>Software</th><th>Version</th></tr><tr><td>Cython</td><td>0.16</td></tr><tr><td>SciPy</td><td>0.10.1</td></tr><tr><td>QuTiP</td><td>2.3.0.dev-20456f4</td></tr><tr><td>Python</td><td>2.7.3 (default, Sep 26 2012, 21:51:14) \n",
        "[GCC 4.7.2]</td></tr><tr><td>IPython</td><td>0.13</td></tr><tr><td>OS</td><td>posix [linux2]</td></tr><tr><td>Numpy</td><td>1.6.2</td></tr><tr><td>matplotlib</td><td>1.3.x</td></tr><tr><td colspan='2'>Sat Apr 13 08:01:26 2013 JST</td></tr></table>"
       ],
       "output_type": "pyout",
       "prompt_number": 16,
       "text": [
        "<IPython.core.display.HTML at 0x4f288d0>"
       ]
      }
     ],
     "prompt_number": 16
>>>>>>> 41ee12c77036c020cd283fed53feafd4dcf49479
    }
   ],
   "metadata": {}
  }
 ]
}