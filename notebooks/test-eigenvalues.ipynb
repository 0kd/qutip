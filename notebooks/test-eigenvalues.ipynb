{
 "metadata": {
  "name": "test-eigenvalues"
 },
 "nbformat": 3,
 "nbformat_minor": 0,
 "worksheets": [
  {
   "cells": [
    {
     "cell_type": "markdown",
     "metadata": {},
     "source": [
      "# QuTiP test notebook: Test sparse/dense eigenvalue/eigenvector solvers\n",
      "\n",
      "Copyright (C) 2011 and later, Paul D. Nation & Robert J. Johansson"
     ]
    },
    {
     "cell_type": "code",
     "collapsed": false,
     "input": [
      "from qutip import *"
     ],
     "language": "python",
     "metadata": {},
     "outputs": [],
     "prompt_number": 1
    },
    {
     "cell_type": "code",
     "collapsed": false,
     "input": [
      "N = 15\n",
      "H = rand_dm(N) - rand_dm(N)"
     ],
     "language": "python",
     "metadata": {},
     "outputs": [],
     "prompt_number": 2
    },
    {
     "cell_type": "markdown",
     "metadata": {},
     "source": [
      "### Test groundstate"
     ]
    },
    {
     "cell_type": "code",
     "collapsed": false,
     "input": [
      "H.isherm = False\n",
      "e, eket1 = H.groundstate()"
     ],
     "language": "python",
     "metadata": {},
     "outputs": [
      {
       "output_type": "stream",
       "stream": "stdout",
       "text": [
        "sp_eigs\n",
        "sp_eigs: dense -> vectors\n"
       ]
      }
     ],
     "prompt_number": 3
    },
    {
     "cell_type": "code",
     "collapsed": false,
     "input": [
      "e"
     ],
     "language": "python",
     "metadata": {},
     "outputs": [
      {
       "output_type": "pyout",
       "prompt_number": 4,
       "text": [
        "(-0.16561364979282153+6.241698004422868e-18j)"
       ]
      }
     ],
     "prompt_number": 4
    },
    {
     "cell_type": "code",
     "collapsed": false,
     "input": [
      "eket1"
     ],
     "language": "python",
     "metadata": {},
     "outputs": [
      {
       "latex": [
        "\\begin{equation}\\text{Quantum object: dims = [[15], [1]], shape = [15, 1], type = ket}\\\\[1em]\\begin{pmatrix}0.439\\\\(0.257-0.095j)\\\\(0.133-0.002j)\\\\(0.138-0.002j)\\\\(0.001+0.239j)\\\\\\vdots\\\\(0.434-0.006j)\\\\(0.103+0.028j)\\\\(0.417+0.060j)\\\\(0.150+0.134j)\\\\(0.141+0.029j)\\\\\\end{pmatrix}\\end{equation}"
       ],
       "output_type": "pyout",
       "prompt_number": 5,
       "text": [
        "Quantum object: dims = [[15], [1]], shape = [15, 1], type = ket\n",
        "Qobj data =\n",
        "[[ 0.43929466+0.j        ]\n",
        " [ 0.25717595-0.0945366j ]\n",
        " [ 0.13274779-0.00221464j]\n",
        " [ 0.13813486-0.00240927j]\n",
        " [ 0.00101589+0.23878783j]\n",
        " [ 0.25727491-0.00988089j]\n",
        " [ 0.16175221+0.02613099j]\n",
        " [ 0.07660684+0.01977179j]\n",
        " [-0.22337822-0.01891935j]\n",
        " [ 0.21937618-0.04781494j]\n",
        " [ 0.43355247-0.00561831j]\n",
        " [ 0.10338088+0.02756757j]\n",
        " [ 0.41718164+0.0599161j ]\n",
        " [ 0.15035007+0.13381541j]\n",
        " [ 0.14050538+0.02856696j]]"
       ]
      }
     ],
     "prompt_number": 5
    },
    {
     "cell_type": "code",
     "collapsed": false,
     "input": [
      "(H * eket1).full() / (eket1).full()"
     ],
     "language": "python",
     "metadata": {},
     "outputs": [
      {
       "output_type": "pyout",
       "prompt_number": 6,
       "text": [
        "array([[-0.16561365 -5.12120843e-17j],\n",
        "       [-0.16561365 +2.25808037e-16j],\n",
        "       [-0.16561365 +1.79632454e-16j],\n",
        "       [-0.16561365 -4.35479664e-17j],\n",
        "       [-0.16561365 -5.90019685e-16j],\n",
        "       [-0.16561365 +1.57378107e-16j],\n",
        "       [-0.16561365 +3.81490709e-16j],\n",
        "       [-0.16561365 +1.48612042e-16j],\n",
        "       [-0.16561365 -1.29151651e-16j],\n",
        "       [-0.16561365 +1.43429302e-16j],\n",
        "       [-0.16561365 -1.30016666e-17j],\n",
        "       [-0.16561365 +2.27156358e-16j],\n",
        "       [-0.16561365 +2.85191146e-17j],\n",
        "       [-0.16561365 -7.72564238e-17j],\n",
        "       [-0.16561365 +5.92810477e-18j]])"
       ]
      }
     ],
     "prompt_number": 6
    },
    {
     "cell_type": "code",
     "collapsed": false,
     "input": [
      "H.isherm = True\n",
      "e, eket2 = H.groundstate()"
     ],
     "language": "python",
     "metadata": {},
     "outputs": [
      {
       "output_type": "stream",
       "stream": "stdout",
       "text": [
        "sp_eigs\n",
        "sp_eigs: dense -> vectors\n"
       ]
      }
     ],
     "prompt_number": 7
    },
    {
     "cell_type": "code",
     "collapsed": false,
     "input": [
      "e"
     ],
     "language": "python",
     "metadata": {},
     "outputs": [
      {
       "output_type": "pyout",
       "prompt_number": 8,
       "text": [
        "-0.16561364979282059"
       ]
      }
     ],
     "prompt_number": 8
    },
    {
     "cell_type": "code",
     "collapsed": false,
     "input": [
      "eket2"
     ],
     "language": "python",
     "metadata": {},
     "outputs": [
      {
       "latex": [
        "\\begin{equation}\\text{Quantum object: dims = [[15], [1]], shape = [15, 1], type = ket}\\\\[1em]\\begin{pmatrix}-0.439\\\\(-0.257+0.095j)\\\\(-0.133+0.002j)\\\\(-0.138+0.002j)\\\\(-0.001-0.239j)\\\\\\vdots\\\\(-0.434+0.006j)\\\\(-0.103-0.028j)\\\\(-0.417-0.060j)\\\\(-0.150-0.134j)\\\\(-0.141-0.029j)\\\\\\end{pmatrix}\\end{equation}"
       ],
       "output_type": "pyout",
       "prompt_number": 9,
       "text": [
        "Quantum object: dims = [[15], [1]], shape = [15, 1], type = ket\n",
        "Qobj data =\n",
        "[[-0.43929466+0.j        ]\n",
        " [-0.25717595+0.0945366j ]\n",
        " [-0.13274779+0.00221464j]\n",
        " [-0.13813486+0.00240927j]\n",
        " [-0.00101589-0.23878783j]\n",
        " [-0.25727491+0.00988089j]\n",
        " [-0.16175221-0.02613099j]\n",
        " [-0.07660684-0.01977179j]\n",
        " [ 0.22337822+0.01891935j]\n",
        " [-0.21937618+0.04781494j]\n",
        " [-0.43355247+0.00561831j]\n",
        " [-0.10338088-0.02756757j]\n",
        " [-0.41718164-0.0599161j ]\n",
        " [-0.15035007-0.13381541j]\n",
        " [-0.14050538-0.02856696j]]"
       ]
      }
     ],
     "prompt_number": 9
    },
    {
     "cell_type": "code",
     "collapsed": false,
     "input": [
      "(H * eket2).full() / (eket2).full()"
     ],
     "language": "python",
     "metadata": {},
     "outputs": [
      {
       "output_type": "pyout",
       "prompt_number": 10,
       "text": [
        "array([[-0.16561365 +1.32657809e-17j],\n",
        "       [-0.16561365 -2.37692671e-17j],\n",
        "       [-0.16561365 -3.96007910e-17j],\n",
        "       [-0.16561365 +2.07931731e-17j],\n",
        "       [-0.16561365 +9.23963108e-17j],\n",
        "       [-0.16561365 -9.25753573e-18j],\n",
        "       [-0.16561365 -5.22590012e-17j],\n",
        "       [-0.16561365 +6.36908751e-17j],\n",
        "       [-0.16561365 -2.31316389e-17j],\n",
        "       [-0.16561365 +2.26467319e-17j],\n",
        "       [-0.16561365 -1.77522756e-17j],\n",
        "       [-0.16561365 -0.00000000e+00j],\n",
        "       [-0.16561365 +1.22224777e-17j],\n",
        "       [-0.16561365 -1.03008565e-16j],\n",
        "       [-0.16561365 +5.92810477e-18j]])"
       ]
      }
     ],
     "prompt_number": 10
    },
    {
     "cell_type": "code",
     "collapsed": false,
     "input": [
      "eket1.full() / eket2.full()"
     ],
     "language": "python",
     "metadata": {},
     "outputs": [
      {
       "output_type": "pyout",
       "prompt_number": 11,
       "text": [
        "array([[-1. -0.00000000e+00j],\n",
        "       [-1. -4.75385342e-16j],\n",
        "       [-1. -7.87116754e-16j],\n",
        "       [-1. +9.13330322e-16j],\n",
        "       [-1. +3.18097569e-15j],\n",
        "       [-1. -6.93473586e-16j],\n",
        "       [-1. -2.04855285e-15j],\n",
        "       [-1. +4.07621600e-15j],\n",
        "       [-1. -1.23368741e-16j],\n",
        "       [-1. -5.43521565e-16j],\n",
        "       [-1. -6.50083331e-16j],\n",
        "       [-1. -1.31594028e-15j],\n",
        "       [-1. +1.62966369e-17j],\n",
        "       [-1. -1.75114561e-15j],\n",
        "       [-1. -1.61244450e-15j]])"
       ]
      }
     ],
     "prompt_number": 11
    },
    {
     "cell_type": "code",
     "collapsed": false,
     "input": [
      "abs(eket1.full() / eket2.full()).T"
     ],
     "language": "python",
     "metadata": {},
     "outputs": [
      {
       "output_type": "pyout",
       "prompt_number": 12,
       "text": [
        "array([[ 1.,  1.,  1.,  1.,  1.,  1.,  1.,  1.,  1.,  1.,  1.,  1.,  1.,\n",
        "         1.,  1.]])"
       ]
      }
     ],
     "prompt_number": 12
    },
    {
     "cell_type": "markdown",
     "metadata": {},
     "source": [
      "### Test eigenstates/eigenvectors"
     ]
    },
    {
     "cell_type": "code",
     "collapsed": false,
     "input": [
      "evals, evecs = la.eig(H.full())"
     ],
     "language": "python",
     "metadata": {},
     "outputs": [],
     "prompt_number": 13
    },
    {
     "cell_type": "code",
     "collapsed": false,
     "input": [
      "evals"
     ],
     "language": "python",
     "metadata": {},
     "outputs": [
      {
       "output_type": "pyout",
       "prompt_number": 14,
       "text": [
        "array([ 0.21471566 +1.57698256e-17j, -0.16561365 +6.24169800e-18j,\n",
        "        0.10233193 -8.21589650e-18j, -0.10024656 -2.66735956e-18j,\n",
        "       -0.07179708 +5.54069447e-18j, -0.06410088 +6.59904853e-19j,\n",
        "        0.06126899 +1.95706555e-18j, -0.03977310 +7.38411612e-19j,\n",
        "        0.04270558 -6.41272166e-18j,  0.03106936 +1.20785803e-18j,\n",
        "       -0.02279852 -8.84013872e-19j, -0.01206489 -7.12606075e-18j,\n",
        "       -0.00150156 +4.18946420e-18j,  0.01034237 -6.04813342e-18j,\n",
        "        0.01546233 +4.15656172e-18j])"
       ]
      }
     ],
     "prompt_number": 14
    },
    {
     "cell_type": "markdown",
     "metadata": {},
     "source": [
      "### Test eigenenergies with eigenvectors"
     ]
    },
    {
     "cell_type": "code",
     "collapsed": false,
     "input": [
      "H.eigenstates()[0]"
     ],
     "language": "python",
     "metadata": {},
     "outputs": [
      {
       "output_type": "stream",
       "stream": "stdout",
       "text": [
        "sp_eigs\n",
        "sp_eigs: dense -> vectors\n"
       ]
      },
      {
       "output_type": "pyout",
       "prompt_number": 15,
       "text": [
        "array([-0.16561365, -0.10024656, -0.07179708, -0.06410088, -0.0397731 ,\n",
        "       -0.02279852, -0.01206489, -0.00150156,  0.01034237,  0.01546233,\n",
        "        0.03106936,  0.04270558,  0.06126899,  0.10233193,  0.21471566])"
       ]
      }
     ],
     "prompt_number": 15
    },
    {
     "cell_type": "markdown",
     "metadata": {},
     "source": [
      "#### hermitian"
     ]
    },
    {
     "cell_type": "code",
     "collapsed": false,
     "input": [
      "H.isherm = True"
     ],
     "language": "python",
     "metadata": {},
     "outputs": [],
     "prompt_number": 16
    },
    {
     "cell_type": "code",
     "collapsed": false,
     "input": [
      "H.eigenstates(sparse=False, eigvals=5, sort='low')[0]"
     ],
     "language": "python",
     "metadata": {},
     "outputs": [
      {
       "output_type": "stream",
       "stream": "stdout",
       "text": [
        "sp_eigs\n",
        "sp_eigs: dense -> vectors\n"
       ]
      },
      {
       "output_type": "pyout",
       "prompt_number": 17,
       "text": [
        "array([-0.16561365, -0.10024656, -0.07179708, -0.06410088, -0.0397731 ])"
       ]
      }
     ],
     "prompt_number": 17
    },
    {
     "cell_type": "code",
     "collapsed": false,
     "input": [
      "H.eigenstates(sparse=False, eigvals=5, sort='high')[0]"
     ],
     "language": "python",
     "metadata": {},
     "outputs": [
      {
       "output_type": "stream",
       "stream": "stdout",
       "text": [
        "sp_eigs\n",
        "sp_eigs: dense -> vectors\n"
       ]
      },
      {
       "output_type": "pyout",
       "prompt_number": 18,
       "text": [
        "array([ 0.21471566,  0.10233193,  0.06126899,  0.04270558,  0.03106936])"
       ]
      }
     ],
     "prompt_number": 18
    },
    {
     "cell_type": "code",
     "collapsed": false,
     "input": [
      "H.eigenstates(sparse=True, eigvals=5, sort='low')[0]"
     ],
     "language": "python",
     "metadata": {},
     "outputs": [
      {
       "output_type": "stream",
       "stream": "stdout",
       "text": [
        "sp_eigs\n",
        "sp_eigs: sparse -> vectors\n"
       ]
      },
      {
       "output_type": "pyout",
       "prompt_number": 19,
       "text": [
        "array([-0.02279852, -0.01206489, -0.00150156,  0.01034237,  0.01546233])"
       ]
      }
     ],
     "prompt_number": 19
    },
    {
     "cell_type": "code",
     "collapsed": false,
     "input": [
      "H.eigenstates(sparse=True, eigvals=5, sort='high')[0]"
     ],
     "language": "python",
     "metadata": {},
     "outputs": [
      {
       "output_type": "stream",
       "stream": "stdout",
       "text": [
        "sp_eigs\n",
        "sp_eigs: sparse -> vectors\n"
       ]
      },
      {
       "output_type": "pyout",
       "prompt_number": 20,
       "text": [
        "array([ 0.21471566,  0.10233193, -0.07179708, -0.10024656, -0.16561365])"
       ]
      }
     ],
     "prompt_number": 20
    },
    {
     "cell_type": "markdown",
     "metadata": {},
     "source": [
      "#### nonhermitian"
     ]
    },
    {
     "cell_type": "code",
     "collapsed": false,
     "input": [
      "H.isherm = False"
     ],
     "language": "python",
     "metadata": {},
     "outputs": [],
     "prompt_number": 21
    },
    {
     "cell_type": "code",
     "collapsed": false,
     "input": [
      "H.eigenstates(sparse=False, eigvals=5, sort='low')[0]"
     ],
     "language": "python",
     "metadata": {},
     "outputs": [
      {
       "output_type": "stream",
       "stream": "stdout",
       "text": [
        "sp_eigs\n",
        "sp_eigs: dense -> vectors\n"
       ]
      },
      {
       "output_type": "pyout",
       "prompt_number": 22,
       "text": [
        "array([-0.16561365 +6.24169800e-18j, -0.10024656 -2.66735956e-18j,\n",
        "       -0.07179708 +5.54069447e-18j, -0.06410088 +6.59904853e-19j,\n",
        "       -0.03977310 +7.38411612e-19j])"
       ]
      }
     ],
     "prompt_number": 22
    },
    {
     "cell_type": "code",
     "collapsed": false,
     "input": [
      "H.eigenstates(sparse=False, eigvals=5, sort='high')[0]"
     ],
     "language": "python",
     "metadata": {},
     "outputs": [
      {
       "output_type": "stream",
       "stream": "stdout",
       "text": [
        "sp_eigs\n",
        "sp_eigs: dense -> vectors\n"
       ]
      },
      {
       "output_type": "pyout",
       "prompt_number": 23,
       "text": [
        "array([ 0.21471566 +1.57698256e-17j,  0.10233193 -8.21589650e-18j,\n",
        "        0.06126899 +1.95706555e-18j,  0.04270558 -6.41272166e-18j,\n",
        "        0.03106936 +1.20785803e-18j])"
       ]
      }
     ],
     "prompt_number": 23
    },
    {
     "cell_type": "code",
     "collapsed": false,
     "input": [
      "H.eigenstates(sparse=True, eigvals=5, sort='low')[0]"
     ],
     "language": "python",
     "metadata": {},
     "outputs": [
      {
       "output_type": "stream",
       "stream": "stdout",
       "text": [
        "sp_eigs\n",
        "sp_eigs: sparse -> vectors\n"
       ]
      },
      {
       "output_type": "pyout",
       "prompt_number": 24,
       "text": [
        "array([-0.16561365 -6.75667597e-18j, -0.10024656 +2.44770767e-18j,\n",
        "       -0.07179708 -2.43678145e-18j, -0.06410088 -1.63496805e-19j,\n",
        "       -0.03977310 +3.19187333e-18j])"
       ]
      }
     ],
     "prompt_number": 24
    },
    {
     "cell_type": "code",
     "collapsed": false,
     "input": [
      "H.eigenstates(sparse=True, eigvals=5, sort='high')[0]"
     ],
     "language": "python",
     "metadata": {},
     "outputs": [
      {
       "output_type": "stream",
       "stream": "stdout",
       "text": [
        "sp_eigs\n",
        "sp_eigs: sparse -> vectors\n"
       ]
      },
      {
       "output_type": "pyout",
       "prompt_number": 25,
       "text": [
        "array([ 0.21471566 -2.46547393e-18j,  0.10233193 +3.02487233e-18j,\n",
        "        0.06126899 -1.65419591e-19j,  0.04270558 -1.16459044e-18j,\n",
        "        0.03106936 +1.62738234e-18j])"
       ]
      }
     ],
     "prompt_number": 25
    },
    {
     "cell_type": "markdown",
     "metadata": {},
     "source": [
      "### Test eigenenergies"
     ]
    },
    {
     "cell_type": "markdown",
     "metadata": {},
     "source": [
      "#### hermitian"
     ]
    },
    {
     "cell_type": "code",
     "collapsed": false,
     "input": [
      "H.isherm = True"
     ],
     "language": "python",
     "metadata": {},
     "outputs": [],
     "prompt_number": 26
    },
    {
     "cell_type": "code",
     "collapsed": false,
     "input": [
      "H.eigenenergies(sparse=False, eigvals=5, sort='low')"
     ],
     "language": "python",
     "metadata": {},
     "outputs": [
      {
       "output_type": "stream",
       "stream": "stdout",
       "text": [
        "sp_eigs\n",
        "sp_eigs: dense -> values\n"
       ]
      },
      {
       "output_type": "pyout",
       "prompt_number": 27,
       "text": [
        "array([-0.16561365, -0.10024656, -0.07179708, -0.06410088, -0.0397731 ])"
       ]
      }
     ],
     "prompt_number": 27
    },
    {
     "cell_type": "code",
     "collapsed": false,
     "input": [
      "H.eigenenergies(sparse=False, eigvals=5, sort='high')"
     ],
     "language": "python",
     "metadata": {},
     "outputs": [
      {
       "output_type": "stream",
       "stream": "stdout",
       "text": [
        "sp_eigs\n",
        "sp_eigs: dense -> values\n"
       ]
      },
      {
       "output_type": "pyout",
       "prompt_number": 28,
       "text": [
        "array([ 0.21471566,  0.10233193,  0.06126899,  0.04270558,  0.03106936])"
       ]
      }
     ],
     "prompt_number": 28
    },
    {
     "cell_type": "code",
     "collapsed": false,
     "input": [
      "H.eigenenergies(sparse=True, eigvals=5, sort='low')"
     ],
     "language": "python",
     "metadata": {},
     "outputs": [
      {
       "output_type": "stream",
       "stream": "stdout",
       "text": [
        "sp_eigs\n",
        "sp_eigs: sparse -> values\n"
       ]
      },
      {
       "output_type": "pyout",
       "prompt_number": 29,
       "text": [
        "array([-0.02279852, -0.01206489, -0.00150156,  0.01034237,  0.01546233])"
       ]
      }
     ],
     "prompt_number": 29
    },
    {
     "cell_type": "code",
     "collapsed": false,
     "input": [
      "H.eigenenergies(sparse=True, eigvals=5, sort='high')"
     ],
     "language": "python",
     "metadata": {},
     "outputs": [
      {
       "output_type": "stream",
       "stream": "stdout",
       "text": [
        "sp_eigs\n",
        "sp_eigs: sparse -> values\n"
       ]
      },
      {
       "output_type": "pyout",
       "prompt_number": 30,
       "text": [
        "array([ 0.21471566,  0.10233193, -0.07179708, -0.10024656, -0.16561365])"
       ]
      }
     ],
     "prompt_number": 30
    },
    {
     "cell_type": "markdown",
     "metadata": {},
     "source": [
      "#### nonhermitian"
     ]
    },
    {
     "cell_type": "code",
     "collapsed": false,
     "input": [
      "H.isherm = False"
     ],
     "language": "python",
     "metadata": {},
     "outputs": [],
     "prompt_number": 31
    },
    {
     "cell_type": "code",
     "collapsed": false,
     "input": [
      "H.eigenenergies(sparse=False, eigvals=5, sort='low')"
     ],
     "language": "python",
     "metadata": {},
     "outputs": [
      {
       "output_type": "stream",
       "stream": "stdout",
       "text": [
        "sp_eigs\n",
        "sp_eigs: dense -> values\n"
       ]
      },
      {
       "output_type": "pyout",
       "prompt_number": 32,
       "text": [
        "array([-0.16561365 +6.24169800e-18j, -0.10024656 -2.66735956e-18j,\n",
        "       -0.07179708 +5.54069447e-18j, -0.06410088 +6.59904853e-19j,\n",
        "       -0.03977310 +7.38411612e-19j])"
       ]
      }
     ],
     "prompt_number": 32
    },
    {
     "cell_type": "code",
     "collapsed": false,
     "input": [
      "H.eigenenergies(sparse=False, eigvals=5, sort='high')"
     ],
     "language": "python",
     "metadata": {},
     "outputs": [
      {
       "output_type": "stream",
       "stream": "stdout",
       "text": [
        "sp_eigs\n",
        "sp_eigs: dense -> values\n"
       ]
      },
      {
       "output_type": "pyout",
       "prompt_number": 33,
       "text": [
        "array([ 0.21471566 +1.57698256e-17j,  0.10233193 -8.21589650e-18j,\n",
        "        0.06126899 +1.95706555e-18j,  0.04270558 -6.41272166e-18j,\n",
        "        0.03106936 +1.20785803e-18j])"
       ]
      }
     ],
     "prompt_number": 33
    },
    {
     "cell_type": "code",
     "collapsed": false,
     "input": [
      "H.eigenenergies(sparse=True, eigvals=5, sort='low')"
     ],
     "language": "python",
     "metadata": {},
     "outputs": [
      {
       "output_type": "stream",
       "stream": "stdout",
       "text": [
        "sp_eigs\n",
        "sp_eigs: sparse -> values\n"
       ]
      },
      {
       "output_type": "pyout",
       "prompt_number": 34,
       "text": [
        "array([-0.16561365 -3.50233191e-18j, -0.10024656 -1.96663796e-18j,\n",
        "       -0.07179708 -6.82898484e-19j, -0.06410088 -3.45843922e-18j,\n",
        "       -0.03977310 +1.85887882e-18j])"
       ]
      }
     ],
     "prompt_number": 34
    },
    {
     "cell_type": "code",
     "collapsed": false,
     "input": [
      "H.eigenenergies(sparse=True, eigvals=5, sort='high')"
     ],
     "language": "python",
     "metadata": {},
     "outputs": [
      {
       "output_type": "stream",
       "stream": "stdout",
       "text": [
        "sp_eigs\n",
        "sp_eigs: sparse -> values\n"
       ]
      },
      {
       "output_type": "pyout",
       "prompt_number": 35,
       "text": [
        "array([ 0.21471566 +2.33472934e-18j,  0.10233193 +1.28702649e-18j,\n",
        "        0.06126899 +3.65825014e-19j,  0.04270558 -1.52763571e-18j,\n",
        "        0.03106936 -2.47351752e-18j])"
       ]
      }
     ],
     "prompt_number": 35
    },
    {
     "cell_type": "markdown",
     "metadata": {},
     "source": [
      "### Software versions"
     ]
    },
    {
     "cell_type": "code",
     "collapsed": false,
     "input": [
      "from qutip.ipynbtools import version_table\n",
      "\n",
      "version_table()"
     ],
     "language": "python",
     "metadata": {},
     "outputs": [
      {
       "html": [
        "<table><tr><th>Software</th><th>Version</th></tr><tr><td>Cython</td><td>0.19-dev</td></tr><tr><td>SciPy</td><td>0.13.0.dev-38ad5d2</td></tr><tr><td>QuTiP</td><td>2.3.0.dev-50e5231</td></tr><tr><td>Python</td><td>2.7.3 (default, Sep 26 2012, 21:51:14) \n",
        "[GCC 4.7.2]</td></tr><tr><td>IPython</td><td>0.13</td></tr><tr><td>OS</td><td>posix [linux2]</td></tr><tr><td>Numpy</td><td>1.8.0.dev-bd7104c</td></tr><tr><td>matplotlib</td><td>1.3.x</td></tr><tr><td colspan='2'>Mon Apr 15 15:23:44 2013 JST</td></tr></table>"
       ],
       "output_type": "pyout",
       "prompt_number": 36,
       "text": [
        "<IPython.core.display.HTML at 0x3cb6a10>"
       ]
      }
     ],
     "prompt_number": 36
    }
   ],
   "metadata": {}
  }
 ]
}