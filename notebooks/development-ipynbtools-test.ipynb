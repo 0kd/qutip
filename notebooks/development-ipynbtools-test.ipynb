{
 "metadata": {
  "name": "development-ipynbtools-test"
 },
 "nbformat": 3,
 "nbformat_minor": 0,
 "worksheets": [
  {
   "cells": [
    {
     "cell_type": "markdown",
     "metadata": {},
     "source": [
      "# QuTiP development notebook for testing functions qutip.ipynbtools\n",
      "\n",
      "Copyright (C) 2011-2013, Paul D. Nation & Robert J. Johansson"
     ]
    },
    {
     "cell_type": "code",
     "collapsed": false,
     "input": [
      "%pylab inline"
     ],
     "language": "python",
     "metadata": {},
     "outputs": [],
     "prompt_number": 1
    },
    {
     "cell_type": "code",
     "collapsed": false,
     "input": [
      "from qutip import *\n",
      "import qutip.ipynbtools"
     ],
     "language": "python",
     "metadata": {},
     "outputs": [],
     "prompt_number": 2
    },
    {
     "cell_type": "code",
     "collapsed": false,
     "input": [
      "import time"
     ],
     "language": "python",
     "metadata": {},
     "outputs": [],
     "prompt_number": 3
    },
    {
     "cell_type": "markdown",
     "metadata": {},
     "source": [
      "## Software versions"
     ]
    },
    {
     "cell_type": "code",
     "collapsed": false,
     "input": [
      "qutip.ipynbtools.version_table()"
     ],
     "language": "python",
     "metadata": {},
     "outputs": [
      {
       "html": [
        "<table><tr><th>Software</th><th>Version</th></tr><tr><td>Cython</td><td>0.16</td></tr><tr><td>SciPy</td><td>0.10.1</td></tr><tr><td>QuTiP</td><td>2.2.0.dev-57e9d50</td></tr><tr><td>Python</td><td>2.7.3 (default, Sep 26 2012, 21:51:14) \n",
        "[GCC 4.7.2]</td></tr><tr><td>IPython</td><td>0.13</td></tr><tr><td>OS</td><td>posix [linux2]</td></tr><tr><td>Numpy</td><td>1.7.0.dev-3f45eaa</td></tr><tr><td>matplotlib</td><td>1.3.x</td></tr><tr><td colspan='2'>Fri Feb 22 15:39:23 2013</td></tr></table>"
       ],
       "output_type": "pyout",
       "prompt_number": 4,
       "text": [
        "<IPython.core.display.HTML at 0x29f6310>"
       ]
      }
     ],
     "prompt_number": 4
    },
    {
     "cell_type": "markdown",
     "metadata": {},
     "source": [
      "## IPython.parallel based parfor\n",
      "\n",
      "To run the following examples you first need to start an IPython cluster. Easy to do from the \"Clusters\" tab on the IPython notebook dashboard page, or from the command-line using\n",
      "\n",
      "    $ ipcluster start -n 4\n",
      "\n",
      "### Simple example"
     ]
    },
    {
     "cell_type": "code",
     "collapsed": false,
     "input": [
      "delay_times = numpy.random.rand(10)\n",
      "\n",
      "delay_times"
     ],
     "language": "python",
     "metadata": {},
     "outputs": [
      {
       "output_type": "pyout",
       "prompt_number": 5,
       "text": [
        "array([ 0.06426844,  0.41420778,  0.36198679,  0.64570932,  0.50269166,\n",
        "        0.32902848,  0.13219905,  0.62078822,  0.18928234,  0.30819656])"
       ]
      }
     ],
     "prompt_number": 5
    },
    {
     "cell_type": "code",
     "collapsed": false,
     "input": [
      "def task(delay):\n",
      "    import os, time\n",
      "\n",
      "    t0 = time.time()\n",
      "    pid = os.getpid()\n",
      "    time.sleep(delay)\n",
      "    t1 = time.time()\n",
      "    \n",
      "    return (t1-t0)  # return the actual delay"
     ],
     "language": "python",
     "metadata": {},
     "outputs": [],
     "prompt_number": 6
    },
    {
     "cell_type": "code",
     "collapsed": false,
     "input": [
      "result = map(task, delay_times)\n",
      "\n",
      "result"
     ],
     "language": "python",
     "metadata": {},
     "outputs": [
      {
       "output_type": "pyout",
       "prompt_number": 7,
       "text": [
        "[0.06435394287109375,\n",
        " 0.4146440029144287,\n",
        " 0.3623769283294678,\n",
        " 0.6463849544525146,\n",
        " 0.5032141208648682,\n",
        " 0.32937192916870117,\n",
        " 0.13236594200134277,\n",
        " 0.6214268207550049,\n",
        " 0.18948006629943848,\n",
        " 0.3085160255432129]"
       ]
      }
     ],
     "prompt_number": 7
    },
    {
     "cell_type": "code",
     "collapsed": false,
     "input": [
      "result = qutip.ipynbtools.parfor(task, delay_times, show_scheduling=True, show_progressbar=True)"
     ],
     "language": "python",
     "metadata": {},
     "outputs": [
      {
       "html": [
        "<div style=\"border: 1px solid grey; width: 600px\">\n",
        "  <div id=\"8fa29efa-6663-43da-b6a9-cc4a13e2c0fd\" style=\"background-color: rgba(0,200,0,0.35); width:0%\">&nbsp;</div>\n",
        "</div> \n"
       ],
       "output_type": "display_data",
       "text": [
        "<IPython.core.display.HTML at 0x3a2c210>"
       ]
      },
      {
       "javascript": [
        "$('div#8fa29efa-6663-43da-b6a9-cc4a13e2c0fd').width('0%')"
       ],
       "output_type": "display_data",
       "text": [
        "<IPython.core.display.Javascript at 0x398f650>"
       ]
      },
      {
       "javascript": [
        "$('div#8fa29efa-6663-43da-b6a9-cc4a13e2c0fd').width('30%')"
       ],
       "output_type": "display_data",
       "text": [
        "<IPython.core.display.Javascript at 0x3a2c590>"
       ]
      },
      {
       "javascript": [
        "$('div#8fa29efa-6663-43da-b6a9-cc4a13e2c0fd').width('90%')"
       ],
       "output_type": "display_data",
       "text": [
        "<IPython.core.display.Javascript at 0x398f650>"
       ]
      },
      {
       "javascript": [
        "$('div#8fa29efa-6663-43da-b6a9-cc4a13e2c0fd').width('100%')"
       ],
       "output_type": "display_data",
       "text": [
        "<IPython.core.display.Javascript at 0x3a2c590>"
       ]
      },
      {
       "output_type": "display_data",
       "png": "[encoded data removed]"
      }
     ],
     "prompt_number": 8
    },
    {
     "cell_type": "code",
     "collapsed": false,
     "input": [
      "result"
     ],
     "language": "python",
     "metadata": {},
     "outputs": [
      {
       "output_type": "pyout",
       "prompt_number": 9,
       "text": [
        "[0.06435704231262207,\n",
        " 0.4146401882171631,\n",
        " 0.36237001419067383,\n",
        " 0.646373987197876,\n",
        " 0.5032110214233398,\n",
        " 0.3293759822845459,\n",
        " 0.13234901428222656,\n",
        " 0.6214251518249512,\n",
        " 0.18949103355407715,\n",
        " 0.30852603912353516]"
       ]
      }
     ],
     "prompt_number": 9
    },
    {
     "cell_type": "markdown",
     "metadata": {},
     "source": [
      "### QuTiP example 1: steady state of a qubit-cavity system"
     ]
    },
    {
     "cell_type": "code",
     "collapsed": false,
     "input": [
      "def visualize_results(g_vec, n_vec):\n",
      "    \n",
      "    fig, ax = subplots()\n",
      "    ax.plot(g_vec, n_vec, lw=2)\n",
      "    ax.set_xlabel('Coupling strength (g)')\n",
      "    ax.set_ylabel('Photon Number')\n",
      "    ax.set_title('# of photons in the steady state')"
     ],
     "language": "python",
     "metadata": {},
     "outputs": [],
     "prompt_number": 10
    },
    {
     "cell_type": "code",
     "collapsed": false,
     "input": [
      "def compute_task(g, args):\n",
      "    wc, wa, N, kappa, n_th = args['wc'], args['wa'], args['N'], args['kappa'], args['n_th']\n",
      "    \n",
      "    a = tensor(destroy(N), qeye(2))\n",
      "    sm = tensor(qeye(N), destroy(2))\n",
      "    nc = a.dag() * a\n",
      "    na = sm.dag() * sm\n",
      "\n",
      "    c_ops = [sqrt(kappa * (1 + n_th)) * a, sqrt(kappa * n_th) * a.dag()]\n",
      "\n",
      "    H0 = wc * nc + wa * na\n",
      "    H1 = (a.dag() + a) * (sm + sm.dag())\n",
      "    H = H0 + g * H1\n",
      "    \n",
      "    rho_ss = steadystate(H, c_ops)\n",
      "    return expect(nc, rho_ss)"
     ],
     "language": "python",
     "metadata": {},
     "outputs": [],
     "prompt_number": 11
    },
    {
     "cell_type": "code",
     "collapsed": false,
     "input": [
      "# problem parameters\n",
      "args = {'wc': 1.0 * 2 * pi,  # cavity frequency\n",
      "        'wa': 1.0 * 2 * pi,  # atom frequency\n",
      "        'N':  25,            # number of cavity fock states\n",
      "        'kappa': 0.05,\n",
      "        'n_th':  0.5,\n",
      "        }\n",
      "\n",
      "g_vec = linspace(0, 2.5, 50) * 2 * pi"
     ],
     "language": "python",
     "metadata": {},
     "outputs": [],
     "prompt_number": 12
    },
    {
     "cell_type": "code",
     "collapsed": false,
     "input": [
      "# serial calculation\n",
      "t0 = time.time()\n",
      "n_vec = array([compute_task(g, args) for g in g_vec])\n",
      "t1 = time.time()\n",
      "\n",
      "print \"elapsed =\", (t1-t0)"
     ],
     "language": "python",
     "metadata": {},
     "outputs": [
      {
       "output_type": "stream",
       "stream": "stdout",
       "text": [
        "elapsed = 33.4879219532\n"
       ]
      }
     ],
     "prompt_number": 13
    },
    {
     "cell_type": "code",
     "collapsed": false,
     "input": [
      "visualize_results(g_vec / (2 * pi), n_vec)"
     ],
     "language": "python",
     "metadata": {},
     "outputs": [
      {
       "output_type": "display_data",
       "png": "[encoded data removed]"
      }
     ],
     "prompt_number": 14
    },
    {
     "cell_type": "code",
     "collapsed": false,
     "input": [
      "# parallel calculation\n",
      "t0 = time.time()\n",
      "n_vec = qutip.ipynbtools.parfor(compute_task, g_vec, args=args, show_scheduling=True, show_progressbar=True)\n",
      "t1 = time.time()\n",
      "\n",
      "print \"elapsed =\", (t1-t0)"
     ],
     "language": "python",
     "metadata": {},
     "outputs": [
      {
       "html": [
        "<div style=\"border: 1px solid grey; width: 600px\">\n",
        "  <div id=\"65adab60-c4ac-41dd-8616-c5e51f4583aa\" style=\"background-color: rgba(0,200,0,0.35); width:0%\">&nbsp;</div>\n",
        "</div> \n"
       ],
       "output_type": "display_data",
       "text": [
        "<IPython.core.display.HTML at 0x3a5ab10>"
       ]
      },
      {
       "javascript": [
        "$('div#65adab60-c4ac-41dd-8616-c5e51f4583aa').width('0%')"
       ],
       "output_type": "display_data",
       "text": [
        "<IPython.core.display.Javascript at 0x3a5da90>"
       ]
      },
      {
       "javascript": [
        "$('div#65adab60-c4ac-41dd-8616-c5e51f4583aa').width('0%')"
       ],
       "output_type": "display_data",
       "text": [
        "<IPython.core.display.Javascript at 0x3a5da90>"
       ]
      },
      {
       "javascript": [
        "$('div#65adab60-c4ac-41dd-8616-c5e51f4583aa').width('8%')"
       ],
       "output_type": "display_data",
       "text": [
        "<IPython.core.display.Javascript at 0x3b75cd0>"
       ]
      },
      {
       "javascript": [
        "$('div#65adab60-c4ac-41dd-8616-c5e51f4583aa').width('16%')"
       ],
       "output_type": "display_data",
       "text": [
        "<IPython.core.display.Javascript at 0x3a5da90>"
       ]
      },
      {
       "javascript": [
        "$('div#65adab60-c4ac-41dd-8616-c5e51f4583aa').width('16%')"
       ],
       "output_type": "display_data",
       "text": [
        "<IPython.core.display.Javascript at 0x3a5da90>"
       ]
      },
      {
       "javascript": [
        "$('div#65adab60-c4ac-41dd-8616-c5e51f4583aa').width('24%')"
       ],
       "output_type": "display_data",
       "text": [
        "<IPython.core.display.Javascript at 0x3b75cd0>"
       ]
      },
      {
       "javascript": [
        "$('div#65adab60-c4ac-41dd-8616-c5e51f4583aa').width('32%')"
       ],
       "output_type": "display_data",
       "text": [
        "<IPython.core.display.Javascript at 0x3a5da90>"
       ]
      },
      {
       "javascript": [
        "$('div#65adab60-c4ac-41dd-8616-c5e51f4583aa').width('34%')"
       ],
       "output_type": "display_data",
       "text": [
        "<IPython.core.display.Javascript at 0x3b75cd0>"
       ]
      },
      {
       "javascript": [
        "$('div#65adab60-c4ac-41dd-8616-c5e51f4583aa').width('40%')"
       ],
       "output_type": "display_data",
       "text": [
        "<IPython.core.display.Javascript at 0x3a5da90>"
       ]
      },
      {
       "javascript": [
        "$('div#65adab60-c4ac-41dd-8616-c5e51f4583aa').width('48%')"
       ],
       "output_type": "display_data",
       "text": [
        "<IPython.core.display.Javascript at 0x3b75cd0>"
       ]
      },
      {
       "javascript": [
        "$('div#65adab60-c4ac-41dd-8616-c5e51f4583aa').width('50%')"
       ],
       "output_type": "display_data",
       "text": [
        "<IPython.core.display.Javascript at 0x3a5da90>"
       ]
      },
      {
       "javascript": [
        "$('div#65adab60-c4ac-41dd-8616-c5e51f4583aa').width('56%')"
       ],
       "output_type": "display_data",
       "text": [
        "<IPython.core.display.Javascript at 0x3b75cd0>"
       ]
      },
      {
       "javascript": [
        "$('div#65adab60-c4ac-41dd-8616-c5e51f4583aa').width('64%')"
       ],
       "output_type": "display_data",
       "text": [
        "<IPython.core.display.Javascript at 0x3a5da90>"
       ]
      },
      {
       "javascript": [
        "$('div#65adab60-c4ac-41dd-8616-c5e51f4583aa').width('70%')"
       ],
       "output_type": "display_data",
       "text": [
        "<IPython.core.display.Javascript at 0x3b75cd0>"
       ]
      },
      {
       "javascript": [
        "$('div#65adab60-c4ac-41dd-8616-c5e51f4583aa').width('74%')"
       ],
       "output_type": "display_data",
       "text": [
        "<IPython.core.display.Javascript at 0x3a5da90>"
       ]
      },
      {
       "javascript": [
        "$('div#65adab60-c4ac-41dd-8616-c5e51f4583aa').width('80%')"
       ],
       "output_type": "display_data",
       "text": [
        "<IPython.core.display.Javascript at 0x3b75cd0>"
       ]
      },
      {
       "javascript": [
        "$('div#65adab60-c4ac-41dd-8616-c5e51f4583aa').width('86%')"
       ],
       "output_type": "display_data",
       "text": [
        "<IPython.core.display.Javascript at 0x3a5da90>"
       ]
      },
      {
       "javascript": [
        "$('div#65adab60-c4ac-41dd-8616-c5e51f4583aa').width('92%')"
       ],
       "output_type": "display_data",
       "text": [
        "<IPython.core.display.Javascript at 0x3b75cd0>"
       ]
      },
      {
       "javascript": [
        "$('div#65adab60-c4ac-41dd-8616-c5e51f4583aa').width('96%')"
       ],
       "output_type": "display_data",
       "text": [
        "<IPython.core.display.Javascript at 0x3a5da90>"
       ]
      },
      {
       "javascript": [
        "$('div#65adab60-c4ac-41dd-8616-c5e51f4583aa').width('100%')"
       ],
       "output_type": "display_data",
       "text": [
        "<IPython.core.display.Javascript at 0x3b75cd0>"
       ]
      },
      {
       "output_type": "stream",
       "stream": "stdout",
       "text": [
        "elapsed = 9.40947413445\n"
       ]
      },
      {
       "output_type": "display_data",
       "png": "[encoded data removed]"
      }
     ],
     "prompt_number": 15
    },
    {
     "cell_type": "code",
     "collapsed": false,
     "input": [
      "visualize_results(g_vec / (2 * pi), n_vec)"
     ],
     "language": "python",
     "metadata": {},
     "outputs": [
      {
       "output_type": "display_data",
       "png": "[encoded data removed]"
      }
     ],
     "prompt_number": 16
    },
    {
     "cell_type": "markdown",
     "metadata": {},
     "source": [
      "### QuTiP example 2: steady state of a qubit-cavity system with pre-allocated Qobjs"
     ]
    },
    {
     "cell_type": "code",
     "collapsed": false,
     "input": [
      "def compute_task(g, args):\n",
      "    H0, H1, c_ops, nc = args['H0'], args['H1'], args['c_ops'], args['nc']\n",
      "    H = H0 + g * H1\n",
      "    rho_ss = steadystate(H, c_ops)\n",
      "    return expect(nc, rho_ss)"
     ],
     "language": "python",
     "metadata": {},
     "outputs": [],
     "prompt_number": 17
    },
    {
     "cell_type": "code",
     "collapsed": false,
     "input": [
      "# problem parameters\n",
      "wc = 1.0 * 2 * pi\n",
      "wa = 1.0 * 2 * pi\n",
      "N = 25\n",
      "kappa = 0.05\n",
      "n_th = 0.5\n",
      "\n",
      "a = tensor(destroy(N), qeye(2))\n",
      "sm = tensor(qeye(N), destroy(2))\n",
      "nc = a.dag() * a\n",
      "na = sm.dag() * sm\n",
      "\n",
      "c_ops = [sqrt(kappa * (1 + n_th)) * a, sqrt(kappa * n_th) * a.dag()]\n",
      "\n",
      "H0 = wc * nc + wa * na\n",
      "H1 = (a.dag() + a) * (sm + sm.dag())\n",
      "\n",
      "args = {'H0': H0,\n",
      "        'H1': H1,\n",
      "        'c_ops': c_ops,\n",
      "        'nc': nc\n",
      "        }\n",
      "\n",
      "g_vec = linspace(0, 2.5, 50) * 2 * pi"
     ],
     "language": "python",
     "metadata": {},
     "outputs": [],
     "prompt_number": 18
    },
    {
     "cell_type": "code",
     "collapsed": false,
     "input": [
      "# serial calculation\n",
      "t0 = time.time()\n",
      "n_vec = array([compute_task(g, args) for g in g_vec])\n",
      "t1 = time.time()\n",
      "\n",
      "print \"elapsed =\", (t1-t0)"
     ],
     "language": "python",
     "metadata": {},
     "outputs": [
      {
       "output_type": "stream",
       "stream": "stdout",
       "text": [
        "elapsed = 32.1247549057\n"
       ]
      }
     ],
     "prompt_number": 19
    },
    {
     "cell_type": "code",
     "collapsed": false,
     "input": [
      "visualize_results(g_vec / (2 * pi), n_vec)"
     ],
     "language": "python",
     "metadata": {},
     "outputs": [
      {
       "output_type": "display_data",
       "png": "[encoded data removed]"
      }
     ],
     "prompt_number": 20
    },
    {
     "cell_type": "code",
     "collapsed": false,
     "input": [
      "# parallel calculation\n",
      "t0 = time.time()\n",
      "n_vec = qutip.ipynbtools.parfor(compute_task, g_vec, args=args, show_scheduling=True, show_progressbar=True)\n",
      "t1 = time.time()\n",
      "\n",
      "print \"elapsed =\", (t1-t0)"
     ],
     "language": "python",
     "metadata": {},
     "outputs": [
      {
       "html": [
        "<div style=\"border: 1px solid grey; width: 600px\">\n",
        "  <div id=\"227d3217-5913-475a-bc40-3506e927c42e\" style=\"background-color: rgba(0,200,0,0.35); width:0%\">&nbsp;</div>\n",
        "</div> \n"
       ],
       "output_type": "display_data",
       "text": [
        "<IPython.core.display.HTML at 0x3a2c3d0>"
       ]
      },
      {
       "javascript": [
        "$('div#227d3217-5913-475a-bc40-3506e927c42e').width('0%')"
       ],
       "output_type": "display_data",
       "text": [
        "<IPython.core.display.Javascript at 0x3a61310>"
       ]
      },
      {
       "javascript": [
        "$('div#227d3217-5913-475a-bc40-3506e927c42e').width('0%')"
       ],
       "output_type": "display_data",
       "text": [
        "<IPython.core.display.Javascript at 0x3a61310>"
       ]
      },
      {
       "javascript": [
        "$('div#227d3217-5913-475a-bc40-3506e927c42e').width('8%')"
       ],
       "output_type": "display_data",
       "text": [
        "<IPython.core.display.Javascript at 0x3b6fe50>"
       ]
      },
      {
       "javascript": [
        "$('div#227d3217-5913-475a-bc40-3506e927c42e').width('14%')"
       ],
       "output_type": "display_data",
       "text": [
        "<IPython.core.display.Javascript at 0x3a61310>"
       ]
      },
      {
       "javascript": [
        "$('div#227d3217-5913-475a-bc40-3506e927c42e').width('16%')"
       ],
       "output_type": "display_data",
       "text": [
        "<IPython.core.display.Javascript at 0x3b6fe50>"
       ]
      },
      {
       "javascript": [
        "$('div#227d3217-5913-475a-bc40-3506e927c42e').width('24%')"
       ],
       "output_type": "display_data",
       "text": [
        "<IPython.core.display.Javascript at 0x3a61310>"
       ]
      },
      {
       "javascript": [
        "$('div#227d3217-5913-475a-bc40-3506e927c42e').width('32%')"
       ],
       "output_type": "display_data",
       "text": [
        "<IPython.core.display.Javascript at 0x3b6fe50>"
       ]
      },
      {
       "javascript": [
        "$('div#227d3217-5913-475a-bc40-3506e927c42e').width('36%')"
       ],
       "output_type": "display_data",
       "text": [
        "<IPython.core.display.Javascript at 0x3a61310>"
       ]
      },
      {
       "javascript": [
        "$('div#227d3217-5913-475a-bc40-3506e927c42e').width('40%')"
       ],
       "output_type": "display_data",
       "text": [
        "<IPython.core.display.Javascript at 0x3b6fe50>"
       ]
      },
      {
       "javascript": [
        "$('div#227d3217-5913-475a-bc40-3506e927c42e').width('48%')"
       ],
       "output_type": "display_data",
       "text": [
        "<IPython.core.display.Javascript at 0x3a61310>"
       ]
      },
      {
       "javascript": [
        "$('div#227d3217-5913-475a-bc40-3506e927c42e').width('56%')"
       ],
       "output_type": "display_data",
       "text": [
        "<IPython.core.display.Javascript at 0x3b6fe50>"
       ]
      },
      {
       "javascript": [
        "$('div#227d3217-5913-475a-bc40-3506e927c42e').width('57%')"
       ],
       "output_type": "display_data",
       "text": [
        "<IPython.core.display.Javascript at 0x3a61310>"
       ]
      },
      {
       "javascript": [
        "$('div#227d3217-5913-475a-bc40-3506e927c42e').width('64%')"
       ],
       "output_type": "display_data",
       "text": [
        "<IPython.core.display.Javascript at 0x3b6fe50>"
       ]
      },
      {
       "javascript": [
        "$('div#227d3217-5913-475a-bc40-3506e927c42e').width('72%')"
       ],
       "output_type": "display_data",
       "text": [
        "<IPython.core.display.Javascript at 0x3a61310>"
       ]
      },
      {
       "javascript": [
        "$('div#227d3217-5913-475a-bc40-3506e927c42e').width('80%')"
       ],
       "output_type": "display_data",
       "text": [
        "<IPython.core.display.Javascript at 0x3b6fe50>"
       ]
      },
      {
       "javascript": [
        "$('div#227d3217-5913-475a-bc40-3506e927c42e').width('82%')"
       ],
       "output_type": "display_data",
       "text": [
        "<IPython.core.display.Javascript at 0x3a61310>"
       ]
      },
      {
       "javascript": [
        "$('div#227d3217-5913-475a-bc40-3506e927c42e').width('88%')"
       ],
       "output_type": "display_data",
       "text": [
        "<IPython.core.display.Javascript at 0x3b6fe50>"
       ]
      },
      {
       "javascript": [
        "$('div#227d3217-5913-475a-bc40-3506e927c42e').width('96%')"
       ],
       "output_type": "display_data",
       "text": [
        "<IPython.core.display.Javascript at 0x3a61310>"
       ]
      },
      {
       "javascript": [
        "$('div#227d3217-5913-475a-bc40-3506e927c42e').width('100%')"
       ],
       "output_type": "display_data",
       "text": [
        "<IPython.core.display.Javascript at 0x3b6fe50>"
       ]
      },
      {
       "output_type": "stream",
       "stream": "stdout",
       "text": [
        "elapsed = 9.11867499352\n"
       ]
      },
      {
       "output_type": "display_data",
       "png": "[encoded data removed]"
      }
     ],
     "prompt_number": 21
    },
    {
     "cell_type": "code",
     "collapsed": false,
     "input": [
      "visualize_results(g_vec / (2 * pi), n_vec)"
     ],
     "language": "python",
     "metadata": {},
     "outputs": [
      {
       "output_type": "display_data",
       "png": "[encoded data removed]"
      }
     ],
     "prompt_number": 22
    }
   ],
   "metadata": {}
  }
 ]
}