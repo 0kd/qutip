{
 "metadata": {
  "name": "development-mean-field-master-equations"
 },
 "nbformat": 3,
 "nbformat_minor": 0,
 "worksheets": [
  {
   "cells": [
    {
     "cell_type": "markdown",
     "metadata": {},
     "source": [
      "# QuTiP development notebook for testing new TD function callback signature\n",
      "\n",
      "Copyright (C) 2011 and later, Paul D. Nation & Robert J. Johansson"
     ]
    },
    {
     "cell_type": "code",
     "collapsed": false,
     "input": [
      "%pylab inline"
     ],
     "language": "python",
     "metadata": {},
     "outputs": [
      {
       "output_type": "stream",
       "stream": "stdout",
       "text": [
        "\n",
        "Welcome to pylab, a matplotlib-based Python environment [backend: module://IPython.kernel.zmq.pylab.backend_inline].\n",
        "For more information, type 'help(pylab)'.\n"
       ]
      }
     ],
     "prompt_number": 1
    },
    {
     "cell_type": "code",
     "collapsed": false,
     "input": [
      "from qutip import *"
     ],
     "language": "python",
     "metadata": {},
     "outputs": [],
     "prompt_number": 2
    },
    {
     "cell_type": "code",
     "collapsed": false,
     "input": [
      "from qutip.ipynbtools import HTMLProgressBar\n",
      "from qutip.gui.progressbar import TextProgressBar"
     ],
     "language": "python",
     "metadata": {},
     "outputs": [],
     "prompt_number": 3
    },
    {
     "cell_type": "markdown",
     "metadata": {},
     "source": [
      "## Problem description\n",
      "\n",
      "Consider the mean-field laser master equation on the form (Breuer and Petruccione)\n",
      "\n",
      "$\\displaystyle \\dot\\rho = -i [H, \\rho]\n",
      "+ 2\\kappa \\mathcal{D}[a] \n",
      "+ W_{21} \\mathcal{D}[\\sigma_-] \n",
      "+ W_{12} \\mathcal{D}[\\sigma_+]\n",
      "+ g [{\\rm Tr}[\\sigma_-\\rho] a^\\dagger - {\\rm Tr}[\\sigma_+\\rho] a, \\rho]\n",
      "+ g [{\\rm Tr}[a^\\dagger\\rho] \\sigma_- - {\\rm Tr}[a\\rho] \\sigma_+, \\rho] $\n",
      "\n",
      "where the dissipator superoperator is \n",
      "\n",
      "$\\displaystyle \\mathcal{D}[a] = a\\rho a^\\dagger - \\frac{1}{2}a^\\dagger a \\rho - \\frac{1}{2}\\rho a^\\dagger a,$\n",
      "\n",
      "$W_{21}$ and $W_{12}$ are the atomic relaxation rate and pump rate, respectively, and ${\\rm Tr}[A\\rho]$ is the expectation value of the operator $A$ with respect to the density operator $\\rho$.\n",
      "\n",
      "The Hamiltonian is given by\n",
      "\n",
      "$\\displaystyle H = \\omega a^\\dagger a + \\frac{1}{2}\\omega\\sigma_z$.\n",
      "\n",
      "Except for the two last term, the above master equation is on standard Lindblad form and could, if $g = 0$, be solved with the QuTiP solver `mesolve`.\n",
      "\n",
      "We could write the master equation above on standard Lindblad form using an effective (nonhermitian?) Hamiltonian, corresponding to a nonlinear Schrodinger equation,\n",
      "\n",
      "$\\displaystyle \\dot\\rho = -i [H_{\\rm eff}(\\rho, t), \\rho]\n",
      "+ 2\\kappa \\mathcal{D}[a] + W_{21} \\mathcal{D}[\\sigma_-] + W_{12} \\mathcal{D}[\\sigma_+]$\n",
      "\n",
      "where\n",
      "\n",
      "$\\displaystyle \n",
      "H_{\\rm eff}(\\rho, t) = \\omega a^\\dagger a + \\frac{1}{2}\\omega\\sigma_z\n",
      "+ ig\\left({\\rm Tr}[\\sigma_-\\rho] a^\\dagger - {\\rm Tr}[\\sigma_+\\rho] a\\right)\n",
      "+ ig\\left({\\rm Tr}[a^\\dagger\\rho] \\sigma_- - {\\rm Tr}[a\\rho] \\sigma_+\\right)\n",
      "$\n",
      "\n",
      "In QuTiP (development version required) we implement this effective Hamiltonian using the Python callback function format for time-dependent Hamiltonians, but to calculate $H_{\\rm eff}(t)$ we need to have access to $\\rho(t)$, but the QuTiP time-dependent function callback signature is\n",
      "\n",
      "    def h_t(t, args):\n",
      "        ...\n",
      "        return h_eff\n",
      "\n",
      "However, the solver `mesolve` that calls the callback function has access to $\\rho(t)$ (or $\\left|\\psi(t)\\right>$ for unitary dynamics), so it would be useful to change the callback function signature to\n",
      "\n",
      "    def h_t(t, rho, args):\n",
      "        ...\n",
      "        return h_eff\n",
      "\n",
      "To avoid breaking backwards compatibility in the API, the inclusion of rho in the function signature is optionally activated with a keyword argument or setting in Odeoptions, see below."
     ]
    },
    {
     "cell_type": "markdown",
     "metadata": {},
     "source": [
      "### QuTiP implementation"
     ]
    },
    {
     "cell_type": "code",
     "collapsed": false,
     "input": [
      "N = 10\n",
      "\n",
      "w = 1.0 * 2 * pi\n",
      "g = 0.1 * 2 * pi\n",
      "kappa = 0.005\n",
      "W21 = 0.01\n",
      "W12 = 0.05\n",
      "\n",
      "tlist = linspace(0, 300, 300)\n",
      "\n",
      "# cavity operators\n",
      "a = tensor(destroy(N), identity(2))\n",
      "\n",
      "# atomic operators\n",
      "sz = tensor(identity(N), sigmaz())\n",
      "sx = tensor(identity(N), sigmax())\n",
      "sm = tensor(identity(N), destroy(2))\n",
      "sp = tensor(identity(N), create(2))"
     ],
     "language": "python",
     "metadata": {},
     "outputs": [],
     "prompt_number": 4
    },
    {
     "cell_type": "code",
     "collapsed": false,
     "input": [
      "#psi0 = tensor(fock(N, 0), fock(2, 0)) # start with the vacuum + ground state\n",
      "psi0 = tensor(coherent(N, 0.5), fock(2, 0)) # start a small coherent sate + ground state"
     ],
     "language": "python",
     "metadata": {},
     "outputs": [],
     "prompt_number": 5
    },
    {
     "cell_type": "code",
     "collapsed": false,
     "input": [
      "theta = 0.0\n",
      "\n",
      "H = w * a.dag() * a - 0.5 * w * (cos(2*theta) * sz + sin(2*theta) * sx)\n",
      "\n",
      "H"
     ],
     "language": "python",
     "metadata": {},
     "outputs": [
      {
       "latex": [
        "\\begin{equation}\\text{Quantum object: dims = [[10, 2], [10, 2]], shape = [20, 20], type = oper, isHerm = True}\\\\[1em]\\begin{pmatrix}-3.142 & 0.0 & 0.0 & 0.0 & 0.0 & \\cdots & 0.0 & 0.0 & 0.0 & 0.0 & 0.0\\\\0.0 & 3.142 & 0.0 & 0.0 & 0.0 & \\cdots & 0.0 & 0.0 & 0.0 & 0.0 & 0.0\\\\0.0 & 0.0 & 3.142 & 0.0 & 0.0 & \\cdots & 0.0 & 0.0 & 0.0 & 0.0 & 0.0\\\\0.0 & 0.0 & 0.0 & 9.425 & 0.0 & \\cdots & 0.0 & 0.0 & 0.0 & 0.0 & 0.0\\\\0.0 & 0.0 & 0.0 & 0.0 & 9.425 & \\cdots & 0.0 & 0.0 & 0.0 & 0.0 & 0.0\\\\\\vdots & \\vdots & \\vdots & \\vdots & \\vdots & \\ddots & \\vdots & \\vdots & \\vdots & \\vdots & \\vdots\\\\0.0 & 0.0 & 0.0 & 0.0 & 0.0 & \\cdots & 47.124 & 0.0 & 0.0 & 0.0 & 0.0\\\\0.0 & 0.0 & 0.0 & 0.0 & 0.0 & \\cdots & 0.0 & 47.124 & 0.0 & 0.0 & 0.0\\\\0.0 & 0.0 & 0.0 & 0.0 & 0.0 & \\cdots & 0.0 & 0.0 & 53.407 & 0.0 & 0.0\\\\0.0 & 0.0 & 0.0 & 0.0 & 0.0 & \\cdots & 0.0 & 0.0 & 0.0 & 53.407 & 0.0\\\\0.0 & 0.0 & 0.0 & 0.0 & 0.0 & \\cdots & 0.0 & 0.0 & 0.0 & 0.0 & 59.690\\\\\\end{pmatrix}\\end{equation}"
       ],
       "metadata": {},
       "output_type": "pyout",
       "prompt_number": 6,
       "text": [
        "Quantum object: dims = [[10, 2], [10, 2]], shape = [20, 20], type = oper, isherm = True\n",
        "Qobj data =\n",
        "[[ -3.14159265   0.           0.           0.           0.           0.\n",
        "    0.           0.           0.           0.           0.           0.\n",
        "    0.           0.           0.           0.           0.           0.\n",
        "    0.           0.        ]\n",
        " [  0.           3.14159265   0.           0.           0.           0.\n",
        "    0.           0.           0.           0.           0.           0.\n",
        "    0.           0.           0.           0.           0.           0.\n",
        "    0.           0.        ]\n",
        " [  0.           0.           3.14159265   0.           0.           0.\n",
        "    0.           0.           0.           0.           0.           0.\n",
        "    0.           0.           0.           0.           0.           0.\n",
        "    0.           0.        ]\n",
        " [  0.           0.           0.           9.42477796   0.           0.\n",
        "    0.           0.           0.           0.           0.           0.\n",
        "    0.           0.           0.           0.           0.           0.\n",
        "    0.           0.        ]\n",
        " [  0.           0.           0.           0.           9.42477796   0.\n",
        "    0.           0.           0.           0.           0.           0.\n",
        "    0.           0.           0.           0.           0.           0.\n",
        "    0.           0.        ]\n",
        " [  0.           0.           0.           0.           0.          15.70796327\n",
        "    0.           0.           0.           0.           0.           0.\n",
        "    0.           0.           0.           0.           0.           0.\n",
        "    0.           0.        ]\n",
        " [  0.           0.           0.           0.           0.           0.\n",
        "   15.70796327   0.           0.           0.           0.           0.\n",
        "    0.           0.           0.           0.           0.           0.\n",
        "    0.           0.        ]\n",
        " [  0.           0.           0.           0.           0.           0.\n",
        "    0.          21.99114858   0.           0.           0.           0.\n",
        "    0.           0.           0.           0.           0.           0.\n",
        "    0.           0.        ]\n",
        " [  0.           0.           0.           0.           0.           0.\n",
        "    0.           0.          21.99114858   0.           0.           0.\n",
        "    0.           0.           0.           0.           0.           0.\n",
        "    0.           0.        ]\n",
        " [  0.           0.           0.           0.           0.           0.\n",
        "    0.           0.           0.          28.27433388   0.           0.\n",
        "    0.           0.           0.           0.           0.           0.\n",
        "    0.           0.        ]\n",
        " [  0.           0.           0.           0.           0.           0.\n",
        "    0.           0.           0.           0.          28.27433388   0.\n",
        "    0.           0.           0.           0.           0.           0.\n",
        "    0.           0.        ]\n",
        " [  0.           0.           0.           0.           0.           0.\n",
        "    0.           0.           0.           0.           0.          34.55751919\n",
        "    0.           0.           0.           0.           0.           0.\n",
        "    0.           0.        ]\n",
        " [  0.           0.           0.           0.           0.           0.\n",
        "    0.           0.           0.           0.           0.           0.\n",
        "   34.55751919   0.           0.           0.           0.           0.\n",
        "    0.           0.        ]\n",
        " [  0.           0.           0.           0.           0.           0.\n",
        "    0.           0.           0.           0.           0.           0.\n",
        "    0.          40.8407045    0.           0.           0.           0.\n",
        "    0.           0.        ]\n",
        " [  0.           0.           0.           0.           0.           0.\n",
        "    0.           0.           0.           0.           0.           0.\n",
        "    0.           0.          40.8407045    0.           0.           0.\n",
        "    0.           0.        ]\n",
        " [  0.           0.           0.           0.           0.           0.\n",
        "    0.           0.           0.           0.           0.           0.\n",
        "    0.           0.           0.          47.1238898    0.           0.\n",
        "    0.           0.        ]\n",
        " [  0.           0.           0.           0.           0.           0.\n",
        "    0.           0.           0.           0.           0.           0.\n",
        "    0.           0.           0.           0.          47.1238898    0.\n",
        "    0.           0.        ]\n",
        " [  0.           0.           0.           0.           0.           0.\n",
        "    0.           0.           0.           0.           0.           0.\n",
        "    0.           0.           0.           0.           0.          53.40707511\n",
        "    0.           0.        ]\n",
        " [  0.           0.           0.           0.           0.           0.\n",
        "    0.           0.           0.           0.           0.           0.\n",
        "    0.           0.           0.           0.           0.           0.\n",
        "   53.40707511   0.        ]\n",
        " [  0.           0.           0.           0.           0.           0.\n",
        "    0.           0.           0.           0.           0.           0.\n",
        "    0.           0.           0.           0.           0.           0.\n",
        "    0.          59.69026042]]"
       ]
      }
     ],
     "prompt_number": 6
    },
    {
     "cell_type": "code",
     "collapsed": false,
     "input": [
      "e_ops = [a.dag() * a, sm.dag() * sm, sm, sp]"
     ],
     "language": "python",
     "metadata": {},
     "outputs": [],
     "prompt_number": 7
    },
    {
     "cell_type": "code",
     "collapsed": false,
     "input": [
      "c_ops = [sqrt(2*kappa) * a, sqrt(W21) * sm, sqrt(W12) * sp]"
     ],
     "language": "python",
     "metadata": {},
     "outputs": [],
     "prompt_number": 8
    },
    {
     "cell_type": "markdown",
     "metadata": {},
     "source": [
      "### Solve without mean-field contribution"
     ]
    },
    {
     "cell_type": "code",
     "collapsed": false,
     "input": [
      "result = mesolve(H, psi0, tlist, c_ops, e_ops, options=Odeoptions(store_final_state=True)) "
     ],
     "language": "python",
     "metadata": {},
     "outputs": [],
     "prompt_number": 9
    },
    {
     "cell_type": "code",
     "collapsed": false,
     "input": [
      "fig, axes = subplots(2,1)\n",
      "\n",
      "axes[0].plot(result.times, result.expect[0], label=r'$a^\\dagger a$')\n",
      "axes[0].plot(result.times, result.expect[1], label=r'$\\sigma_+\\sigma_-$')\n",
      "axes[0].set_ylim(-0.1, 1.1)\n",
      "axes[0].legend();\n",
      "\n",
      "axes[1].plot(result.times, abs(result.expect[2]), label=r'$\\sigma_-$')\n",
      "axes[1].plot(result.times, abs(result.expect[3]), label=r'$\\sigma_+$')\n",
      "axes[1].set_ylim(-0.1, 1.1)\n",
      "axes[1].legend();"
     ],
     "language": "python",
     "metadata": {},
     "outputs": [
      {
       "metadata": {},
       "output_type": "display_data",
       "png": "[encoded data removed]",
       "text": [
        "<matplotlib.figure.Figure at 0x515ba90>"
       ]
      }
     ],
     "prompt_number": 10
    },
    {
     "cell_type": "markdown",
     "metadata": {},
     "source": [
      "#### Visualize the cavity final state"
     ]
    },
    {
     "cell_type": "code",
     "collapsed": false,
     "input": [
      "wigner_fock_distribution(ptrace(result.final_state, 0));"
     ],
     "language": "python",
     "metadata": {},
     "outputs": [
      {
       "metadata": {},
       "output_type": "display_data",
       "png": "[encoded data removed]",
       "text": [
        "<matplotlib.figure.Figure at 0x514fd10>"
       ]
      }
     ],
     "prompt_number": 11
    },
    {
     "cell_type": "markdown",
     "metadata": {},
     "source": [
      "### Threshold"
     ]
    },
    {
     "cell_type": "code",
     "collapsed": false,
     "input": [
      "d = (W12 - W21) / (W12 + W21)\n",
      "\n",
      "d"
     ],
     "language": "python",
     "metadata": {},
     "outputs": [
      {
       "metadata": {},
       "output_type": "pyout",
       "prompt_number": 12,
       "text": [
        "0.6666666666666666"
       ]
      }
     ],
     "prompt_number": 12
    },
    {
     "cell_type": "code",
     "collapsed": false,
     "input": [
      "gamma = 0.5 * (W12 + W21)\n",
      "\n",
      "gamma"
     ],
     "language": "python",
     "metadata": {},
     "outputs": [
      {
       "metadata": {},
       "output_type": "pyout",
       "prompt_number": 13,
       "text": [
        "0.030000000000000002"
       ]
      }
     ],
     "prompt_number": 13
    },
    {
     "cell_type": "code",
     "collapsed": false,
     "input": [
      "C = d * (g/(2*pi)) ** 2 / (gamma * kappa)\n",
      "\n",
      "C"
     ],
     "language": "python",
     "metadata": {},
     "outputs": [
      {
       "metadata": {},
       "output_type": "pyout",
       "prompt_number": 14,
       "text": [
        "44.44444444444445"
       ]
      }
     ],
     "prompt_number": 14
    },
    {
     "cell_type": "markdown",
     "metadata": {},
     "source": [
      "### Solve with mean-field contribution"
     ]
    },
    {
     "cell_type": "markdown",
     "metadata": {},
     "source": [
      "$\\displaystyle \n",
      "H_{\\rm eff}(\\rho, t) = \\omega a^\\dagger a + \\frac{1}{2}\\omega\\sigma_z\n",
      "+ ig\\left({\\rm Tr}[\\sigma_-\\rho] a^\\dagger - {\\rm Tr}[\\sigma_+\\rho] a\\right)\n",
      "+ ig\\left({\\rm Tr}[a^\\dagger\\rho] \\sigma_- - {\\rm Tr}[a\\rho] \\sigma_+\\right)\n",
      "$"
     ]
    },
    {
     "cell_type": "code",
     "collapsed": false,
     "input": [
      "def Heff(t, rho, args):\n",
      "    \"\"\" not an optimized implementation ... \"\"\"\n",
      "    q_rho = Qobj(vec2mat(rho))\n",
      "    Heff = 1.0j * g * (expect(sm, q_rho) * a.dag() - expect(sp, q_rho) * a) \\\n",
      "         + 1.0j * g * (expect(a.dag(), q_rho) * sm - expect(a, q_rho) * sp)\n",
      "    \n",
      "    return args[0] + liouvillian_fast(Heff, []).data"
     ],
     "language": "python",
     "metadata": {},
     "outputs": [],
     "prompt_number": 15
    },
    {
     "cell_type": "code",
     "collapsed": false,
     "input": [
      "sop_a_data = liouvillian_fast(a, []).data\n",
      "sop_ad_data = liouvillian_fast(a.dag(), []).data\n",
      "sop_sm_data = liouvillian_fast(sm, []).data\n",
      "sop_sp_data = liouvillian_fast(sp, []).data\n",
      "\n",
      "def Heff_fast(t, rho, args):\n",
      "    \"\"\" a somewhat more optimized version ... \"\"\"\n",
      "    q_rho = Qobj(vec2mat(rho), isherm=True)\n",
      "\n",
      "    phi_sm = expect(sm, q_rho)\n",
      "    phi_a = expect(a, q_rho)\n",
      "    \n",
      "    Heff = 1.0j * g * (phi_sm * sop_ad_data  - conjugate(phi_sm) * sop_a_data) \\\n",
      "         + 1.0j * g * (conjugate(phi_a) * sop_sm_data - phi_a * sop_sp_data)\n",
      "    \n",
      "    return args[0] + Heff"
     ],
     "language": "python",
     "metadata": {},
     "outputs": [],
     "prompt_number": 16
    },
    {
     "cell_type": "code",
     "collapsed": false,
     "input": [
      "#result = mesolve(Heff_fast, psi0, tlist, c_ops, e_ops, args=[H], options=Odeoptions(rhs_with_state=True))"
     ],
     "language": "python",
     "metadata": {},
     "outputs": [],
     "prompt_number": 17
    },
    {
     "cell_type": "code",
     "collapsed": false,
     "input": [
      "#result = mesolve(Heff_fast, psi0, tlist, c_ops, e_ops, args=[H],\n",
      "#                 options=Odeoptions(rhs_with_state=True), progress_bar=HTMLProgressBar())"
     ],
     "language": "python",
     "metadata": {},
     "outputs": [],
     "prompt_number": 18
    },
    {
     "cell_type": "code",
     "collapsed": false,
     "input": [
      "result = mesolve(Heff_fast, psi0, tlist, c_ops, e_ops, args=[H],\n",
      "                 options=Odeoptions(rhs_with_state=True, store_final_state=True), progress_bar=TextProgressBar())"
     ],
     "language": "python",
     "metadata": {},
     "outputs": [
      {
       "output_type": "stream",
       "stream": "stdout",
       "text": [
        "Completed:  0.0%. Elapsed time:   0.00s. Est. remaining time: 00:00:00:00.\n",
        "Completed: 10.0%. Elapsed time:  17.38s. Est. remaining time: 00:00:02:36."
       ]
      },
      {
       "output_type": "stream",
       "stream": "stdout",
       "text": [
        "\n",
        "Completed: 20.0%. Elapsed time:  35.38s. Est. remaining time: 00:00:02:21."
       ]
      },
      {
       "output_type": "stream",
       "stream": "stdout",
       "text": [
        "\n",
        "Completed: 30.0%. Elapsed time:  53.63s. Est. remaining time: 00:00:02:05."
       ]
      },
      {
       "output_type": "stream",
       "stream": "stdout",
       "text": [
        "\n",
        "Completed: 40.0%. Elapsed time:  77.83s. Est. remaining time: 00:00:01:56."
       ]
      },
      {
       "output_type": "stream",
       "stream": "stdout",
       "text": [
        "\n",
        "Completed: 50.0%. Elapsed time: 102.02s. Est. remaining time: 00:00:01:42."
       ]
      },
      {
       "output_type": "stream",
       "stream": "stdout",
       "text": [
        "\n",
        "Completed: 60.0%. Elapsed time: 126.23s. Est. remaining time: 00:00:01:24."
       ]
      },
      {
       "output_type": "stream",
       "stream": "stdout",
       "text": [
        "\n",
        "Completed: 70.0%. Elapsed time: 150.45s. Est. remaining time: 00:00:01:04."
       ]
      },
      {
       "output_type": "stream",
       "stream": "stdout",
       "text": [
        "\n",
        "Completed: 80.0%. Elapsed time: 174.64s. Est. remaining time: 00:00:00:43."
       ]
      },
      {
       "output_type": "stream",
       "stream": "stdout",
       "text": [
        "\n",
        "Completed: 90.0%. Elapsed time: 198.85s. Est. remaining time: 00:00:00:22."
       ]
      },
      {
       "output_type": "stream",
       "stream": "stdout",
       "text": [
        "\n",
        "Elapsed time: 223.08s"
       ]
      },
      {
       "output_type": "stream",
       "stream": "stdout",
       "text": [
        "\n"
       ]
      }
     ],
     "prompt_number": 19
    },
    {
     "cell_type": "code",
     "collapsed": false,
     "input": [
      "fig, ax = subplots()\n",
      "\n",
      "ax.plot(result.times, result.expect[0], label=r'$a^\\dagger a$')\n",
      "ax.plot(result.times, result.expect[1], label=r'$\\sigma_+\\sigma_-$')\n",
      "ax.set_ylim(-0.1, 3)\n",
      "ax.legend();"
     ],
     "language": "python",
     "metadata": {},
     "outputs": [
      {
       "metadata": {},
       "output_type": "display_data",
       "png": "[encoded data removed]",
       "text": [
        "<matplotlib.figure.Figure at 0x5977bd0>"
       ]
      }
     ],
     "prompt_number": 20
    },
    {
     "cell_type": "markdown",
     "metadata": {},
     "source": [
      "#### Visualize the cavity final state"
     ]
    },
    {
     "cell_type": "code",
     "collapsed": false,
     "input": [
      "wigner_fock_distribution(ptrace(result.final_state, 0));"
     ],
     "language": "python",
     "metadata": {},
     "outputs": [
      {
       "metadata": {},
       "output_type": "display_data",
       "png": "[encoded data removed]",
       "text": [
        "<matplotlib.figure.Figure at 0x514fd50>"
       ]
      }
     ],
     "prompt_number": 21
    },
    {
     "cell_type": "markdown",
     "metadata": {},
     "source": [
      "### Software versions"
     ]
    },
    {
     "cell_type": "code",
     "collapsed": false,
     "input": [
      "from qutip.ipynbtools import version_table\n",
      "\n",
      "version_table()"
     ],
     "language": "python",
     "metadata": {},
     "outputs": [
      {
       "html": [
        "<table><tr><th>Software</th><th>Version</th></tr><tr><td>Cython</td><td>0.19-dev</td></tr><tr><td>SciPy</td><td>0.13.0.dev-38ad5d2</td></tr><tr><td>QuTiP</td><td>2.3.0.dev-c95aede</td></tr><tr><td>Python</td><td>2.7.4 (default, Apr 19 2013, 18:28:01) \n",
        "[GCC 4.7.3]</td></tr><tr><td>IPython</td><td>1.0.dev</td></tr><tr><td>OS</td><td>posix [linux2]</td></tr><tr><td>Numpy</td><td>1.8.0.dev-bd7104c</td></tr><tr><td>matplotlib</td><td>1.3.x</td></tr><tr><td colspan='2'>Thu May 30 12:03:58 2013 JST</td></tr></table>"
       ],
       "metadata": {},
       "output_type": "pyout",
       "prompt_number": 22,
       "text": [
        "<IPython.core.display.HTML at 0x53c0e10>"
       ]
      }
     ],
     "prompt_number": 22
    }
   ],
   "metadata": {}
  }
 ]
}